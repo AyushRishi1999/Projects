{
  "nbformat": 4,
  "nbformat_minor": 0,
  "metadata": {
    "colab": {
      "provenance": []
    },
    "kernelspec": {
      "name": "python3",
      "display_name": "Python 3"
    },
    "language_info": {
      "name": "python"
    }
  },
  "cells": [
    {
      "cell_type": "markdown",
      "source": [
        "## Import & Install Statements"
      ],
      "metadata": {
        "id": "3jEdennjzJwU"
      }
    },
    {
      "cell_type": "code",
      "source": [
        "# Import statements\n",
        "\n",
        "import pandas as pd\n",
        "import numpy as np\n",
        "import re\n",
        "import random\n",
        "\n",
        "import nltk\n",
        "from nltk.sentiment import SentimentIntensityAnalyzer\n",
        "from nltk.corpus import stopwords\n",
        "\n",
        "nltk.download('vader_lexicon')\n",
        "nltk.download('stopwords')\n",
        "\n",
        "sia = SentimentIntensityAnalyzer()\n",
        "stop_words = set(stopwords.words('english'))\n",
        "\n",
        "import spacy\n",
        "nlp = spacy.load('en_core_web_sm')\n",
        "\n",
        "from sklearn.model_selection import train_test_split\n",
        "\n",
        "from transformers import T5Tokenizer"
      ],
      "metadata": {
        "colab": {
          "base_uri": "https://localhost:8080/"
        },
        "id": "vRMXTTJRedwR",
        "outputId": "4840b015-5c94-4f91-eb5f-2baab1448883"
      },
      "execution_count": null,
      "outputs": [
        {
          "output_type": "stream",
          "name": "stderr",
          "text": [
            "[nltk_data] Downloading package vader_lexicon to /root/nltk_data...\n",
            "[nltk_data]   Package vader_lexicon is already up-to-date!\n",
            "[nltk_data] Downloading package stopwords to /root/nltk_data...\n",
            "[nltk_data]   Package stopwords is already up-to-date!\n"
          ]
        }
      ]
    },
    {
      "cell_type": "markdown",
      "source": [
        "## Important Stop Words List Creation & Feedback Template Generation"
      ],
      "metadata": {
        "id": "owm15kn8zOdP"
      }
    },
    {
      "cell_type": "code",
      "source": [
        "# Create a list of important contextual stopwords that we don't want to get rid of.\n",
        "\n",
        "important_stopwords = {'the', 'you', 'i', 'to', 'for', 'and', 'your', 'that', 'a', 'with', 'is', 'can', 'have', 'it', 'please', 'me', 'my', 'on', 'of', 'we', 'was', 'there', 'in', 'if', 'will', 'this', 're', 'our', 'any', 'any', 'or'}\n",
        "stop_words = stop_words - important_stopwords"
      ],
      "metadata": {
        "id": "QzkcdOxPn4QQ"
      },
      "execution_count": null,
      "outputs": []
    },
    {
      "cell_type": "code",
      "source": [
        "# Create a series of evaluation templates for the model to apply to conversations.\n",
        "\n",
        "feedback_templates = {\n",
        "    \"empathy_shown\": [\n",
        "        \"The agent ackowledged the customer's emotions well.\",\n",
        "        \"The agent displayed strong empathy toward the customer's situation.\",\n",
        "        \"Good job addressing the customer's feelings with empathy.\",\n",
        "        \"The agent showed genuine concern for the customer's emotions.\",\n",
        "        \"Empathy was clearly demonstrated by the agent.\",\n",
        "        \"The agent was considerate of the customer's stress.\",\n",
        "        \"The response demonstrated the agent's understanding of the customer's frustration.\",\n",
        "        \"The agent showed sympathy for the customer's predicament.\",\n",
        "        \"The agent's reponse was empathetic and acknowledged the customer's difficulty.\",\n",
        "        \"The agent showed understanding and compassion for the customer's issue.\"\n",
        "    ],\n",
        "    \"clarity_instructions\": [\n",
        "        \"The instructions provided were clear and concise.\",\n",
        "        \"The agent provided clear and actionable steps.\",\n",
        "        \"The guidance was straighforward and easy to follow.\",\n",
        "        \"The customer received detailed and comprehensible instructions.\",\n",
        "        \"The agent's directions were simple and easy to understand.\",\n",
        "        \"The agent provided well-structured and easy-to-follow steps.\",\n",
        "        \"The instructions given were precise and to the point.\",\n",
        "        \"The agent provided easy-to-digest steps for the customer.\",\n",
        "        \"The guidance was organized logically, making it easy for the customer to proceed.\",\n",
        "        \"The agent offered actionable and digestable guidance for resolution.\"\n",
        "    ],\n",
        "    \"tone_matching\": [\n",
        "        \"The agent's tone was well-aligned with the customer's sentiment.\",\n",
        "        \"The response tone was appropriately balanced with the customer's emotions.\",\n",
        "        \"The agent's tone resonated well with the customer's mood.\",\n",
        "        \"The agent maintained a supportive and understanding tone.\",\n",
        "        \"The agent's tone was suitable for the customer's level of frustration.\",\n",
        "        \"The tone conveyed a sense of urgency that matched the customer's needs.\",\n",
        "        \"The agent responded in a measured way that reflected the customer's initial message.\",\n",
        "        \"The tone conveyed a helpful attitude, showing attentiveness to the customer's concerns.\"\n",
        "    ],\n",
        "    \"missed_concern\":[\n",
        "        \"The agent may have overlooked a primary concern of the customer.\",\n",
        "        \"There is a chance the agent missed addressing a key part of the customer's query.\",\n",
        "        \"The agent didn't fully cover the main point of the customer's concern.\",\n",
        "        \"The response could have been more thorough in addressing all the customer's issues.\",\n",
        "        \"The agent could have paid more attention to an important aspect of the customer's question.\",\n",
        "        \"The agent did not address an implied question from the customer.\",\n",
        "        \"The customer's underlying issue wasn't fully explored in the response.\",\n",
        "        \"The response might have benefitted from more proactive anticipation of follow-up concerns.\",\n",
        "        \"The agent didn't ask clarifying questions that could have addressed the issue comprehensively.\"\n",
        "    ]\n",
        "}"
      ],
      "metadata": {
        "id": "RR21s2Jted-c"
      },
      "execution_count": null,
      "outputs": []
    },
    {
      "cell_type": "markdown",
      "source": [
        "## Adding Feedback Templates to the data"
      ],
      "metadata": {
        "id": "qPDSyjuLzWkA"
      }
    },
    {
      "cell_type": "code",
      "source": [
        "customer_df = pd.read_csv('/content/customer_service_df_with_daily_dialog_labels.csv')"
      ],
      "metadata": {
        "id": "BmxEIQW_eeME"
      },
      "execution_count": null,
      "outputs": []
    },
    {
      "cell_type": "code",
      "source": [
        "# Take the feedback templates above and apply them to the data based on context.\n",
        "\n",
        "def generate_contextual_feedback(row):\n",
        "  feedback = []\n",
        "  if row['issue_complexity'] == 'high':\n",
        "    feedback.append(\"The customer is dealing with a complex issue. Detailed and empathatic guidance is necessary.\")\n",
        "  elif row['issue_complexity'] == 'medium':\n",
        "    feedback.append(\"The customer issue is moderately complex. Clarity and step-by-step assistance are beneficial.\")\n",
        "  else:\n",
        "    feedback.append(\"This is a straightforward issue. Quick, clear guidance is effective.\")\n",
        "\n",
        "  customer_sentiment = sia.polarity_scores(str(row['input']))['compound']\n",
        "  agent_sentiment = sia.polarity_scores(str(row['response']))['compound']\n",
        "\n",
        "  if customer_sentiment < -0.3 and agent_sentiment > 0.3:\n",
        "    feedback.append(\"The agent's response tone was positive despite customer frustration, which may not be appropriate.\")\n",
        "  elif customer_sentiment < -0.3 and agent_sentiment < 0:\n",
        "    feedback.append(\"The agent's response acknowledged the customer's frustration appropriately.\")\n",
        "  else:\n",
        "    feedback.append(\"The agent's response tone matched the customer's sentiment well.\")\n",
        "  return \" \".join(feedback)"
      ],
      "metadata": {
        "id": "WE3EgQMqeeTT"
      },
      "execution_count": null,
      "outputs": []
    },
    {
      "cell_type": "code",
      "source": [
        "# In order to not have the data repeat the same feedback for every row, use the random function to create a more variety for the model to better learn from.\n",
        "\n",
        "def generate_diverse_feedback(row):\n",
        "  feedback = []\n",
        "\n",
        "  feedback.append(generate_contextual_feedback(row))\n",
        "\n",
        "  feedback.append(random.choice(feedback_templates[\"empathy_shown\"]))\n",
        "  feedback.append(random.choice(feedback_templates[\"clarity_instructions\"]))\n",
        "  feedback.append(random.choice(feedback_templates[\"tone_matching\"]))\n",
        "  if random.random() < 0.5:\n",
        "    feedback.append(random.choice(feedback_templates[\"missed_concern\"]))\n",
        "  return \" \".join(feedback)"
      ],
      "metadata": {
        "id": "8HXApDnbeec9"
      },
      "execution_count": null,
      "outputs": []
    },
    {
      "cell_type": "code",
      "source": [
        "# Apply the feedback templates to the data.\n",
        "\n",
        "def prepare_finetuning_data(row):\n",
        "  input_text = f\"Conversation: {row['input']} ||| {row['response']}. Issue: {row['issue_category']}. Complexity: {row['issue_complexity']}.\"\n",
        "\n",
        "  diverse_feedback = generate_diverse_feedback(row)\n",
        "  return pd.Series([input_text, diverse_feedback], index = ['input_for_model', 'diverse_output_for_model'])\n",
        "\n",
        "finetuning_data = customer_df.apply(prepare_finetuning_data, axis = 1)"
      ],
      "metadata": {
        "id": "LLzNwFjAeelF"
      },
      "execution_count": null,
      "outputs": []
    },
    {
      "cell_type": "code",
      "source": [
        "# Add issue complexity & customer sentiment to finetuning data as that's now the dataframe we're going to be working from.\n",
        "finetuning_data['issue_complexity'] = customer_df['issue_complexity']\n",
        "finetuning_data['customer_sentiment'] = customer_df['customer_sentiment']"
      ],
      "metadata": {
        "id": "VAdi73loy6t_"
      },
      "execution_count": null,
      "outputs": []
    },
    {
      "cell_type": "code",
      "source": [
        "# # Save finetuning data to a csv file.\n",
        "# finetuning_data.to_csv('enhanced_finetuning_data_with_diversified_feedback.csv')"
      ],
      "metadata": {
        "id": "xrz3LaG8YfGE"
      },
      "execution_count": null,
      "outputs": []
    },
    {
      "cell_type": "code",
      "source": [
        "# Reload the dataframe; keep the name as customer_df_diversified_feedback for continuity with previous code.\n",
        "customer_df_diversified_feedback = pd.read_csv('/content/enhanced_finetuning_data_with_diversified_feedback.csv')"
      ],
      "metadata": {
        "id": "d9oGNJITy6w3"
      },
      "execution_count": null,
      "outputs": []
    },
    {
      "cell_type": "markdown",
      "source": [
        "## Feature Engineering"
      ],
      "metadata": {
        "id": "mA46_VTnzbpf"
      }
    },
    {
      "cell_type": "code",
      "source": [
        "# Create a text cleaning function.\n",
        "def clean_text(text):\n",
        "  if not isinstance(text, str):\n",
        "    return \"\"\n",
        "  text = text.lower()\n",
        "  text = re.sub(r'http\\S+|www\\S+|https\\S+', '', text, flags = re.MULTILINE)\n",
        "  text = re.sub(r'[^a-z\\s]', '', text)\n",
        "  text = re.sub(r'\\s+', ' ', text).strip()\n",
        "  text = ' '.join([word for word in text.split() if word not in stop_words])\n",
        "  return text"
      ],
      "metadata": {
        "id": "_V34peJjy6zv"
      },
      "execution_count": null,
      "outputs": []
    },
    {
      "cell_type": "code",
      "source": [
        "# Clean the text for input and output and create two new columns instead of overriding the original data; while we could've just applied it to the columns instead of creating new ones, this gives us flexibility for data prep for training the model and we can easily drop the original columns as needed.\n",
        "customer_df_diversified_feedback['cleaned_input'] = customer_df_diversified_feedback['input_for_model'].apply(clean_text)\n",
        "customer_df_diversified_feedback['cleaned_output'] = customer_df_diversified_feedback['diverse_output_for_model'].apply(clean_text)"
      ],
      "metadata": {
        "id": "6-KwpruAy62g"
      },
      "execution_count": null,
      "outputs": []
    },
    {
      "cell_type": "code",
      "source": [
        "# Create two new features that give us the length of the new input & output columns.\n",
        "\n",
        "customer_df_diversified_feedback['adjusted_input_length'] = customer_df_diversified_feedback['cleaned_input'].apply(lambda x: len(x.split()))\n",
        "customer_df_diversified_feedback['adjusted_output_length'] = customer_df_diversified_feedback['cleaned_output'].apply(lambda x: len(x.split()))"
      ],
      "metadata": {
        "id": "_GPMCWS_eetW"
      },
      "execution_count": null,
      "outputs": []
    },
    {
      "cell_type": "code",
      "source": [
        "# Create a function that checks how the input & output match in terms of keyword matches.\n",
        "def keyword_match_feedback(row):\n",
        "  input_keywords = set(row['cleaned_input'].split())\n",
        "  output_keywords = set(row['cleaned_output'].split())\n",
        "  match_count = len(input_keywords.intersection(output_keywords))\n",
        "  return match_count/len(input_keywords) if len(input_keywords) > 0 else 0\n",
        "\n",
        "customer_df_diversified_feedback['keyword_match_ratio'] = customer_df_diversified_feedback.apply(keyword_match_feedback, axis = 1)"
      ],
      "metadata": {
        "id": "vaXc6e2lAelw"
      },
      "execution_count": null,
      "outputs": []
    },
    {
      "cell_type": "code",
      "source": [
        "# Scale the keyword match ratios to a 1-10 scale and a 1-100 scale.\n",
        "def scale_keyword_match_ratio_1_10(ratio):\n",
        "  return((ratio + 1)/2 * 9 + 1)\n",
        "def scale_keyword_match_ratio_1_100(ratio):\n",
        "  return((ratio + 1)/2 * 99 + 1)\n",
        "\n",
        "customer_df_diversified_feedback['keyword_match_ratio_1_10'] = customer_df_diversified_feedback['keyword_match_ratio'].apply(scale_keyword_match_ratio_1_10)\n",
        "customer_df_diversified_feedback['keyword_match_ratio_1_100'] = customer_df_diversified_feedback['keyword_match_ratio'].apply(scale_keyword_match_ratio_1_100)"
      ],
      "metadata": {
        "id": "F7k0A2TlA8cV"
      },
      "execution_count": null,
      "outputs": []
    },
    {
      "cell_type": "code",
      "source": [
        "# Add sentiment scores to the input.\n",
        "customer_df_diversified_feedback['input_sentiment'] = customer_df_diversified_feedback['input_for_model'].apply(lambda x: sia.polarity_scores(x)['compound'])"
      ],
      "metadata": {
        "id": "zrHhR0B4BJ1e"
      },
      "execution_count": null,
      "outputs": []
    },
    {
      "cell_type": "code",
      "source": [
        "# Scale the sentiment scores to a 1-10 and a 1-100 scale.\n",
        "\n",
        "def scale_sentiment_1_10(score):\n",
        "  return((score + 1)/2 * 9 + 1)\n",
        "def scale_sentiment_1_100(score):\n",
        "  return((score + 1)/2 * 99 + 1)\n",
        "\n",
        "customer_df_diversified_feedback['input_sentiment_1_10'] = customer_df_diversified_feedback['input_sentiment'].apply(scale_sentiment_1_10)\n",
        "customer_df_diversified_feedback['input_sentiment_1_100'] = customer_df_diversified_feedback['input_sentiment'].apply(scale_sentiment_1_100)"
      ],
      "metadata": {
        "id": "AX6XV4wICqcT"
      },
      "execution_count": null,
      "outputs": []
    },
    {
      "cell_type": "code",
      "source": [
        "# Add markers for indicating politeness & empathy.\n",
        "\n",
        "def add_politeness_empathy_markers(text):\n",
        "  politeness_markers = ['please', 'thank', 'thanks', 'sorry', 'apologies', 'kindly', 'sure', 'may']\n",
        "  empathy_markers = ['understand', 'empathize', 'frustration', 'concern', 'appreciate', 'unfortunate', 'help', 'assist', 'concern']\n",
        "\n",
        "  politeness_count = sum(text.count(marker) for marker in politeness_markers)\n",
        "  empathy_count = sum(text.count(marker) for marker in empathy_markers)\n",
        "\n",
        "  return politeness_count, empathy_count\n",
        "\n",
        "customer_df_diversified_feedback[['politeness_count_input', 'empathy_count_input']] = customer_df_diversified_feedback['cleaned_input'].apply(\n",
        "    lambda x: pd.Series(add_politeness_empathy_markers(x))\n",
        ")\n",
        "\n",
        "customer_df_diversified_feedback[['politeness_count_output', 'empathy_count_output']] = customer_df_diversified_feedback['cleaned_output'].apply(\n",
        "    lambda x: pd.Series(add_politeness_empathy_markers(x))\n",
        ")"
      ],
      "metadata": {
        "id": "0FtgsjJhDG8t"
      },
      "execution_count": null,
      "outputs": []
    },
    {
      "cell_type": "code",
      "source": [
        "# Take out entities for input & output for applying it in the function below.\n",
        "\n",
        "def extract_entities(text):\n",
        "  doc = nlp(text)\n",
        "  entities = [ent.text for ent in doc.ents]\n",
        "  return entities\n",
        "\n",
        "customer_df_diversified_feedback['input_entities'] = customer_df_diversified_feedback['cleaned_input'].apply(extract_entities)\n",
        "customer_df_diversified_feedback['output_entities'] = customer_df_diversified_feedback['cleaned_output'].apply(extract_entities)"
      ],
      "metadata": {
        "id": "yPbIDDaTTbhO"
      },
      "execution_count": null,
      "outputs": []
    },
    {
      "cell_type": "code",
      "source": [
        "# Taking out the entities allows us to create an entity match ratio. The entity match ratio essentially tells us how well agents address things that the customer mentions in the conversation.\n",
        "\n",
        "def entity_match_ratio(row):\n",
        "  input_entities = set(row['input_entities'])\n",
        "  output_entities = set(row['output_entities'])\n",
        "\n",
        "  if len(input_entities) == 0:\n",
        "    return 0\n",
        "  return len(input_entities.intersection(output_entities))/len(input_entities)\n",
        "\n",
        "customer_df_diversified_feedback['entity_match_ratio'] = customer_df_diversified_feedback.apply(entity_match_ratio, axis = 1)"
      ],
      "metadata": {
        "id": "_x7o4mjQUE6z"
      },
      "execution_count": null,
      "outputs": []
    },
    {
      "cell_type": "code",
      "source": [
        "# Save the feature-engineered data frame to a csv file, and then reload it below.\n",
        "# customer_df_diversified_feedback.to_csv('customer_finetuning_data_preprocessed.csv', index = False)"
      ],
      "metadata": {
        "id": "zju3H6xpUl7O"
      },
      "execution_count": null,
      "outputs": []
    },
    {
      "cell_type": "markdown",
      "source": [
        "## Creating the Fully Feature-Engineered Dataset"
      ],
      "metadata": {
        "id": "Ts1MtMVazqoo"
      }
    },
    {
      "cell_type": "code",
      "source": [
        "finetuning_data = pd.read_csv('/content/customer_finetuning_data_preprocessed.csv')"
      ],
      "metadata": {
        "id": "LFrfykJccz3y"
      },
      "execution_count": null,
      "outputs": []
    },
    {
      "cell_type": "code",
      "source": [
        "# Let's take a look at the full expanded data frame.\n",
        "finetuning_data.columns"
      ],
      "metadata": {
        "colab": {
          "base_uri": "https://localhost:8080/"
        },
        "id": "CwfL4mC9ebQN",
        "outputId": "e81e101e-5731-4039-d902-dee573f74076"
      },
      "execution_count": null,
      "outputs": [
        {
          "output_type": "execute_result",
          "data": {
            "text/plain": [
              "Index(['issue_area', 'issue_category', 'issue_sub_category',\n",
              "       'issue_category_sub_category', 'customer_sentiment', 'product_category',\n",
              "       'product_sub_category', 'issue_complexity', 'agent_experience_level',\n",
              "       'agent_experience_level_desc', 'conversation_id',\n",
              "       'full_conversation_iteratively_updated', 'dialogue_act_label',\n",
              "       'emotion_label', 'response_sentiment', 'sentiment_label', 'input',\n",
              "       'response', 'context', 'contextual_feedback', 'key_phrases_input',\n",
              "       'key_phrases_response', 'keyword_feedback', 'dynamic_feedback',\n",
              "       'input_for_model', 'output_for_model', 'diverse_output_for_model',\n",
              "       'cleaned_input', 'cleaned_output', 'adjusted_input_length',\n",
              "       'adjusted_output_length', 'keyword_match_ratio',\n",
              "       'keyword_match_ratio_1_10', 'keyword_match_ratio_1_100',\n",
              "       'input_sentiment', 'input_sentiment_1_10', 'input_sentiment_1_100',\n",
              "       'cleaned_input_sentiment', 'cleaned_input_sentiment_1_10',\n",
              "       'cleaned_input_sentiment_1_100', 'politeness_count_input',\n",
              "       'empathy_count_input', 'politeness_count_output',\n",
              "       'empathy_count_output', 'input_entities', 'output_entities',\n",
              "       'entity_match_ratio'],\n",
              "      dtype='object')"
            ]
          },
          "metadata": {},
          "execution_count": 218
        }
      ]
    },
    {
      "cell_type": "code",
      "source": [
        "# Let's create a list of some of the columns that we think are important for this section.\n",
        "columns_to_keep = ['input', 'response', 'issue_complexity', 'customer_sentiment', 'agent_experience_level', 'cleaned_output']"
      ],
      "metadata": {
        "id": "ybbq4tEpUvWa"
      },
      "execution_count": null,
      "outputs": []
    },
    {
      "cell_type": "code",
      "source": [
        "'''\n",
        "Preprocess the data for training. The goal here is to reduce the load on the model so that we're not giving it a highly complex dataset with a lot of columns that it has to juggle.\n",
        "So let's add the metadata for the columns to keep list above to a column called input_text that's going to contain the conversation along with this metadata.\n",
        "'''\n",
        "def preprocess_for_training(row):\n",
        "  input_text = (\n",
        "      f\"Customer Issue:\\n{row['input']}\\n\\n\"\n",
        "      f\"Agent Reponse:\\n{row['response']}\\n\\n\"\n",
        "      f\"Issue Complexity:\\n{row['issue_complexity']}\\n\\n\"\n",
        "      f\"Customer Sentiment:\\n{row['customer_sentiment']}\\n\\n\"\n",
        "      f\"Agent Experience Level:\\n{row['agent_experience_level']}\\n\\n\"\n",
        "      f\"Task: Evaluate the agent's performance in terms of empathy, clarity, and tone.\"\n",
        "  )\n",
        "\n",
        "  output_text = row['cleaned_output']\n",
        "  return input_text, output_text"
      ],
      "metadata": {
        "id": "DsdYy2nCdM7T"
      },
      "execution_count": null,
      "outputs": []
    },
    {
      "cell_type": "code",
      "source": [
        "# Apply the function to the entire dataset and turn each row into new input & output pairs for model training.\n",
        "finetuning_data.loc[:, ['input_text', 'output_text']] = finetuning_data.apply(\n",
        "    lambda row: preprocess_for_training(row), axis = 1, result_type = 'expand'\n",
        ")"
      ],
      "metadata": {
        "id": "JMcl8tsPfqAY"
      },
      "execution_count": null,
      "outputs": []
    },
    {
      "cell_type": "code",
      "source": [
        "# Read the dataset again for concatenation & merging.\n",
        "finetuning_data_preprocessed = pd.read_csv('/content/customer_finetuning_data_preprocessed.csv')"
      ],
      "metadata": {
        "id": "6B0EKg4Ae_Sh"
      },
      "execution_count": null,
      "outputs": []
    },
    {
      "cell_type": "code",
      "source": [
        "# Concatenate & merge the new input/output pairs to the original dataset\n",
        "merged_finetuning_data = pd.concat([finetuning_data_preprocessed, finetuning_data[['input_text', 'output_text']]], axis = 1)"
      ],
      "metadata": {
        "id": "aGfYV59MfDrL"
      },
      "execution_count": null,
      "outputs": []
    },
    {
      "cell_type": "code",
      "source": [
        "# Apply the diverse feedback from above to the new output pair column that we just created.\n",
        "merged_finetuning_data['output_text'] = finetuning_data.apply(generate_diverse_feedback, axis = 1)"
      ],
      "metadata": {
        "id": "AyZrTzLIm3J6"
      },
      "execution_count": null,
      "outputs": []
    },
    {
      "cell_type": "code",
      "source": [
        "# Take one final look at the dataset columns.\n",
        "print('Final Dataset Columns:')\n",
        "merged_finetuning_data.columns"
      ],
      "metadata": {
        "colab": {
          "base_uri": "https://localhost:8080/"
        },
        "id": "l7uQqhs_ff4q",
        "outputId": "f22df619-df44-4d9b-9f8c-012b21ad2164"
      },
      "execution_count": null,
      "outputs": [
        {
          "output_type": "stream",
          "name": "stdout",
          "text": [
            "Final Dataset Columns:\n"
          ]
        },
        {
          "output_type": "execute_result",
          "data": {
            "text/plain": [
              "Index(['issue_area', 'issue_category', 'issue_sub_category',\n",
              "       'issue_category_sub_category', 'customer_sentiment', 'product_category',\n",
              "       'product_sub_category', 'issue_complexity', 'agent_experience_level',\n",
              "       'agent_experience_level_desc', 'conversation_id',\n",
              "       'full_conversation_iteratively_updated', 'dialogue_act_label',\n",
              "       'emotion_label', 'response_sentiment', 'sentiment_label', 'input',\n",
              "       'response', 'context', 'contextual_feedback', 'key_phrases_input',\n",
              "       'key_phrases_response', 'keyword_feedback', 'dynamic_feedback',\n",
              "       'input_for_model', 'output_for_model', 'diverse_output_for_model',\n",
              "       'cleaned_input', 'cleaned_output', 'adjusted_input_length',\n",
              "       'adjusted_output_length', 'keyword_match_ratio',\n",
              "       'keyword_match_ratio_1_10', 'keyword_match_ratio_1_100',\n",
              "       'input_sentiment', 'input_sentiment_1_10', 'input_sentiment_1_100',\n",
              "       'cleaned_input_sentiment', 'cleaned_input_sentiment_1_10',\n",
              "       'cleaned_input_sentiment_1_100', 'politeness_count_input',\n",
              "       'empathy_count_input', 'politeness_count_output',\n",
              "       'empathy_count_output', 'input_entities', 'output_entities',\n",
              "       'entity_match_ratio', 'input_text', 'output_text'],\n",
              "      dtype='object')"
            ]
          },
          "metadata": {},
          "execution_count": 228
        }
      ]
    },
    {
      "cell_type": "code",
      "source": [
        "# Take a look at the first 5 rows of the data frame.\n",
        "merged_finetuning_data.head()"
      ],
      "metadata": {
        "colab": {
          "base_uri": "https://localhost:8080/",
          "height": 568
        },
        "id": "p95eefIQg98x",
        "outputId": "7eaac76c-a26c-4447-8f55-572914102891"
      },
      "execution_count": null,
      "outputs": [
        {
          "output_type": "execute_result",
          "data": {
            "text/plain": [
              "                  issue_area                        issue_category  \\\n",
              "0          Login and Account  Mobile Number and Email Verification   \n",
              "1  Cancellations and returns                   Pickup and Shipping   \n",
              "2  Cancellations and returns        Replacement and Return Process   \n",
              "3          Login and Account       Login Issues and Error Messages   \n",
              "4                      Order                 Order Delivery Issues   \n",
              "\n",
              "                                  issue_sub_category  \\\n",
              "0  Verification requirement for mobile number or ...   \n",
              "1           Reasons for being asked to ship the item   \n",
              "2             Inability to click the 'Cancel' button   \n",
              "3  Error message regarding exceeded attempts to e...   \n",
              "4                       Delivery not attempted again   \n",
              "\n",
              "                         issue_category_sub_category customer_sentiment  \\\n",
              "0  Mobile Number and Email Verification -> Verifi...            neutral   \n",
              "1  Pickup and Shipping -> Reasons for being asked...            neutral   \n",
              "2  Replacement and Return Process -> Inability to...            neutral   \n",
              "3  Login Issues and Error Messages -> Error messa...            neutral   \n",
              "4  Order Delivery Issues -> Delivery not attempte...           negative   \n",
              "\n",
              "  product_category       product_sub_category issue_complexity  \\\n",
              "0       Appliances  Oven Toaster Grills (OTG)           medium   \n",
              "1      Electronics           Computer Monitor             less   \n",
              "2       Appliances       Juicer/Mixer/Grinder           medium   \n",
              "3       Appliances             Water Purifier             less   \n",
              "4      Electronics                 Bp Monitor           medium   \n",
              "\n",
              "  agent_experience_level                        agent_experience_level_desc  \\\n",
              "0                 junior  handles customer inquiries independently, poss...   \n",
              "1                 junior  handles customer inquiries independently, poss...   \n",
              "2            experienced  confidently handles complex customer issues, e...   \n",
              "3          inexperienced  may struggle with ambiguous queries, rely on c...   \n",
              "4            experienced  confidently handles complex customer issues, e...   \n",
              "\n",
              "   ...  cleaned_input_sentiment_1_100 politeness_count_input  \\\n",
              "0  ...                       99.54955                     13   \n",
              "1  ...                       99.57925                      9   \n",
              "2  ...                       99.67825                     13   \n",
              "3  ...                       99.70300                     14   \n",
              "4  ...                       50.58910                      7   \n",
              "\n",
              "  empathy_count_input politeness_count_output  empathy_count_output  \\\n",
              "0                   4                       1                     3   \n",
              "1                   5                       0                     0   \n",
              "2                   5                       0                     1   \n",
              "3                   7                       0                     0   \n",
              "4                   3                       0                     3   \n",
              "\n",
              "                                      input_entities output_entities  \\\n",
              "0                                            ['tom']              []   \n",
              "1  ['alex', 'last week', 'a seconds', 'the next h...              []   \n",
              "2                                 ['sarah', 'first']              []   \n",
              "3                ['a minutes a minutes', 'a minute']              []   \n",
              "4                        ['sarah', 'david', 'today']              []   \n",
              "\n",
              "  entity_match_ratio input_text  \\\n",
              "0                0.0        NaN   \n",
              "1                0.0        NaN   \n",
              "2                0.0        NaN   \n",
              "3                0.0        NaN   \n",
              "4                0.0        NaN   \n",
              "\n",
              "                                         output_text  \n",
              "0  The customer issue is moderately complex. Clar...  \n",
              "1  This is a straightforward issue. Quick, clear ...  \n",
              "2  The customer issue is moderately complex. Clar...  \n",
              "3  This is a straightforward issue. Quick, clear ...  \n",
              "4  The customer issue is moderately complex. Clar...  \n",
              "\n",
              "[5 rows x 49 columns]"
            ],
            "text/html": [
              "\n",
              "  <div id=\"df-0cd975df-850d-4836-818e-50e9f13068b8\" class=\"colab-df-container\">\n",
              "    <div>\n",
              "<style scoped>\n",
              "    .dataframe tbody tr th:only-of-type {\n",
              "        vertical-align: middle;\n",
              "    }\n",
              "\n",
              "    .dataframe tbody tr th {\n",
              "        vertical-align: top;\n",
              "    }\n",
              "\n",
              "    .dataframe thead th {\n",
              "        text-align: right;\n",
              "    }\n",
              "</style>\n",
              "<table border=\"1\" class=\"dataframe\">\n",
              "  <thead>\n",
              "    <tr style=\"text-align: right;\">\n",
              "      <th></th>\n",
              "      <th>issue_area</th>\n",
              "      <th>issue_category</th>\n",
              "      <th>issue_sub_category</th>\n",
              "      <th>issue_category_sub_category</th>\n",
              "      <th>customer_sentiment</th>\n",
              "      <th>product_category</th>\n",
              "      <th>product_sub_category</th>\n",
              "      <th>issue_complexity</th>\n",
              "      <th>agent_experience_level</th>\n",
              "      <th>agent_experience_level_desc</th>\n",
              "      <th>...</th>\n",
              "      <th>cleaned_input_sentiment_1_100</th>\n",
              "      <th>politeness_count_input</th>\n",
              "      <th>empathy_count_input</th>\n",
              "      <th>politeness_count_output</th>\n",
              "      <th>empathy_count_output</th>\n",
              "      <th>input_entities</th>\n",
              "      <th>output_entities</th>\n",
              "      <th>entity_match_ratio</th>\n",
              "      <th>input_text</th>\n",
              "      <th>output_text</th>\n",
              "    </tr>\n",
              "  </thead>\n",
              "  <tbody>\n",
              "    <tr>\n",
              "      <th>0</th>\n",
              "      <td>Login and Account</td>\n",
              "      <td>Mobile Number and Email Verification</td>\n",
              "      <td>Verification requirement for mobile number or ...</td>\n",
              "      <td>Mobile Number and Email Verification -&gt; Verifi...</td>\n",
              "      <td>neutral</td>\n",
              "      <td>Appliances</td>\n",
              "      <td>Oven Toaster Grills (OTG)</td>\n",
              "      <td>medium</td>\n",
              "      <td>junior</td>\n",
              "      <td>handles customer inquiries independently, poss...</td>\n",
              "      <td>...</td>\n",
              "      <td>99.54955</td>\n",
              "      <td>13</td>\n",
              "      <td>4</td>\n",
              "      <td>1</td>\n",
              "      <td>3</td>\n",
              "      <td>['tom']</td>\n",
              "      <td>[]</td>\n",
              "      <td>0.0</td>\n",
              "      <td>NaN</td>\n",
              "      <td>The customer issue is moderately complex. Clar...</td>\n",
              "    </tr>\n",
              "    <tr>\n",
              "      <th>1</th>\n",
              "      <td>Cancellations and returns</td>\n",
              "      <td>Pickup and Shipping</td>\n",
              "      <td>Reasons for being asked to ship the item</td>\n",
              "      <td>Pickup and Shipping -&gt; Reasons for being asked...</td>\n",
              "      <td>neutral</td>\n",
              "      <td>Electronics</td>\n",
              "      <td>Computer Monitor</td>\n",
              "      <td>less</td>\n",
              "      <td>junior</td>\n",
              "      <td>handles customer inquiries independently, poss...</td>\n",
              "      <td>...</td>\n",
              "      <td>99.57925</td>\n",
              "      <td>9</td>\n",
              "      <td>5</td>\n",
              "      <td>0</td>\n",
              "      <td>0</td>\n",
              "      <td>['alex', 'last week', 'a seconds', 'the next h...</td>\n",
              "      <td>[]</td>\n",
              "      <td>0.0</td>\n",
              "      <td>NaN</td>\n",
              "      <td>This is a straightforward issue. Quick, clear ...</td>\n",
              "    </tr>\n",
              "    <tr>\n",
              "      <th>2</th>\n",
              "      <td>Cancellations and returns</td>\n",
              "      <td>Replacement and Return Process</td>\n",
              "      <td>Inability to click the 'Cancel' button</td>\n",
              "      <td>Replacement and Return Process -&gt; Inability to...</td>\n",
              "      <td>neutral</td>\n",
              "      <td>Appliances</td>\n",
              "      <td>Juicer/Mixer/Grinder</td>\n",
              "      <td>medium</td>\n",
              "      <td>experienced</td>\n",
              "      <td>confidently handles complex customer issues, e...</td>\n",
              "      <td>...</td>\n",
              "      <td>99.67825</td>\n",
              "      <td>13</td>\n",
              "      <td>5</td>\n",
              "      <td>0</td>\n",
              "      <td>1</td>\n",
              "      <td>['sarah', 'first']</td>\n",
              "      <td>[]</td>\n",
              "      <td>0.0</td>\n",
              "      <td>NaN</td>\n",
              "      <td>The customer issue is moderately complex. Clar...</td>\n",
              "    </tr>\n",
              "    <tr>\n",
              "      <th>3</th>\n",
              "      <td>Login and Account</td>\n",
              "      <td>Login Issues and Error Messages</td>\n",
              "      <td>Error message regarding exceeded attempts to e...</td>\n",
              "      <td>Login Issues and Error Messages -&gt; Error messa...</td>\n",
              "      <td>neutral</td>\n",
              "      <td>Appliances</td>\n",
              "      <td>Water Purifier</td>\n",
              "      <td>less</td>\n",
              "      <td>inexperienced</td>\n",
              "      <td>may struggle with ambiguous queries, rely on c...</td>\n",
              "      <td>...</td>\n",
              "      <td>99.70300</td>\n",
              "      <td>14</td>\n",
              "      <td>7</td>\n",
              "      <td>0</td>\n",
              "      <td>0</td>\n",
              "      <td>['a minutes a minutes', 'a minute']</td>\n",
              "      <td>[]</td>\n",
              "      <td>0.0</td>\n",
              "      <td>NaN</td>\n",
              "      <td>This is a straightforward issue. Quick, clear ...</td>\n",
              "    </tr>\n",
              "    <tr>\n",
              "      <th>4</th>\n",
              "      <td>Order</td>\n",
              "      <td>Order Delivery Issues</td>\n",
              "      <td>Delivery not attempted again</td>\n",
              "      <td>Order Delivery Issues -&gt; Delivery not attempte...</td>\n",
              "      <td>negative</td>\n",
              "      <td>Electronics</td>\n",
              "      <td>Bp Monitor</td>\n",
              "      <td>medium</td>\n",
              "      <td>experienced</td>\n",
              "      <td>confidently handles complex customer issues, e...</td>\n",
              "      <td>...</td>\n",
              "      <td>50.58910</td>\n",
              "      <td>7</td>\n",
              "      <td>3</td>\n",
              "      <td>0</td>\n",
              "      <td>3</td>\n",
              "      <td>['sarah', 'david', 'today']</td>\n",
              "      <td>[]</td>\n",
              "      <td>0.0</td>\n",
              "      <td>NaN</td>\n",
              "      <td>The customer issue is moderately complex. Clar...</td>\n",
              "    </tr>\n",
              "  </tbody>\n",
              "</table>\n",
              "<p>5 rows × 49 columns</p>\n",
              "</div>\n",
              "    <div class=\"colab-df-buttons\">\n",
              "\n",
              "  <div class=\"colab-df-container\">\n",
              "    <button class=\"colab-df-convert\" onclick=\"convertToInteractive('df-0cd975df-850d-4836-818e-50e9f13068b8')\"\n",
              "            title=\"Convert this dataframe to an interactive table.\"\n",
              "            style=\"display:none;\">\n",
              "\n",
              "  <svg xmlns=\"http://www.w3.org/2000/svg\" height=\"24px\" viewBox=\"0 -960 960 960\">\n",
              "    <path d=\"M120-120v-720h720v720H120Zm60-500h600v-160H180v160Zm220 220h160v-160H400v160Zm0 220h160v-160H400v160ZM180-400h160v-160H180v160Zm440 0h160v-160H620v160ZM180-180h160v-160H180v160Zm440 0h160v-160H620v160Z\"/>\n",
              "  </svg>\n",
              "    </button>\n",
              "\n",
              "  <style>\n",
              "    .colab-df-container {\n",
              "      display:flex;\n",
              "      gap: 12px;\n",
              "    }\n",
              "\n",
              "    .colab-df-convert {\n",
              "      background-color: #E8F0FE;\n",
              "      border: none;\n",
              "      border-radius: 50%;\n",
              "      cursor: pointer;\n",
              "      display: none;\n",
              "      fill: #1967D2;\n",
              "      height: 32px;\n",
              "      padding: 0 0 0 0;\n",
              "      width: 32px;\n",
              "    }\n",
              "\n",
              "    .colab-df-convert:hover {\n",
              "      background-color: #E2EBFA;\n",
              "      box-shadow: 0px 1px 2px rgba(60, 64, 67, 0.3), 0px 1px 3px 1px rgba(60, 64, 67, 0.15);\n",
              "      fill: #174EA6;\n",
              "    }\n",
              "\n",
              "    .colab-df-buttons div {\n",
              "      margin-bottom: 4px;\n",
              "    }\n",
              "\n",
              "    [theme=dark] .colab-df-convert {\n",
              "      background-color: #3B4455;\n",
              "      fill: #D2E3FC;\n",
              "    }\n",
              "\n",
              "    [theme=dark] .colab-df-convert:hover {\n",
              "      background-color: #434B5C;\n",
              "      box-shadow: 0px 1px 3px 1px rgba(0, 0, 0, 0.15);\n",
              "      filter: drop-shadow(0px 1px 2px rgba(0, 0, 0, 0.3));\n",
              "      fill: #FFFFFF;\n",
              "    }\n",
              "  </style>\n",
              "\n",
              "    <script>\n",
              "      const buttonEl =\n",
              "        document.querySelector('#df-0cd975df-850d-4836-818e-50e9f13068b8 button.colab-df-convert');\n",
              "      buttonEl.style.display =\n",
              "        google.colab.kernel.accessAllowed ? 'block' : 'none';\n",
              "\n",
              "      async function convertToInteractive(key) {\n",
              "        const element = document.querySelector('#df-0cd975df-850d-4836-818e-50e9f13068b8');\n",
              "        const dataTable =\n",
              "          await google.colab.kernel.invokeFunction('convertToInteractive',\n",
              "                                                    [key], {});\n",
              "        if (!dataTable) return;\n",
              "\n",
              "        const docLinkHtml = 'Like what you see? Visit the ' +\n",
              "          '<a target=\"_blank\" href=https://colab.research.google.com/notebooks/data_table.ipynb>data table notebook</a>'\n",
              "          + ' to learn more about interactive tables.';\n",
              "        element.innerHTML = '';\n",
              "        dataTable['output_type'] = 'display_data';\n",
              "        await google.colab.output.renderOutput(dataTable, element);\n",
              "        const docLink = document.createElement('div');\n",
              "        docLink.innerHTML = docLinkHtml;\n",
              "        element.appendChild(docLink);\n",
              "      }\n",
              "    </script>\n",
              "  </div>\n",
              "\n",
              "\n",
              "<div id=\"df-6ef01ba8-d117-4632-ac62-3c8d64962660\">\n",
              "  <button class=\"colab-df-quickchart\" onclick=\"quickchart('df-6ef01ba8-d117-4632-ac62-3c8d64962660')\"\n",
              "            title=\"Suggest charts\"\n",
              "            style=\"display:none;\">\n",
              "\n",
              "<svg xmlns=\"http://www.w3.org/2000/svg\" height=\"24px\"viewBox=\"0 0 24 24\"\n",
              "     width=\"24px\">\n",
              "    <g>\n",
              "        <path d=\"M19 3H5c-1.1 0-2 .9-2 2v14c0 1.1.9 2 2 2h14c1.1 0 2-.9 2-2V5c0-1.1-.9-2-2-2zM9 17H7v-7h2v7zm4 0h-2V7h2v10zm4 0h-2v-4h2v4z\"/>\n",
              "    </g>\n",
              "</svg>\n",
              "  </button>\n",
              "\n",
              "<style>\n",
              "  .colab-df-quickchart {\n",
              "      --bg-color: #E8F0FE;\n",
              "      --fill-color: #1967D2;\n",
              "      --hover-bg-color: #E2EBFA;\n",
              "      --hover-fill-color: #174EA6;\n",
              "      --disabled-fill-color: #AAA;\n",
              "      --disabled-bg-color: #DDD;\n",
              "  }\n",
              "\n",
              "  [theme=dark] .colab-df-quickchart {\n",
              "      --bg-color: #3B4455;\n",
              "      --fill-color: #D2E3FC;\n",
              "      --hover-bg-color: #434B5C;\n",
              "      --hover-fill-color: #FFFFFF;\n",
              "      --disabled-bg-color: #3B4455;\n",
              "      --disabled-fill-color: #666;\n",
              "  }\n",
              "\n",
              "  .colab-df-quickchart {\n",
              "    background-color: var(--bg-color);\n",
              "    border: none;\n",
              "    border-radius: 50%;\n",
              "    cursor: pointer;\n",
              "    display: none;\n",
              "    fill: var(--fill-color);\n",
              "    height: 32px;\n",
              "    padding: 0;\n",
              "    width: 32px;\n",
              "  }\n",
              "\n",
              "  .colab-df-quickchart:hover {\n",
              "    background-color: var(--hover-bg-color);\n",
              "    box-shadow: 0 1px 2px rgba(60, 64, 67, 0.3), 0 1px 3px 1px rgba(60, 64, 67, 0.15);\n",
              "    fill: var(--button-hover-fill-color);\n",
              "  }\n",
              "\n",
              "  .colab-df-quickchart-complete:disabled,\n",
              "  .colab-df-quickchart-complete:disabled:hover {\n",
              "    background-color: var(--disabled-bg-color);\n",
              "    fill: var(--disabled-fill-color);\n",
              "    box-shadow: none;\n",
              "  }\n",
              "\n",
              "  .colab-df-spinner {\n",
              "    border: 2px solid var(--fill-color);\n",
              "    border-color: transparent;\n",
              "    border-bottom-color: var(--fill-color);\n",
              "    animation:\n",
              "      spin 1s steps(1) infinite;\n",
              "  }\n",
              "\n",
              "  @keyframes spin {\n",
              "    0% {\n",
              "      border-color: transparent;\n",
              "      border-bottom-color: var(--fill-color);\n",
              "      border-left-color: var(--fill-color);\n",
              "    }\n",
              "    20% {\n",
              "      border-color: transparent;\n",
              "      border-left-color: var(--fill-color);\n",
              "      border-top-color: var(--fill-color);\n",
              "    }\n",
              "    30% {\n",
              "      border-color: transparent;\n",
              "      border-left-color: var(--fill-color);\n",
              "      border-top-color: var(--fill-color);\n",
              "      border-right-color: var(--fill-color);\n",
              "    }\n",
              "    40% {\n",
              "      border-color: transparent;\n",
              "      border-right-color: var(--fill-color);\n",
              "      border-top-color: var(--fill-color);\n",
              "    }\n",
              "    60% {\n",
              "      border-color: transparent;\n",
              "      border-right-color: var(--fill-color);\n",
              "    }\n",
              "    80% {\n",
              "      border-color: transparent;\n",
              "      border-right-color: var(--fill-color);\n",
              "      border-bottom-color: var(--fill-color);\n",
              "    }\n",
              "    90% {\n",
              "      border-color: transparent;\n",
              "      border-bottom-color: var(--fill-color);\n",
              "    }\n",
              "  }\n",
              "</style>\n",
              "\n",
              "  <script>\n",
              "    async function quickchart(key) {\n",
              "      const quickchartButtonEl =\n",
              "        document.querySelector('#' + key + ' button');\n",
              "      quickchartButtonEl.disabled = true;  // To prevent multiple clicks.\n",
              "      quickchartButtonEl.classList.add('colab-df-spinner');\n",
              "      try {\n",
              "        const charts = await google.colab.kernel.invokeFunction(\n",
              "            'suggestCharts', [key], {});\n",
              "      } catch (error) {\n",
              "        console.error('Error during call to suggestCharts:', error);\n",
              "      }\n",
              "      quickchartButtonEl.classList.remove('colab-df-spinner');\n",
              "      quickchartButtonEl.classList.add('colab-df-quickchart-complete');\n",
              "    }\n",
              "    (() => {\n",
              "      let quickchartButtonEl =\n",
              "        document.querySelector('#df-6ef01ba8-d117-4632-ac62-3c8d64962660 button');\n",
              "      quickchartButtonEl.style.display =\n",
              "        google.colab.kernel.accessAllowed ? 'block' : 'none';\n",
              "    })();\n",
              "  </script>\n",
              "</div>\n",
              "\n",
              "    </div>\n",
              "  </div>\n"
            ],
            "application/vnd.google.colaboratory.intrinsic+json": {
              "type": "dataframe",
              "variable_name": "merged_finetuning_data"
            }
          },
          "metadata": {},
          "execution_count": 229
        }
      ]
    },
    {
      "cell_type": "code",
      "source": [
        "# Save the data frame to a csv file so that we can load it in the next codebase when we train the model!\n",
        "# merged_finetuning_data.to_csv('finetuning_data_diversified_output_text.csv', index = False)"
      ],
      "metadata": {
        "id": "vseCrIIbiYNi"
      },
      "execution_count": null,
      "outputs": []
    },
    {
      "cell_type": "code",
      "source": [
        "match_ratios = customer_df.groupby('issue_complexity')[['keyword_match_ratio_1_10']].mean()\n",
        "capitalized_rows_match_ratios = [row.capitalize() for row in match_ratios.index]\n",
        "capitalized_columns_match_ratios = ['Issue Complexity', 'Keyword Match Ratio (1-10)']\n",
        "\n",
        "# Combine row labels and data into the table data\n",
        "table_data = [[row] + [f\"{value:.2f}\"] for row, value in zip(capitalized_rows_match_ratios, match_ratios.values.flatten())]\n",
        "\n",
        "fig, ax = plt.subplots(figsize=(7.5, 1.75), dpi=350)\n",
        "fig.suptitle('Table: Keyword Match Ratio vs. Issue Complexity', fontsize=16, y=1.05, ha='center')\n",
        "ax.axis('off')\n",
        "ax.axis('tight')\n",
        "\n",
        "# Adjust column widths\n",
        "col_widths = [0.3, 0.7]  # Adjust to desired proportions\n",
        "\n",
        "table = ax.table(cellText=table_data,\n",
        "                 colLabels=capitalized_columns_match_ratios,\n",
        "                 cellLoc='center',\n",
        "                 rowLoc='center',\n",
        "                 colWidths=col_widths,  # Set column widths\n",
        "                 bbox=[0, 0, 1, 1])\n",
        "table.auto_set_font_size(False)\n",
        "table.set_fontsize(14)\n",
        "\n",
        "plt.tight_layout()\n",
        "plt.subplots_adjust(top=0.85)\n",
        "plt.show()\n"
      ],
      "metadata": {
        "id": "G15dFkkAkMiu"
      },
      "execution_count": null,
      "outputs": []
    }
  ]
}