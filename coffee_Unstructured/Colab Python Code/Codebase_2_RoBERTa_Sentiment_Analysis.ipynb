{
  "cells": [
    {
      "cell_type": "markdown",
      "metadata": {
        "id": "-RpLeaZdmucS"
      },
      "source": [
        "## **Introduction**"
      ]
    },
    {
      "cell_type": "code",
      "source": [
        "# Import & Install statements\n",
        "\n",
        "!pip install tensorflow==2.9.1 --quiet\n",
        "!pip install transformers==4.21.0 --quiet"
      ],
      "metadata": {
        "colab": {
          "base_uri": "https://localhost:8080/"
        },
        "id": "-4RoGuabS4QP",
        "outputId": "5c53ff1e-e1b4-48d9-d6ba-8b048ed23b37"
      },
      "execution_count": null,
      "outputs": [
        {
          "output_type": "stream",
          "name": "stdout",
          "text": [
            "\u001b[2K   \u001b[90m━━━━━━━━━━━━━━━━━━━━━━━━━━━━━━━━━━━━━━━━\u001b[0m \u001b[32m511.7/511.7 MB\u001b[0m \u001b[31m2.6 MB/s\u001b[0m eta \u001b[36m0:00:00\u001b[0m\n",
            "\u001b[2K   \u001b[90m━━━━━━━━━━━━━━━━━━━━━━━━━━━━━━━━━━━━━━━━\u001b[0m \u001b[32m1.6/1.6 MB\u001b[0m \u001b[31m16.3 MB/s\u001b[0m eta \u001b[36m0:00:00\u001b[0m\n",
            "\u001b[2K   \u001b[90m━━━━━━━━━━━━━━━━━━━━━━━━━━━━━━━━━━━━━━━━\u001b[0m \u001b[32m42.6/42.6 kB\u001b[0m \u001b[31m2.4 MB/s\u001b[0m eta \u001b[36m0:00:00\u001b[0m\n",
            "\u001b[2K   \u001b[90m━━━━━━━━━━━━━━━━━━━━━━━━━━━━━━━━━━━━━━━━\u001b[0m \u001b[32m1.1/1.1 MB\u001b[0m \u001b[31m12.8 MB/s\u001b[0m eta \u001b[36m0:00:00\u001b[0m\n",
            "\u001b[2K   \u001b[90m━━━━━━━━━━━━━━━━━━━━━━━━━━━━━━━━━━━━━━━━\u001b[0m \u001b[32m5.8/5.8 MB\u001b[0m \u001b[31m19.1 MB/s\u001b[0m eta \u001b[36m0:00:00\u001b[0m\n",
            "\u001b[2K   \u001b[90m━━━━━━━━━━━━━━━━━━━━━━━━━━━━━━━━━━━━━━━━\u001b[0m \u001b[32m438.7/438.7 kB\u001b[0m \u001b[31m13.9 MB/s\u001b[0m eta \u001b[36m0:00:00\u001b[0m\n",
            "\u001b[2K   \u001b[90m━━━━━━━━━━━━━━━━━━━━━━━━━━━━━━━━━━━━━━━━\u001b[0m \u001b[32m4.9/4.9 MB\u001b[0m \u001b[31m23.6 MB/s\u001b[0m eta \u001b[36m0:00:00\u001b[0m\n",
            "\u001b[2K   \u001b[90m━━━━━━━━━━━━━━━━━━━━━━━━━━━━━━━━━━━━━━━━\u001b[0m \u001b[32m781.3/781.3 kB\u001b[0m \u001b[31m16.6 MB/s\u001b[0m eta \u001b[36m0:00:00\u001b[0m\n",
            "\u001b[?25h\u001b[31mERROR: pip's dependency resolver does not currently take into account all the packages that are installed. This behaviour is the source of the following dependency conflicts.\n",
            "cudf-cu12 24.4.1 requires protobuf<5,>=3.20, but you have protobuf 3.19.6 which is incompatible.\n",
            "google-cloud-aiplatform 1.64.0 requires protobuf!=4.21.0,!=4.21.1,!=4.21.2,!=4.21.3,!=4.21.4,!=4.21.5,<6.0.0dev,>=3.20.2, but you have protobuf 3.19.6 which is incompatible.\n",
            "google-cloud-bigquery-connection 1.15.5 requires protobuf!=4.21.0,!=4.21.1,!=4.21.2,!=4.21.3,!=4.21.4,!=4.21.5,<6.0.0dev,>=3.20.2, but you have protobuf 3.19.6 which is incompatible.\n",
            "google-cloud-bigtable 2.26.0 requires protobuf!=4.21.0,!=4.21.1,!=4.21.2,!=4.21.3,!=4.21.4,!=4.21.5,<6.0.0dev,>=3.20.2, but you have protobuf 3.19.6 which is incompatible.\n",
            "google-cloud-functions 1.16.5 requires protobuf!=4.21.0,!=4.21.1,!=4.21.2,!=4.21.3,!=4.21.4,!=4.21.5,<6.0.0dev,>=3.20.2, but you have protobuf 3.19.6 which is incompatible.\n",
            "google-cloud-iam 2.15.2 requires protobuf!=4.21.0,!=4.21.1,!=4.21.2,!=4.21.3,!=4.21.4,!=4.21.5,<6.0.0dev,>=3.20.2, but you have protobuf 3.19.6 which is incompatible.\n",
            "google-cloud-language 2.13.4 requires protobuf!=4.21.0,!=4.21.1,!=4.21.2,!=4.21.3,!=4.21.4,!=4.21.5,<6.0.0dev,>=3.20.2, but you have protobuf 3.19.6 which is incompatible.\n",
            "google-cloud-pubsub 2.23.0 requires protobuf!=4.21.0,!=4.21.1,!=4.21.2,!=4.21.3,!=4.21.4,!=4.21.5,<6.0.0dev,>=3.20.2, but you have protobuf 3.19.6 which is incompatible.\n",
            "google-cloud-resource-manager 1.12.5 requires protobuf!=4.21.0,!=4.21.1,!=4.21.2,!=4.21.3,!=4.21.4,!=4.21.5,<6.0.0dev,>=3.20.2, but you have protobuf 3.19.6 which is incompatible.\n",
            "google-cloud-translate 3.15.5 requires protobuf!=4.21.0,!=4.21.1,!=4.21.2,!=4.21.3,!=4.21.4,!=4.21.5,<6.0.0dev,>=3.20.2, but you have protobuf 3.19.6 which is incompatible.\n",
            "googleapis-common-protos 1.65.0 requires protobuf!=3.20.0,!=3.20.1,!=4.21.1,!=4.21.2,!=4.21.3,!=4.21.4,!=4.21.5,<6.0.0.dev0,>=3.20.2, but you have protobuf 3.19.6 which is incompatible.\n",
            "grpc-google-iam-v1 0.13.1 requires protobuf!=4.21.1,!=4.21.2,!=4.21.3,!=4.21.4,!=4.21.5,<6.0.0dev,>=3.20.2, but you have protobuf 3.19.6 which is incompatible.\n",
            "pandas-gbq 0.23.1 requires google-auth-oauthlib>=0.7.0, but you have google-auth-oauthlib 0.4.6 which is incompatible.\n",
            "tensorflow-datasets 4.9.6 requires protobuf>=3.20, but you have protobuf 3.19.6 which is incompatible.\n",
            "tensorflow-metadata 1.15.0 requires protobuf<4.21,>=3.20.3; python_version < \"3.11\", but you have protobuf 3.19.6 which is incompatible.\n",
            "tf-keras 2.17.0 requires tensorflow<2.18,>=2.17, but you have tensorflow 2.9.1 which is incompatible.\u001b[0m\u001b[31m\n",
            "\u001b[2K     \u001b[90m━━━━━━━━━━━━━━━━━━━━━━━━━━━━━━━━━━━━━━━━\u001b[0m \u001b[32m82.0/82.0 kB\u001b[0m \u001b[31m5.0 MB/s\u001b[0m eta \u001b[36m0:00:00\u001b[0m\n",
            "\u001b[2K   \u001b[90m━━━━━━━━━━━━━━━━━━━━━━━━━━━━━━━━━━━━━━━━\u001b[0m \u001b[32m4.7/4.7 MB\u001b[0m \u001b[31m88.3 MB/s\u001b[0m eta \u001b[36m0:00:00\u001b[0m\n",
            "\u001b[2K   \u001b[90m━━━━━━━━━━━━━━━━━━━━━━━━━━━━━━━━━━━━━━━━\u001b[0m \u001b[32m6.6/6.6 MB\u001b[0m \u001b[31m72.0 MB/s\u001b[0m eta \u001b[36m0:00:00\u001b[0m\n",
            "\u001b[?25h"
          ]
        }
      ]
    },
    {
      "cell_type": "code",
      "source": [
        "# !pip install vaderSentiment\n",
        "\n",
        "import pandas as pd\n",
        "import numpy as np\n",
        "import matplotlib.pyplot as plt\n",
        "import tensorflow as tf\n",
        "import transformers\n",
        "import torch\n",
        "import string\n",
        "\n",
        "import nltk\n",
        "from nltk.corpus import stopwords\n",
        "from nltk.tokenize import word_tokenize\n",
        "from nltk.stem import WordNetLemmatizer\n",
        "from nltk.sentiment.vader import SentimentIntensityAnalyzer\n",
        "\n",
        "nltk.download('punkt')\n",
        "nltk.download('stopwords')\n",
        "nltk.download('wordnet')\n",
        "nltk.download('vader_lexicon')\n",
        "\n",
        "from sklearn.feature_extraction.text import CountVectorizer\n",
        "from sklearn.decomposition import LatentDirichletAllocation\n",
        "from sklearn.model_selection import train_test_split"
      ],
      "metadata": {
        "colab": {
          "base_uri": "https://localhost:8080/"
        },
        "collapsed": true,
        "id": "tBol8PdmQd7u",
        "outputId": "490c67e5-55bb-4cf9-9239-cf04e0b53803"
      },
      "execution_count": null,
      "outputs": [
        {
          "output_type": "stream",
          "name": "stderr",
          "text": [
            "[nltk_data] Downloading package punkt to /root/nltk_data...\n",
            "[nltk_data]   Unzipping tokenizers/punkt.zip.\n",
            "[nltk_data] Downloading package stopwords to /root/nltk_data...\n",
            "[nltk_data]   Unzipping corpora/stopwords.zip.\n",
            "[nltk_data] Downloading package wordnet to /root/nltk_data...\n",
            "[nltk_data] Downloading package vader_lexicon to /root/nltk_data...\n"
          ]
        }
      ]
    },
    {
      "cell_type": "code",
      "source": [
        "from transformers import RobertaTokenizer, RobertaForSequenceClassification\n",
        "from torch.nn.functional import softmax\n",
        "from tqdm import tqdm\n",
        "\n",
        "from tensorflow.keras.layers import Dense, Input, Dropout\n",
        "from tensorflow.keras.models import Model\n",
        "import tensorflow.keras.backend as K\n",
        "\n",
        "from tensorflow.keras.optimizers import Adam\n",
        "from tensorflow.keras.metrics import SparseCategoricalAccuracy\n",
        "from sklearn.utils.class_weight import compute_class_weight"
      ],
      "metadata": {
        "id": "L1slKAX3S1VA"
      },
      "execution_count": null,
      "outputs": []
    },
    {
      "cell_type": "code",
      "source": [
        "from transformers import TFRobertaModel"
      ],
      "metadata": {
        "id": "5aRYo2NzS1gL"
      },
      "execution_count": null,
      "outputs": []
    },
    {
      "cell_type": "code",
      "source": [
        "print(\"TensorFlow version:\", tf.__version__)\n",
        "print(\"Transformers version:\", transformers.__version__)"
      ],
      "metadata": {
        "colab": {
          "base_uri": "https://localhost:8080/"
        },
        "id": "tfK8DxpZUiyI",
        "outputId": "a46d9c74-b7f1-45a8-b875-66d47963e91b"
      },
      "execution_count": null,
      "outputs": [
        {
          "output_type": "stream",
          "name": "stdout",
          "text": [
            "TensorFlow version: 2.9.1\n",
            "Transformers version: 4.21.0\n"
          ]
        }
      ]
    },
    {
      "cell_type": "code",
      "execution_count": null,
      "metadata": {
        "id": "qdKoQPcX2s3G"
      },
      "outputs": [],
      "source": [
        "# Read the dataset\n",
        "\n",
        "coffee_df = pd.read_csv('/content/sample_data/coffee_analysis.csv')"
      ]
    },
    {
      "cell_type": "code",
      "execution_count": null,
      "metadata": {
        "colab": {
          "base_uri": "https://localhost:8080/",
          "height": 293
        },
        "id": "WUhBHbzE2xcE",
        "outputId": "e18bc755-ec2e-4815-942f-27eab7a7e9d1"
      },
      "outputs": [
        {
          "output_type": "execute_result",
          "data": {
            "text/plain": [
              "                         name                    roaster         roast  \\\n",
              "0     “Sweety” Espresso Blend                     A.R.C.  Medium-Light   \n",
              "1        Flora Blend Espresso                     A.R.C.  Medium-Light   \n",
              "2    Ethiopia Shakiso Mormora               Revel Coffee  Medium-Light   \n",
              "3          Ethiopia Suke Quto                Roast House  Medium-Light   \n",
              "4  Ethiopia Gedeb Halo Beriti  Big Creek Coffee Roasters        Medium   \n",
              "\n",
              "     loc_country        origin_1           origin_2  100g_USD  rating  \\\n",
              "0      Hong Kong          Panama           Ethiopia     14.32      95   \n",
              "1      Hong Kong          Africa       Asia Pacific      9.05      94   \n",
              "2  United States       Guji Zone  Southern Ethiopia      4.70      92   \n",
              "3  United States       Guji Zone      Oromia Region      4.19      92   \n",
              "4  United States  Gedeb District         Gedeo Zone      4.85      94   \n",
              "\n",
              "     review_date                                             desc_1  \\\n",
              "0  November 2017  Evaluated as espresso. Sweet-toned, deeply ric...   \n",
              "1  November 2017  Evaluated as espresso. Sweetly tart, floral-to...   \n",
              "2  November 2017  Crisply sweet, cocoa-toned. Lemon blossom, roa...   \n",
              "3  November 2017  Delicate, sweetly spice-toned. Pink peppercorn...   \n",
              "4  November 2017  Deeply sweet, subtly pungent. Honey, pear, tan...   \n",
              "\n",
              "                                              desc_2  \\\n",
              "0  An espresso blend comprised of coffees from Pa...   \n",
              "1  An espresso blend comprised of coffees from Af...   \n",
              "2  This coffee tied for the third-highest rating ...   \n",
              "3  This coffee tied for the third-highest rating ...   \n",
              "4  Southern Ethiopia coffees like this one are pr...   \n",
              "\n",
              "                                              desc_3  \n",
              "0  A radiant espresso blend that shines equally i...  \n",
              "1  A floral-driven straight shot, amplified with ...  \n",
              "2  A gently spice-toned, floral- driven wet-proce...  \n",
              "3  Lavender-like flowers and hints of zesty pink ...  \n",
              "4  A deeply and generously lush cup saved from se...  "
            ],
            "text/html": [
              "\n",
              "  <div id=\"df-ed1275ab-72d8-4c79-ac1c-3d1a951183c0\" class=\"colab-df-container\">\n",
              "    <div>\n",
              "<style scoped>\n",
              "    .dataframe tbody tr th:only-of-type {\n",
              "        vertical-align: middle;\n",
              "    }\n",
              "\n",
              "    .dataframe tbody tr th {\n",
              "        vertical-align: top;\n",
              "    }\n",
              "\n",
              "    .dataframe thead th {\n",
              "        text-align: right;\n",
              "    }\n",
              "</style>\n",
              "<table border=\"1\" class=\"dataframe\">\n",
              "  <thead>\n",
              "    <tr style=\"text-align: right;\">\n",
              "      <th></th>\n",
              "      <th>name</th>\n",
              "      <th>roaster</th>\n",
              "      <th>roast</th>\n",
              "      <th>loc_country</th>\n",
              "      <th>origin_1</th>\n",
              "      <th>origin_2</th>\n",
              "      <th>100g_USD</th>\n",
              "      <th>rating</th>\n",
              "      <th>review_date</th>\n",
              "      <th>desc_1</th>\n",
              "      <th>desc_2</th>\n",
              "      <th>desc_3</th>\n",
              "    </tr>\n",
              "  </thead>\n",
              "  <tbody>\n",
              "    <tr>\n",
              "      <th>0</th>\n",
              "      <td>“Sweety” Espresso Blend</td>\n",
              "      <td>A.R.C.</td>\n",
              "      <td>Medium-Light</td>\n",
              "      <td>Hong Kong</td>\n",
              "      <td>Panama</td>\n",
              "      <td>Ethiopia</td>\n",
              "      <td>14.32</td>\n",
              "      <td>95</td>\n",
              "      <td>November 2017</td>\n",
              "      <td>Evaluated as espresso. Sweet-toned, deeply ric...</td>\n",
              "      <td>An espresso blend comprised of coffees from Pa...</td>\n",
              "      <td>A radiant espresso blend that shines equally i...</td>\n",
              "    </tr>\n",
              "    <tr>\n",
              "      <th>1</th>\n",
              "      <td>Flora Blend Espresso</td>\n",
              "      <td>A.R.C.</td>\n",
              "      <td>Medium-Light</td>\n",
              "      <td>Hong Kong</td>\n",
              "      <td>Africa</td>\n",
              "      <td>Asia Pacific</td>\n",
              "      <td>9.05</td>\n",
              "      <td>94</td>\n",
              "      <td>November 2017</td>\n",
              "      <td>Evaluated as espresso. Sweetly tart, floral-to...</td>\n",
              "      <td>An espresso blend comprised of coffees from Af...</td>\n",
              "      <td>A floral-driven straight shot, amplified with ...</td>\n",
              "    </tr>\n",
              "    <tr>\n",
              "      <th>2</th>\n",
              "      <td>Ethiopia Shakiso Mormora</td>\n",
              "      <td>Revel Coffee</td>\n",
              "      <td>Medium-Light</td>\n",
              "      <td>United States</td>\n",
              "      <td>Guji Zone</td>\n",
              "      <td>Southern Ethiopia</td>\n",
              "      <td>4.70</td>\n",
              "      <td>92</td>\n",
              "      <td>November 2017</td>\n",
              "      <td>Crisply sweet, cocoa-toned. Lemon blossom, roa...</td>\n",
              "      <td>This coffee tied for the third-highest rating ...</td>\n",
              "      <td>A gently spice-toned, floral- driven wet-proce...</td>\n",
              "    </tr>\n",
              "    <tr>\n",
              "      <th>3</th>\n",
              "      <td>Ethiopia Suke Quto</td>\n",
              "      <td>Roast House</td>\n",
              "      <td>Medium-Light</td>\n",
              "      <td>United States</td>\n",
              "      <td>Guji Zone</td>\n",
              "      <td>Oromia Region</td>\n",
              "      <td>4.19</td>\n",
              "      <td>92</td>\n",
              "      <td>November 2017</td>\n",
              "      <td>Delicate, sweetly spice-toned. Pink peppercorn...</td>\n",
              "      <td>This coffee tied for the third-highest rating ...</td>\n",
              "      <td>Lavender-like flowers and hints of zesty pink ...</td>\n",
              "    </tr>\n",
              "    <tr>\n",
              "      <th>4</th>\n",
              "      <td>Ethiopia Gedeb Halo Beriti</td>\n",
              "      <td>Big Creek Coffee Roasters</td>\n",
              "      <td>Medium</td>\n",
              "      <td>United States</td>\n",
              "      <td>Gedeb District</td>\n",
              "      <td>Gedeo Zone</td>\n",
              "      <td>4.85</td>\n",
              "      <td>94</td>\n",
              "      <td>November 2017</td>\n",
              "      <td>Deeply sweet, subtly pungent. Honey, pear, tan...</td>\n",
              "      <td>Southern Ethiopia coffees like this one are pr...</td>\n",
              "      <td>A deeply and generously lush cup saved from se...</td>\n",
              "    </tr>\n",
              "  </tbody>\n",
              "</table>\n",
              "</div>\n",
              "    <div class=\"colab-df-buttons\">\n",
              "\n",
              "  <div class=\"colab-df-container\">\n",
              "    <button class=\"colab-df-convert\" onclick=\"convertToInteractive('df-ed1275ab-72d8-4c79-ac1c-3d1a951183c0')\"\n",
              "            title=\"Convert this dataframe to an interactive table.\"\n",
              "            style=\"display:none;\">\n",
              "\n",
              "  <svg xmlns=\"http://www.w3.org/2000/svg\" height=\"24px\" viewBox=\"0 -960 960 960\">\n",
              "    <path d=\"M120-120v-720h720v720H120Zm60-500h600v-160H180v160Zm220 220h160v-160H400v160Zm0 220h160v-160H400v160ZM180-400h160v-160H180v160Zm440 0h160v-160H620v160ZM180-180h160v-160H180v160Zm440 0h160v-160H620v160Z\"/>\n",
              "  </svg>\n",
              "    </button>\n",
              "\n",
              "  <style>\n",
              "    .colab-df-container {\n",
              "      display:flex;\n",
              "      gap: 12px;\n",
              "    }\n",
              "\n",
              "    .colab-df-convert {\n",
              "      background-color: #E8F0FE;\n",
              "      border: none;\n",
              "      border-radius: 50%;\n",
              "      cursor: pointer;\n",
              "      display: none;\n",
              "      fill: #1967D2;\n",
              "      height: 32px;\n",
              "      padding: 0 0 0 0;\n",
              "      width: 32px;\n",
              "    }\n",
              "\n",
              "    .colab-df-convert:hover {\n",
              "      background-color: #E2EBFA;\n",
              "      box-shadow: 0px 1px 2px rgba(60, 64, 67, 0.3), 0px 1px 3px 1px rgba(60, 64, 67, 0.15);\n",
              "      fill: #174EA6;\n",
              "    }\n",
              "\n",
              "    .colab-df-buttons div {\n",
              "      margin-bottom: 4px;\n",
              "    }\n",
              "\n",
              "    [theme=dark] .colab-df-convert {\n",
              "      background-color: #3B4455;\n",
              "      fill: #D2E3FC;\n",
              "    }\n",
              "\n",
              "    [theme=dark] .colab-df-convert:hover {\n",
              "      background-color: #434B5C;\n",
              "      box-shadow: 0px 1px 3px 1px rgba(0, 0, 0, 0.15);\n",
              "      filter: drop-shadow(0px 1px 2px rgba(0, 0, 0, 0.3));\n",
              "      fill: #FFFFFF;\n",
              "    }\n",
              "  </style>\n",
              "\n",
              "    <script>\n",
              "      const buttonEl =\n",
              "        document.querySelector('#df-ed1275ab-72d8-4c79-ac1c-3d1a951183c0 button.colab-df-convert');\n",
              "      buttonEl.style.display =\n",
              "        google.colab.kernel.accessAllowed ? 'block' : 'none';\n",
              "\n",
              "      async function convertToInteractive(key) {\n",
              "        const element = document.querySelector('#df-ed1275ab-72d8-4c79-ac1c-3d1a951183c0');\n",
              "        const dataTable =\n",
              "          await google.colab.kernel.invokeFunction('convertToInteractive',\n",
              "                                                    [key], {});\n",
              "        if (!dataTable) return;\n",
              "\n",
              "        const docLinkHtml = 'Like what you see? Visit the ' +\n",
              "          '<a target=\"_blank\" href=https://colab.research.google.com/notebooks/data_table.ipynb>data table notebook</a>'\n",
              "          + ' to learn more about interactive tables.';\n",
              "        element.innerHTML = '';\n",
              "        dataTable['output_type'] = 'display_data';\n",
              "        await google.colab.output.renderOutput(dataTable, element);\n",
              "        const docLink = document.createElement('div');\n",
              "        docLink.innerHTML = docLinkHtml;\n",
              "        element.appendChild(docLink);\n",
              "      }\n",
              "    </script>\n",
              "  </div>\n",
              "\n",
              "\n",
              "<div id=\"df-f7929ff6-048b-485c-8377-4545b97e88c4\">\n",
              "  <button class=\"colab-df-quickchart\" onclick=\"quickchart('df-f7929ff6-048b-485c-8377-4545b97e88c4')\"\n",
              "            title=\"Suggest charts\"\n",
              "            style=\"display:none;\">\n",
              "\n",
              "<svg xmlns=\"http://www.w3.org/2000/svg\" height=\"24px\"viewBox=\"0 0 24 24\"\n",
              "     width=\"24px\">\n",
              "    <g>\n",
              "        <path d=\"M19 3H5c-1.1 0-2 .9-2 2v14c0 1.1.9 2 2 2h14c1.1 0 2-.9 2-2V5c0-1.1-.9-2-2-2zM9 17H7v-7h2v7zm4 0h-2V7h2v10zm4 0h-2v-4h2v4z\"/>\n",
              "    </g>\n",
              "</svg>\n",
              "  </button>\n",
              "\n",
              "<style>\n",
              "  .colab-df-quickchart {\n",
              "      --bg-color: #E8F0FE;\n",
              "      --fill-color: #1967D2;\n",
              "      --hover-bg-color: #E2EBFA;\n",
              "      --hover-fill-color: #174EA6;\n",
              "      --disabled-fill-color: #AAA;\n",
              "      --disabled-bg-color: #DDD;\n",
              "  }\n",
              "\n",
              "  [theme=dark] .colab-df-quickchart {\n",
              "      --bg-color: #3B4455;\n",
              "      --fill-color: #D2E3FC;\n",
              "      --hover-bg-color: #434B5C;\n",
              "      --hover-fill-color: #FFFFFF;\n",
              "      --disabled-bg-color: #3B4455;\n",
              "      --disabled-fill-color: #666;\n",
              "  }\n",
              "\n",
              "  .colab-df-quickchart {\n",
              "    background-color: var(--bg-color);\n",
              "    border: none;\n",
              "    border-radius: 50%;\n",
              "    cursor: pointer;\n",
              "    display: none;\n",
              "    fill: var(--fill-color);\n",
              "    height: 32px;\n",
              "    padding: 0;\n",
              "    width: 32px;\n",
              "  }\n",
              "\n",
              "  .colab-df-quickchart:hover {\n",
              "    background-color: var(--hover-bg-color);\n",
              "    box-shadow: 0 1px 2px rgba(60, 64, 67, 0.3), 0 1px 3px 1px rgba(60, 64, 67, 0.15);\n",
              "    fill: var(--button-hover-fill-color);\n",
              "  }\n",
              "\n",
              "  .colab-df-quickchart-complete:disabled,\n",
              "  .colab-df-quickchart-complete:disabled:hover {\n",
              "    background-color: var(--disabled-bg-color);\n",
              "    fill: var(--disabled-fill-color);\n",
              "    box-shadow: none;\n",
              "  }\n",
              "\n",
              "  .colab-df-spinner {\n",
              "    border: 2px solid var(--fill-color);\n",
              "    border-color: transparent;\n",
              "    border-bottom-color: var(--fill-color);\n",
              "    animation:\n",
              "      spin 1s steps(1) infinite;\n",
              "  }\n",
              "\n",
              "  @keyframes spin {\n",
              "    0% {\n",
              "      border-color: transparent;\n",
              "      border-bottom-color: var(--fill-color);\n",
              "      border-left-color: var(--fill-color);\n",
              "    }\n",
              "    20% {\n",
              "      border-color: transparent;\n",
              "      border-left-color: var(--fill-color);\n",
              "      border-top-color: var(--fill-color);\n",
              "    }\n",
              "    30% {\n",
              "      border-color: transparent;\n",
              "      border-left-color: var(--fill-color);\n",
              "      border-top-color: var(--fill-color);\n",
              "      border-right-color: var(--fill-color);\n",
              "    }\n",
              "    40% {\n",
              "      border-color: transparent;\n",
              "      border-right-color: var(--fill-color);\n",
              "      border-top-color: var(--fill-color);\n",
              "    }\n",
              "    60% {\n",
              "      border-color: transparent;\n",
              "      border-right-color: var(--fill-color);\n",
              "    }\n",
              "    80% {\n",
              "      border-color: transparent;\n",
              "      border-right-color: var(--fill-color);\n",
              "      border-bottom-color: var(--fill-color);\n",
              "    }\n",
              "    90% {\n",
              "      border-color: transparent;\n",
              "      border-bottom-color: var(--fill-color);\n",
              "    }\n",
              "  }\n",
              "</style>\n",
              "\n",
              "  <script>\n",
              "    async function quickchart(key) {\n",
              "      const quickchartButtonEl =\n",
              "        document.querySelector('#' + key + ' button');\n",
              "      quickchartButtonEl.disabled = true;  // To prevent multiple clicks.\n",
              "      quickchartButtonEl.classList.add('colab-df-spinner');\n",
              "      try {\n",
              "        const charts = await google.colab.kernel.invokeFunction(\n",
              "            'suggestCharts', [key], {});\n",
              "      } catch (error) {\n",
              "        console.error('Error during call to suggestCharts:', error);\n",
              "      }\n",
              "      quickchartButtonEl.classList.remove('colab-df-spinner');\n",
              "      quickchartButtonEl.classList.add('colab-df-quickchart-complete');\n",
              "    }\n",
              "    (() => {\n",
              "      let quickchartButtonEl =\n",
              "        document.querySelector('#df-f7929ff6-048b-485c-8377-4545b97e88c4 button');\n",
              "      quickchartButtonEl.style.display =\n",
              "        google.colab.kernel.accessAllowed ? 'block' : 'none';\n",
              "    })();\n",
              "  </script>\n",
              "</div>\n",
              "\n",
              "    </div>\n",
              "  </div>\n"
            ],
            "application/vnd.google.colaboratory.intrinsic+json": {
              "type": "dataframe",
              "variable_name": "coffee_df",
              "summary": "{\n  \"name\": \"coffee_df\",\n  \"rows\": 2095,\n  \"fields\": [\n    {\n      \"column\": \"name\",\n      \"properties\": {\n        \"dtype\": \"string\",\n        \"num_unique_values\": 1909,\n        \"samples\": [\n          \"Guatemala El Injerto Natural Legendary Gesha 7\",\n          \"Sumatra Tano Batak\",\n          \"Costa Rica La Toboba Red Honey\"\n        ],\n        \"semantic_type\": \"\",\n        \"description\": \"\"\n      }\n    },\n    {\n      \"column\": \"roaster\",\n      \"properties\": {\n        \"dtype\": \"category\",\n        \"num_unique_values\": 424,\n        \"samples\": [\n          \"Nine Point Coffee\",\n          \"Normandy Coffee Thai Cuisine\",\n          \"Stereo Coffee Roasters\"\n        ],\n        \"semantic_type\": \"\",\n        \"description\": \"\"\n      }\n    },\n    {\n      \"column\": \"roast\",\n      \"properties\": {\n        \"dtype\": \"category\",\n        \"num_unique_values\": 5,\n        \"samples\": [\n          \"Medium\",\n          \"Dark\",\n          \"Light\"\n        ],\n        \"semantic_type\": \"\",\n        \"description\": \"\"\n      }\n    },\n    {\n      \"column\": \"loc_country\",\n      \"properties\": {\n        \"dtype\": \"category\",\n        \"num_unique_values\": 19,\n        \"samples\": [\n          \"Hong Kong\",\n          \"Australia\",\n          \"Guatemala\"\n        ],\n        \"semantic_type\": \"\",\n        \"description\": \"\"\n      }\n    },\n    {\n      \"column\": \"origin_1\",\n      \"properties\": {\n        \"dtype\": \"category\",\n        \"num_unique_values\": 614,\n        \"samples\": [\n          \"Veracruz\",\n          \"Yautepec/Miahuatlan\",\n          \"Ja\\u00e9n Province\"\n        ],\n        \"semantic_type\": \"\",\n        \"description\": \"\"\n      }\n    },\n    {\n      \"column\": \"origin_2\",\n      \"properties\": {\n        \"dtype\": \"category\",\n        \"num_unique_values\": 357,\n        \"samples\": [\n          \"\\u201cBig Island\\u201d Of Hawai\\u2019I\",\n          \"Peru\",\n          \"Western Guji\"\n        ],\n        \"semantic_type\": \"\",\n        \"description\": \"\"\n      }\n    },\n    {\n      \"column\": \"100g_USD\",\n      \"properties\": {\n        \"dtype\": \"number\",\n        \"std\": 11.430659123983121,\n        \"min\": 0.12,\n        \"max\": 132.28,\n        \"num_unique_values\": 473,\n        \"samples\": [\n          8.02,\n          6.15,\n          32.63\n        ],\n        \"semantic_type\": \"\",\n        \"description\": \"\"\n      }\n    },\n    {\n      \"column\": \"rating\",\n      \"properties\": {\n        \"dtype\": \"number\",\n        \"std\": 1,\n        \"min\": 84,\n        \"max\": 98,\n        \"num_unique_values\": 15,\n        \"samples\": [\n          96,\n          86,\n          95\n        ],\n        \"semantic_type\": \"\",\n        \"description\": \"\"\n      }\n    },\n    {\n      \"column\": \"review_date\",\n      \"properties\": {\n        \"dtype\": \"object\",\n        \"num_unique_values\": 61,\n        \"samples\": [\n          \"November 2017\",\n          \"April 2018\",\n          \"September 2021\"\n        ],\n        \"semantic_type\": \"\",\n        \"description\": \"\"\n      }\n    },\n    {\n      \"column\": \"desc_1\",\n      \"properties\": {\n        \"dtype\": \"string\",\n        \"num_unique_values\": 2092,\n        \"samples\": [\n          \"Delicately sweet-tart. Apricot, cocoa nib, hazelnut, Meyer lemon zest, hyacinth in aroma and cup. Sweetly tart structure with vibrant, citrusy acidity; smooth, satiny mouthfeel. Cocoa-toned finish supported by notes of stone fruit and sweet citrus zest.\",\n          \"Deeply and pungently sweet-tart. Lavender, grapefruit zest, sandalwood, blackberry, a hint of baker\\u2019s chocolate in aroma and cup. Simultaneously brightly tart and deeply savory in structure. Lightly syrupy, plush mouthfeel. Grapefruit zest and blackberry carry into a crisply resonant finish.\",\n          \"Evaluated as espresso. Crisply sweet, spice-toned. Roasted cashew, gardenia, apricot, cardamom, baker\\u2019s chocolate in aroma and small cup. Satiny mouthfeel; richly layered finish with notes of chocolate and faintly smoky aromatic wood. Crisply and persuasively chocolaty in three parts milk.\"\n        ],\n        \"semantic_type\": \"\",\n        \"description\": \"\"\n      }\n    },\n    {\n      \"column\": \"desc_2\",\n      \"properties\": {\n        \"dtype\": \"string\",\n        \"num_unique_values\": 2029,\n        \"samples\": [\n          \"A blend of coffees from Guatemala, Brazil, and Indonesia roasted for espresso. Founded by Paul Massard and Chris Nolte, Per\\u2019la focuses on meticulous sourcing and roasting fine coffees in small batches. Visit www.drinkperla.com for more information.\",\n          \"Southern Ethiopia coffees like this one are largely produced from distinctive indigenous Ethiopian varieties of Arabica long grown in their respective regions. This is a dry-processed or \\u201cnatural\\u201d version, meaning the beans were dried inside the fruit rather than after the fruit has been removed, as is the case with wet-processed or \\u201cwashed\\u201d coffees. MT49 Cafe is a specialty coffee shop and bakery in Taichung City, Taiwan. Visit https://www.facebook.com/MT49cafe/\\u00a0 for more information.\",\n          \"Produced by members of the Kibugu Farmer's Cooperative Society and comprised of coffees from trees of the SL 28, Ruiru 11 and Batian varieties of Arabica. Committed to sourcing, roasting and brewing the finest coffees, Temple features coffee from distinguished single estates and cooperatives around the world. Visit www.templecoffee.com or call 916-454-1282 for more information.\"\n        ],\n        \"semantic_type\": \"\",\n        \"description\": \"\"\n      }\n    },\n    {\n      \"column\": \"desc_3\",\n      \"properties\": {\n        \"dtype\": \"string\",\n        \"num_unique_values\": 2090,\n        \"samples\": [\n          \"An elegant, lyrical natural-process El Salvador Geisha cup, sweetly fruit- and floral-toned; a coffee that steps lightly but with poise and balance.\",\n          \"A high-toned, deeply sweet, richly tart and chocolaty coffee from the Bombe Mountains of Ethiopia.\",\n          \"A sweet, pleasingly floral coffee animated by berry and cocoa notes throughout.\"\n        ],\n        \"semantic_type\": \"\",\n        \"description\": \"\"\n      }\n    }\n  ]\n}"
            }
          },
          "metadata": {},
          "execution_count": 7
        }
      ],
      "source": [
        "# Take a quick look at the first five rows of the dataset\n",
        "\n",
        "coffee_df.head()"
      ]
    },
    {
      "cell_type": "code",
      "execution_count": null,
      "metadata": {
        "colab": {
          "base_uri": "https://localhost:8080/"
        },
        "id": "J5TRHNTN2zjn",
        "outputId": "ed507dde-daa8-46da-bf42-0c0c1f9b9deb"
      },
      "outputs": [
        {
          "output_type": "stream",
          "name": "stdout",
          "text": [
            "<class 'pandas.core.frame.DataFrame'>\n",
            "RangeIndex: 2095 entries, 0 to 2094\n",
            "Data columns (total 12 columns):\n",
            " #   Column       Non-Null Count  Dtype  \n",
            "---  ------       --------------  -----  \n",
            " 0   name         2095 non-null   object \n",
            " 1   roaster      2095 non-null   object \n",
            " 2   roast        2080 non-null   object \n",
            " 3   loc_country  2095 non-null   object \n",
            " 4   origin_1     2095 non-null   object \n",
            " 5   origin_2     2095 non-null   object \n",
            " 6   100g_USD     2095 non-null   float64\n",
            " 7   rating       2095 non-null   int64  \n",
            " 8   review_date  2095 non-null   object \n",
            " 9   desc_1       2095 non-null   object \n",
            " 10  desc_2       2095 non-null   object \n",
            " 11  desc_3       2093 non-null   object \n",
            "dtypes: float64(1), int64(1), object(10)\n",
            "memory usage: 196.5+ KB\n"
          ]
        }
      ],
      "source": [
        "'''\n",
        "Take a more detailed look at important information about the dataset, such as:\n",
        "    --> The total number of rows & columns\n",
        "    --> The column names\n",
        "    --> How many non-null values each column has\n",
        "    --> Each column's data type\n",
        "'''\n",
        "\n",
        "coffee_df.info()"
      ]
    },
    {
      "cell_type": "markdown",
      "metadata": {
        "id": "BrziQTXVmQaN"
      },
      "source": [
        "## **General Preprocessing and Data Cleaning**"
      ]
    },
    {
      "cell_type": "code",
      "execution_count": null,
      "metadata": {
        "id": "z0_CTAeh4eO2"
      },
      "outputs": [],
      "source": [
        "'''\n",
        "There are three description columns, but we're only going to be using the first one, so the other two get dropped.\n",
        "But in order to not mess with the original dataset, we store the dataframe without the extra two columns into a new dataframe called coffee_df2.\n",
        "'''\n",
        "coffee_df2 = coffee_df.drop(columns = ['desc_2','desc_3']).copy()"
      ]
    },
    {
      "cell_type": "code",
      "execution_count": null,
      "metadata": {
        "colab": {
          "base_uri": "https://localhost:8080/"
        },
        "id": "H3xDfGdB42Uh",
        "outputId": "6504d208-c380-4962-bc2d-e675eeff3a7c"
      },
      "outputs": [
        {
          "output_type": "stream",
          "name": "stdout",
          "text": [
            "name            0\n",
            "roaster         0\n",
            "roast          15\n",
            "loc_country     0\n",
            "origin_1        0\n",
            "origin_2        0\n",
            "100g_USD        0\n",
            "rating          0\n",
            "review_date     0\n",
            "desc_1          0\n",
            "dtype: int64\n"
          ]
        }
      ],
      "source": [
        "# Check to see if there are any null values in the \"new\" dataset.\n",
        "missing_values2 = coffee_df2.isnull().sum()\n",
        "print(missing_values2)"
      ]
    },
    {
      "cell_type": "code",
      "execution_count": null,
      "metadata": {
        "colab": {
          "base_uri": "https://localhost:8080/"
        },
        "id": "OTLBB_sb5m6h",
        "outputId": "5ff076fd-e11f-4018-ac06-e206ad9b844d"
      },
      "outputs": [
        {
          "output_type": "stream",
          "name": "stdout",
          "text": [
            "  Roasters with missing roasts\n",
            "0     Barefoot Coffee Roasters\n",
            "1            Difference Coffee\n",
            "2               Collage Coffee\n",
            "3       Bonfire Coffee Company\n",
            "4                    GK Coffee\n",
            "5              Taster's Coffee\n",
            "6                Port of Mokha\n"
          ]
        }
      ],
      "source": [
        "'''\n",
        "Since there are 15 rows where the roast is null, we need to impute them. But the specific roast of a coffee blend is dependent on the roaster; not every roaster is going to roast their coffee the same way.\n",
        "So first, we'll look at the roast distribution, i.e., for the 4 roasters associated with the 15 null value rows, how do they roast their coffee?\n",
        "'''\n",
        "\n",
        "null_rows_roast = coffee_df2[coffee_df2['roast'].isnull()]\n",
        "\n",
        "roasters_with_missing_roasts = null_rows_roast['roaster'].unique()\n",
        "\n",
        "roasters_with_null_roast_df = pd.DataFrame(roasters_with_missing_roasts, columns = ['Roasters with missing roasts'])\n",
        "\n",
        "roast_distribution = coffee_df2[coffee_df2['roaster'].isin(roasters_with_missing_roasts)].groupby(['roaster', 'roast']).size().unstack(fill_value = 0)\n",
        "\n",
        "print(roasters_with_null_roast_df)"
      ]
    },
    {
      "cell_type": "code",
      "execution_count": null,
      "metadata": {
        "colab": {
          "base_uri": "https://localhost:8080/",
          "height": 269
        },
        "id": "3lKwBQll3ZAr",
        "outputId": "02826529-eb48-4bbf-c66b-ff7419fb7318"
      },
      "outputs": [
        {
          "output_type": "execute_result",
          "data": {
            "text/plain": [
              "  Roasters with missing roasts\n",
              "0     Barefoot Coffee Roasters\n",
              "1            Difference Coffee\n",
              "2               Collage Coffee\n",
              "3       Bonfire Coffee Company\n",
              "4                    GK Coffee\n",
              "5              Taster's Coffee\n",
              "6                Port of Mokha"
            ],
            "text/html": [
              "\n",
              "  <div id=\"df-4bc50c57-b9f6-4972-bee7-1b247b09016b\" class=\"colab-df-container\">\n",
              "    <div>\n",
              "<style scoped>\n",
              "    .dataframe tbody tr th:only-of-type {\n",
              "        vertical-align: middle;\n",
              "    }\n",
              "\n",
              "    .dataframe tbody tr th {\n",
              "        vertical-align: top;\n",
              "    }\n",
              "\n",
              "    .dataframe thead th {\n",
              "        text-align: right;\n",
              "    }\n",
              "</style>\n",
              "<table border=\"1\" class=\"dataframe\">\n",
              "  <thead>\n",
              "    <tr style=\"text-align: right;\">\n",
              "      <th></th>\n",
              "      <th>Roasters with missing roasts</th>\n",
              "    </tr>\n",
              "  </thead>\n",
              "  <tbody>\n",
              "    <tr>\n",
              "      <th>0</th>\n",
              "      <td>Barefoot Coffee Roasters</td>\n",
              "    </tr>\n",
              "    <tr>\n",
              "      <th>1</th>\n",
              "      <td>Difference Coffee</td>\n",
              "    </tr>\n",
              "    <tr>\n",
              "      <th>2</th>\n",
              "      <td>Collage Coffee</td>\n",
              "    </tr>\n",
              "    <tr>\n",
              "      <th>3</th>\n",
              "      <td>Bonfire Coffee Company</td>\n",
              "    </tr>\n",
              "    <tr>\n",
              "      <th>4</th>\n",
              "      <td>GK Coffee</td>\n",
              "    </tr>\n",
              "    <tr>\n",
              "      <th>5</th>\n",
              "      <td>Taster's Coffee</td>\n",
              "    </tr>\n",
              "    <tr>\n",
              "      <th>6</th>\n",
              "      <td>Port of Mokha</td>\n",
              "    </tr>\n",
              "  </tbody>\n",
              "</table>\n",
              "</div>\n",
              "    <div class=\"colab-df-buttons\">\n",
              "\n",
              "  <div class=\"colab-df-container\">\n",
              "    <button class=\"colab-df-convert\" onclick=\"convertToInteractive('df-4bc50c57-b9f6-4972-bee7-1b247b09016b')\"\n",
              "            title=\"Convert this dataframe to an interactive table.\"\n",
              "            style=\"display:none;\">\n",
              "\n",
              "  <svg xmlns=\"http://www.w3.org/2000/svg\" height=\"24px\" viewBox=\"0 -960 960 960\">\n",
              "    <path d=\"M120-120v-720h720v720H120Zm60-500h600v-160H180v160Zm220 220h160v-160H400v160Zm0 220h160v-160H400v160ZM180-400h160v-160H180v160Zm440 0h160v-160H620v160ZM180-180h160v-160H180v160Zm440 0h160v-160H620v160Z\"/>\n",
              "  </svg>\n",
              "    </button>\n",
              "\n",
              "  <style>\n",
              "    .colab-df-container {\n",
              "      display:flex;\n",
              "      gap: 12px;\n",
              "    }\n",
              "\n",
              "    .colab-df-convert {\n",
              "      background-color: #E8F0FE;\n",
              "      border: none;\n",
              "      border-radius: 50%;\n",
              "      cursor: pointer;\n",
              "      display: none;\n",
              "      fill: #1967D2;\n",
              "      height: 32px;\n",
              "      padding: 0 0 0 0;\n",
              "      width: 32px;\n",
              "    }\n",
              "\n",
              "    .colab-df-convert:hover {\n",
              "      background-color: #E2EBFA;\n",
              "      box-shadow: 0px 1px 2px rgba(60, 64, 67, 0.3), 0px 1px 3px 1px rgba(60, 64, 67, 0.15);\n",
              "      fill: #174EA6;\n",
              "    }\n",
              "\n",
              "    .colab-df-buttons div {\n",
              "      margin-bottom: 4px;\n",
              "    }\n",
              "\n",
              "    [theme=dark] .colab-df-convert {\n",
              "      background-color: #3B4455;\n",
              "      fill: #D2E3FC;\n",
              "    }\n",
              "\n",
              "    [theme=dark] .colab-df-convert:hover {\n",
              "      background-color: #434B5C;\n",
              "      box-shadow: 0px 1px 3px 1px rgba(0, 0, 0, 0.15);\n",
              "      filter: drop-shadow(0px 1px 2px rgba(0, 0, 0, 0.3));\n",
              "      fill: #FFFFFF;\n",
              "    }\n",
              "  </style>\n",
              "\n",
              "    <script>\n",
              "      const buttonEl =\n",
              "        document.querySelector('#df-4bc50c57-b9f6-4972-bee7-1b247b09016b button.colab-df-convert');\n",
              "      buttonEl.style.display =\n",
              "        google.colab.kernel.accessAllowed ? 'block' : 'none';\n",
              "\n",
              "      async function convertToInteractive(key) {\n",
              "        const element = document.querySelector('#df-4bc50c57-b9f6-4972-bee7-1b247b09016b');\n",
              "        const dataTable =\n",
              "          await google.colab.kernel.invokeFunction('convertToInteractive',\n",
              "                                                    [key], {});\n",
              "        if (!dataTable) return;\n",
              "\n",
              "        const docLinkHtml = 'Like what you see? Visit the ' +\n",
              "          '<a target=\"_blank\" href=https://colab.research.google.com/notebooks/data_table.ipynb>data table notebook</a>'\n",
              "          + ' to learn more about interactive tables.';\n",
              "        element.innerHTML = '';\n",
              "        dataTable['output_type'] = 'display_data';\n",
              "        await google.colab.output.renderOutput(dataTable, element);\n",
              "        const docLink = document.createElement('div');\n",
              "        docLink.innerHTML = docLinkHtml;\n",
              "        element.appendChild(docLink);\n",
              "      }\n",
              "    </script>\n",
              "  </div>\n",
              "\n",
              "\n",
              "<div id=\"df-4ca9a5e0-3791-4444-95ba-2354b8a99a12\">\n",
              "  <button class=\"colab-df-quickchart\" onclick=\"quickchart('df-4ca9a5e0-3791-4444-95ba-2354b8a99a12')\"\n",
              "            title=\"Suggest charts\"\n",
              "            style=\"display:none;\">\n",
              "\n",
              "<svg xmlns=\"http://www.w3.org/2000/svg\" height=\"24px\"viewBox=\"0 0 24 24\"\n",
              "     width=\"24px\">\n",
              "    <g>\n",
              "        <path d=\"M19 3H5c-1.1 0-2 .9-2 2v14c0 1.1.9 2 2 2h14c1.1 0 2-.9 2-2V5c0-1.1-.9-2-2-2zM9 17H7v-7h2v7zm4 0h-2V7h2v10zm4 0h-2v-4h2v4z\"/>\n",
              "    </g>\n",
              "</svg>\n",
              "  </button>\n",
              "\n",
              "<style>\n",
              "  .colab-df-quickchart {\n",
              "      --bg-color: #E8F0FE;\n",
              "      --fill-color: #1967D2;\n",
              "      --hover-bg-color: #E2EBFA;\n",
              "      --hover-fill-color: #174EA6;\n",
              "      --disabled-fill-color: #AAA;\n",
              "      --disabled-bg-color: #DDD;\n",
              "  }\n",
              "\n",
              "  [theme=dark] .colab-df-quickchart {\n",
              "      --bg-color: #3B4455;\n",
              "      --fill-color: #D2E3FC;\n",
              "      --hover-bg-color: #434B5C;\n",
              "      --hover-fill-color: #FFFFFF;\n",
              "      --disabled-bg-color: #3B4455;\n",
              "      --disabled-fill-color: #666;\n",
              "  }\n",
              "\n",
              "  .colab-df-quickchart {\n",
              "    background-color: var(--bg-color);\n",
              "    border: none;\n",
              "    border-radius: 50%;\n",
              "    cursor: pointer;\n",
              "    display: none;\n",
              "    fill: var(--fill-color);\n",
              "    height: 32px;\n",
              "    padding: 0;\n",
              "    width: 32px;\n",
              "  }\n",
              "\n",
              "  .colab-df-quickchart:hover {\n",
              "    background-color: var(--hover-bg-color);\n",
              "    box-shadow: 0 1px 2px rgba(60, 64, 67, 0.3), 0 1px 3px 1px rgba(60, 64, 67, 0.15);\n",
              "    fill: var(--button-hover-fill-color);\n",
              "  }\n",
              "\n",
              "  .colab-df-quickchart-complete:disabled,\n",
              "  .colab-df-quickchart-complete:disabled:hover {\n",
              "    background-color: var(--disabled-bg-color);\n",
              "    fill: var(--disabled-fill-color);\n",
              "    box-shadow: none;\n",
              "  }\n",
              "\n",
              "  .colab-df-spinner {\n",
              "    border: 2px solid var(--fill-color);\n",
              "    border-color: transparent;\n",
              "    border-bottom-color: var(--fill-color);\n",
              "    animation:\n",
              "      spin 1s steps(1) infinite;\n",
              "  }\n",
              "\n",
              "  @keyframes spin {\n",
              "    0% {\n",
              "      border-color: transparent;\n",
              "      border-bottom-color: var(--fill-color);\n",
              "      border-left-color: var(--fill-color);\n",
              "    }\n",
              "    20% {\n",
              "      border-color: transparent;\n",
              "      border-left-color: var(--fill-color);\n",
              "      border-top-color: var(--fill-color);\n",
              "    }\n",
              "    30% {\n",
              "      border-color: transparent;\n",
              "      border-left-color: var(--fill-color);\n",
              "      border-top-color: var(--fill-color);\n",
              "      border-right-color: var(--fill-color);\n",
              "    }\n",
              "    40% {\n",
              "      border-color: transparent;\n",
              "      border-right-color: var(--fill-color);\n",
              "      border-top-color: var(--fill-color);\n",
              "    }\n",
              "    60% {\n",
              "      border-color: transparent;\n",
              "      border-right-color: var(--fill-color);\n",
              "    }\n",
              "    80% {\n",
              "      border-color: transparent;\n",
              "      border-right-color: var(--fill-color);\n",
              "      border-bottom-color: var(--fill-color);\n",
              "    }\n",
              "    90% {\n",
              "      border-color: transparent;\n",
              "      border-bottom-color: var(--fill-color);\n",
              "    }\n",
              "  }\n",
              "</style>\n",
              "\n",
              "  <script>\n",
              "    async function quickchart(key) {\n",
              "      const quickchartButtonEl =\n",
              "        document.querySelector('#' + key + ' button');\n",
              "      quickchartButtonEl.disabled = true;  // To prevent multiple clicks.\n",
              "      quickchartButtonEl.classList.add('colab-df-spinner');\n",
              "      try {\n",
              "        const charts = await google.colab.kernel.invokeFunction(\n",
              "            'suggestCharts', [key], {});\n",
              "      } catch (error) {\n",
              "        console.error('Error during call to suggestCharts:', error);\n",
              "      }\n",
              "      quickchartButtonEl.classList.remove('colab-df-spinner');\n",
              "      quickchartButtonEl.classList.add('colab-df-quickchart-complete');\n",
              "    }\n",
              "    (() => {\n",
              "      let quickchartButtonEl =\n",
              "        document.querySelector('#df-4ca9a5e0-3791-4444-95ba-2354b8a99a12 button');\n",
              "      quickchartButtonEl.style.display =\n",
              "        google.colab.kernel.accessAllowed ? 'block' : 'none';\n",
              "    })();\n",
              "  </script>\n",
              "</div>\n",
              "\n",
              "  <div id=\"id_cd6afeba-bbcf-494d-9305-f8276488e323\">\n",
              "    <style>\n",
              "      .colab-df-generate {\n",
              "        background-color: #E8F0FE;\n",
              "        border: none;\n",
              "        border-radius: 50%;\n",
              "        cursor: pointer;\n",
              "        display: none;\n",
              "        fill: #1967D2;\n",
              "        height: 32px;\n",
              "        padding: 0 0 0 0;\n",
              "        width: 32px;\n",
              "      }\n",
              "\n",
              "      .colab-df-generate:hover {\n",
              "        background-color: #E2EBFA;\n",
              "        box-shadow: 0px 1px 2px rgba(60, 64, 67, 0.3), 0px 1px 3px 1px rgba(60, 64, 67, 0.15);\n",
              "        fill: #174EA6;\n",
              "      }\n",
              "\n",
              "      [theme=dark] .colab-df-generate {\n",
              "        background-color: #3B4455;\n",
              "        fill: #D2E3FC;\n",
              "      }\n",
              "\n",
              "      [theme=dark] .colab-df-generate:hover {\n",
              "        background-color: #434B5C;\n",
              "        box-shadow: 0px 1px 3px 1px rgba(0, 0, 0, 0.15);\n",
              "        filter: drop-shadow(0px 1px 2px rgba(0, 0, 0, 0.3));\n",
              "        fill: #FFFFFF;\n",
              "      }\n",
              "    </style>\n",
              "    <button class=\"colab-df-generate\" onclick=\"generateWithVariable('roasters_with_null_roast_df')\"\n",
              "            title=\"Generate code using this dataframe.\"\n",
              "            style=\"display:none;\">\n",
              "\n",
              "  <svg xmlns=\"http://www.w3.org/2000/svg\" height=\"24px\"viewBox=\"0 0 24 24\"\n",
              "       width=\"24px\">\n",
              "    <path d=\"M7,19H8.4L18.45,9,17,7.55,7,17.6ZM5,21V16.75L18.45,3.32a2,2,0,0,1,2.83,0l1.4,1.43a1.91,1.91,0,0,1,.58,1.4,1.91,1.91,0,0,1-.58,1.4L9.25,21ZM18.45,9,17,7.55Zm-12,3A5.31,5.31,0,0,0,4.9,8.1,5.31,5.31,0,0,0,1,6.5,5.31,5.31,0,0,0,4.9,4.9,5.31,5.31,0,0,0,6.5,1,5.31,5.31,0,0,0,8.1,4.9,5.31,5.31,0,0,0,12,6.5,5.46,5.46,0,0,0,6.5,12Z\"/>\n",
              "  </svg>\n",
              "    </button>\n",
              "    <script>\n",
              "      (() => {\n",
              "      const buttonEl =\n",
              "        document.querySelector('#id_cd6afeba-bbcf-494d-9305-f8276488e323 button.colab-df-generate');\n",
              "      buttonEl.style.display =\n",
              "        google.colab.kernel.accessAllowed ? 'block' : 'none';\n",
              "\n",
              "      buttonEl.onclick = () => {\n",
              "        google.colab.notebook.generateWithVariable('roasters_with_null_roast_df');\n",
              "      }\n",
              "      })();\n",
              "    </script>\n",
              "  </div>\n",
              "\n",
              "    </div>\n",
              "  </div>\n"
            ],
            "application/vnd.google.colaboratory.intrinsic+json": {
              "type": "dataframe",
              "variable_name": "roasters_with_null_roast_df",
              "summary": "{\n  \"name\": \"roasters_with_null_roast_df\",\n  \"rows\": 7,\n  \"fields\": [\n    {\n      \"column\": \"Roasters with missing roasts\",\n      \"properties\": {\n        \"dtype\": \"string\",\n        \"num_unique_values\": 7,\n        \"samples\": [\n          \"Barefoot Coffee Roasters\",\n          \"Difference Coffee\",\n          \"Taster's Coffee\"\n        ],\n        \"semantic_type\": \"\",\n        \"description\": \"\"\n      }\n    }\n  ]\n}"
            }
          },
          "metadata": {},
          "execution_count": 12
        }
      ],
      "source": [
        "roasters_with_null_roast_df"
      ]
    },
    {
      "cell_type": "code",
      "execution_count": null,
      "metadata": {
        "colab": {
          "base_uri": "https://localhost:8080/"
        },
        "id": "I1dPK94q3ZEG",
        "outputId": "d120cad1-264b-4eb5-9b94-1244bae9791f"
      },
      "outputs": [
        {
          "output_type": "stream",
          "name": "stdout",
          "text": [
            "Roast Distribution: \n",
            "roast              Light  Medium  Medium-Light\n",
            "roaster                                       \n",
            "Collage Coffee         1       0             4\n",
            "Difference Coffee      0       0             1\n",
            "GK Coffee              7       5            22\n",
            "Taster's Coffee        3       0             0\n",
            "\n"
          ]
        }
      ],
      "source": [
        "print(f\"Roast Distribution: \\n{roast_distribution}\\n\")"
      ]
    },
    {
      "cell_type": "code",
      "execution_count": null,
      "metadata": {
        "colab": {
          "base_uri": "https://localhost:8080/"
        },
        "id": "O5C7TxqqBqEP",
        "outputId": "1fbac6b3-2b36-43be-a5f7-e00bcb71e388"
      },
      "outputs": [
        {
          "output_type": "stream",
          "name": "stdout",
          "text": [
            "Remaining null values in roast: 4\n"
          ]
        }
      ],
      "source": [
        "'''\n",
        "Based on the roast distribution above, the imputation breakdown is as follows:\n",
        "    --> Collage Coffee, GK Coffee, & Difference Coffee each tend to give their coffees a medium-light roast, so we'll impute null values associated with those 3 roasters with Medium-Light.\n",
        "    --> But Taster's Coffee tends to give their coffee a light roast, so we'll impute null values associated with them with Light.\n",
        "    --> For the other three, because they don't have any other rows with the roast listed, we have to tackle them separately below.\n",
        "'''\n",
        "\n",
        "coffee_df2.loc[(coffee_df2['roaster'] == 'Collage Coffee') & (coffee_df2['roast'].isnull()), 'roast'] = 'Medium-Light'\n",
        "coffee_df2.loc[(coffee_df2['roaster'] == 'GK Coffee') & (coffee_df2['roast'].isnull()), 'roast'] = 'Medium-Light'\n",
        "coffee_df2.loc[(coffee_df2['roaster'] == 'Difference Coffee') & (coffee_df2['roast'].isnull()), 'roast'] = 'Medium-Light'\n",
        "\n",
        "coffee_df2.loc[(coffee_df2['roaster'] == 'Taster\\'s Coffee') & (coffee_df2['roast'].isnull()), 'roast'] = 'Light'\n",
        "\n",
        "remaining_null_values = coffee_df2['roast'].isnull().sum()\n",
        "print(f\"Remaining null values in roast: {remaining_null_values}\")"
      ]
    },
    {
      "cell_type": "code",
      "execution_count": null,
      "metadata": {
        "colab": {
          "base_uri": "https://localhost:8080/"
        },
        "id": "VTsxyvrFgmjO",
        "outputId": "25a0fe22-5f7f-459a-a551-420aed1563b5"
      },
      "outputs": [
        {
          "output_type": "stream",
          "name": "stdout",
          "text": [
            "                       roaster         origin_1            origin_2\n",
            "209   Barefoot Coffee Roasters        Guatemala       Not Disclosed\n",
            "815     Bonfire Coffee Company       Jimma Zone        Oromia State\n",
            "1484             Port of Mokha  Al Hayma Region  Sana’A Governorate\n",
            "1486             Port of Mokha   Al Wadi Region  Sana’A Governorate\n"
          ]
        }
      ],
      "source": [
        "# Since a coffee's roast is also dependent on the region of origin, let's look at the two origin columns, and impute based on that.\n",
        "\n",
        "missing_roasters_rows = coffee_df2[(coffee_df2['roaster'].isin(['Barefoot Coffee Roasters', 'Bonfire Coffee Company', 'Port of Mokha'])) & (coffee_df2['roast'].isnull())]\n",
        "print(missing_roasters_rows[['roaster', 'origin_1', 'origin_2']])"
      ]
    },
    {
      "cell_type": "code",
      "execution_count": null,
      "metadata": {
        "colab": {
          "base_uri": "https://localhost:8080/"
        },
        "id": "FJm_o1lnSlvE",
        "outputId": "3465ea1c-fb28-43d9-eabd-77c3a80a7c01"
      },
      "outputs": [
        {
          "output_type": "stream",
          "name": "stdout",
          "text": [
            "                                                   name  \\\n",
            "209                                           Cold Brew   \n",
            "342                                         Nano Challa   \n",
            "363                                Bombe Natural Sidama   \n",
            "395                                Nano Challa Ethiopia   \n",
            "561   Ethiopia Sidama Naia Bomb Natural Vertical Res...   \n",
            "573                   Ethiopia Limu Nano Challa Lot #10   \n",
            "581   Ethiopia Sidama Naia Bombe Dry Ferment Vertica...   \n",
            "720                       Ethiopia Sidama Bombe Natural   \n",
            "815                      Ethiopia Nano Challa Cold Brew   \n",
            "869                               Limu Ethiopia Natural   \n",
            "1486                                      Yemen Al Wadi   \n",
            "\n",
            "                            roaster         roast    loc_country  \\\n",
            "209        Barefoot Coffee Roasters           NaN  United States   \n",
            "342       Bird Rock Coffee Roasters  Medium-Light  United States   \n",
            "363               Broadsheet Coffee  Medium-Light  United States   \n",
            "395                   Tandem Coffee  Medium-Light  United States   \n",
            "561                       Coffeebar  Medium-Light  United States   \n",
            "573   Branch Street Coffee Roasters  Medium-Light  United States   \n",
            "581                       Coffeebar  Medium-Light  United States   \n",
            "720               Fire Ridge Coffee        Medium  United States   \n",
            "815          Bonfire Coffee Company           NaN  United States   \n",
            "869                      BLK & Bold         Light  United States   \n",
            "1486                  Port of Mokha           NaN  United States   \n",
            "\n",
            "            origin_1            origin_2  100g_USD  rating     review_date  \\\n",
            "209        Guatemala       Not Disclosed      0.12      90       July 2018   \n",
            "342       Jimma Zone        Oromia State      6.76      93   November 2018   \n",
            "363       Jimma Zone        Oromia State      6.17      92   February 2019   \n",
            "395       Jimma Zone        Oromia State      5.29      93   February 2019   \n",
            "561       Jimma Zone        Oromia State      5.88      93    October 2019   \n",
            "573       Jimma Zone        Oromia State      5.73      94  September 2019   \n",
            "581       Jimma Zone        Oromia State      5.88      93   November 2019   \n",
            "720       Jimma Zone        Oromia State      5.29      93      April 2020   \n",
            "815       Jimma Zone        Oromia State      1.34      94       July 2020   \n",
            "869       Jimma Zone        Oromia State      4.12      94     August 2020   \n",
            "1486  Al Wadi Region  Sana’A Governorate     28.22      94    October 2021   \n",
            "\n",
            "                                                 desc_1  \n",
            "209   A ready-to-drink bottled black coffee tested o...  \n",
            "342   Delicate, sweetly tart. Lemon drop, roasted ca...  \n",
            "363   Fruit-forward, sweetly herbaceous. Raspberry c...  \n",
            "395   High-toned, deeply sweet. Mango, gardenia, fre...  \n",
            "561   Sweetly fruit-toned, accessibly fermenty. Rasp...  \n",
            "573   Vibrant, floral, richly sweet. Jasmine, white ...  \n",
            "581   Richly sweet-savory, spice- and floral-toned. ...  \n",
            "720   Cleanly fruit-forward. Ripe strawberry, bay (w...  \n",
            "815   A ready-to-drink black coffee, tested cold. Ri...  \n",
            "869   Cleanly fruit-toned, tropical. Passion fruit, ...  \n",
            "1486  Resonantly floral and fruit-centered. Date, or...  \n"
          ]
        }
      ],
      "source": [
        "# Start off by checking all the rows where the origin combinations above are used.\n",
        "\n",
        "origin_combinations = [\n",
        "    ('Guatemala', 'Not Disclosed'),\n",
        "    ('Jimma Zone', 'Oromia State'),\n",
        "    ('Al Hayma Region', 'Sana’ Governorate'),\n",
        "    ('Al Wadi Region', 'Sana’A Governorate')\n",
        "]\n",
        "\n",
        "filtered_rows = coffee_df2[\n",
        "    coffee_df2[['origin_1', 'origin_2']].apply(tuple, axis = 1).isin(origin_combinations)\n",
        "]\n",
        "\n",
        "print(filtered_rows)"
      ]
    },
    {
      "cell_type": "code",
      "execution_count": null,
      "metadata": {
        "id": "B_dq4mmGTi-K"
      },
      "outputs": [],
      "source": [
        "# Then impute based on the most common roast type that makes sense for those three roasters based on their origin combinations.\n",
        "\n",
        "coffee_df2.loc[(coffee_df2['roaster'] == 'Barefoot Coffee Roasters') & (coffee_df2['roast'].isnull()), 'roast'] = 'Medium-Light'\n",
        "coffee_df2.loc[(coffee_df2['roaster'] == 'Bonfire Coffee Company') & (coffee_df2['roast'].isnull()), 'roast'] = 'Medium'\n",
        "coffee_df2.loc[(coffee_df2['roaster'] == 'Port of Mokha') & (coffee_df2['roast'].isnull()), 'roast'] = 'Medium-Light'"
      ]
    },
    {
      "cell_type": "code",
      "execution_count": null,
      "metadata": {
        "colab": {
          "base_uri": "https://localhost:8080/"
        },
        "id": "y1w4Txq8lUVS",
        "outputId": "def105f0-94ec-4f49-a236-bbac7b47a5b0"
      },
      "outputs": [
        {
          "output_type": "stream",
          "name": "stdout",
          "text": [
            "name           0\n",
            "roaster        0\n",
            "roast          0\n",
            "loc_country    0\n",
            "origin_1       0\n",
            "origin_2       0\n",
            "100g_USD       0\n",
            "rating         0\n",
            "review_date    0\n",
            "desc_1         0\n",
            "dtype: int64\n"
          ]
        }
      ],
      "source": [
        "# One final check to see if there are any null values still left.\n",
        "missing_values3 = coffee_df2.isnull().sum()\n",
        "print(missing_values3)"
      ]
    },
    {
      "cell_type": "code",
      "execution_count": null,
      "metadata": {
        "colab": {
          "base_uri": "https://localhost:8080/"
        },
        "id": "z0mpTcs2DgSm",
        "outputId": "f6366205-88ec-448d-a427-1e3571b38d0f"
      },
      "outputs": [
        {
          "output_type": "stream",
          "name": "stdout",
          "text": [
            "['Medium-Light' 'Medium' 'Light' 'Medium-Dark' 'Dark']\n"
          ]
        }
      ],
      "source": [
        "# Since underscores are easier for Python to parse then dashes, let's replace them. First check which values in the 'roast' column have dashes.\n",
        "\n",
        "unique_roasts = coffee_df2['roast'].unique()\n",
        "\n",
        "print(unique_roasts)"
      ]
    },
    {
      "cell_type": "code",
      "execution_count": null,
      "metadata": {
        "colab": {
          "base_uri": "https://localhost:8080/"
        },
        "id": "tZtCfWxrD98e",
        "outputId": "5da00ec3-97dd-4865-d7f0-44d47bafd065"
      },
      "outputs": [
        {
          "output_type": "stream",
          "name": "stdout",
          "text": [
            "['Medium_Light' 'Medium' 'Light' 'Medium_Dark' 'Dark']\n"
          ]
        }
      ],
      "source": [
        "# Then replace the dashes and check again to confirm.\n",
        "\n",
        "coffee_df2['roast'] = coffee_df2['roast'].str.replace('-', '_')\n",
        "\n",
        "updated_roasts = coffee_df2['roast'].unique()\n",
        "\n",
        "print(updated_roasts)"
      ]
    },
    {
      "cell_type": "code",
      "execution_count": null,
      "metadata": {
        "colab": {
          "base_uri": "https://localhost:8080/"
        },
        "id": "L4lEWouUJXcQ",
        "outputId": "9a8ce66c-0c45-41ce-aa80-a42899ab779e"
      },
      "outputs": [
        {
          "output_type": "stream",
          "name": "stderr",
          "text": [
            "<ipython-input-21-a58f55420c8a>:3: UserWarning: Could not infer format, so each element will be parsed individually, falling back to `dateutil`. To ensure parsing is consistent and as-expected, please specify a format.\n",
            "  coffee_df2['review_date'] = pd.to_datetime(coffee_df2['review_date'], errors = 'coerce')\n"
          ]
        }
      ],
      "source": [
        "# Next change the review date column to a datetime format.\n",
        "\n",
        "coffee_df2['review_date'] = pd.to_datetime(coffee_df2['review_date'], errors = 'coerce')"
      ]
    },
    {
      "cell_type": "code",
      "execution_count": null,
      "metadata": {
        "id": "yWvqPWKVKtVN"
      },
      "outputs": [],
      "source": [
        "# Remove the time portion of the modified review date column values\n",
        "\n",
        "coffee_df2['review_date'] = coffee_df2['review_date'].dt.date\n",
        "\n",
        "coffee_df2['review_date'] = coffee_df2['review_date'].astype(str)"
      ]
    },
    {
      "cell_type": "code",
      "execution_count": null,
      "metadata": {
        "colab": {
          "base_uri": "https://localhost:8080/"
        },
        "id": "msDavag-JtqN",
        "outputId": "27dfd5d8-9046-4d88-d264-813977158681"
      },
      "outputs": [
        {
          "output_type": "stream",
          "name": "stdout",
          "text": [
            "['2017-11-01' '2017-12-01' '2018-01-01' '2018-02-01' '2018-03-01'\n",
            " '2018-04-01' '2018-05-01' '2018-06-01' '2018-07-01' '2018-08-01'\n",
            " '2018-09-01' '2018-10-01' '2018-11-01' '2018-12-01' '2019-02-01'\n",
            " '2019-01-01' '2019-03-01' '2019-04-01' '2019-05-01' '2019-06-01'\n",
            " '2019-07-01' '2019-08-01' '2019-09-01' '2019-10-01' '2019-11-01'\n",
            " '2019-12-01' '2020-01-01' '2020-02-01' '2020-03-01' '2020-04-01'\n",
            " '2020-05-01' '2020-06-01' '2020-07-01' '2020-08-01' '2020-09-01'\n",
            " '2020-10-01' '2020-11-01' '2020-12-01' '2021-01-01' '2021-02-01'\n",
            " '2021-03-01' '2021-04-01' '2021-05-01' '2021-06-01' '2021-07-01'\n",
            " '2021-08-01' '2021-09-01' '2021-10-01' '2021-11-01' '2021-12-01'\n",
            " '2022-01-01' '2022-02-01' '2022-03-01' '2022-04-01' '2022-05-01'\n",
            " '2022-06-01' '2022-07-01' '2022-08-01' '2022-09-01' '2022-10-01'\n",
            " '2022-11-01']\n"
          ]
        }
      ],
      "source": [
        "# Check the modified review date column to confirm that the modifications have worked\n",
        "\n",
        "date_null_values = coffee_df2['review_date'].isnull().sum()\n",
        "\n",
        "print(coffee_df2['review_date'].unique())"
      ]
    },
    {
      "cell_type": "markdown",
      "metadata": {
        "id": "_Wl8hLeOmmbk"
      },
      "source": [
        "## **Text Cleaning and NLP**"
      ]
    },
    {
      "cell_type": "code",
      "execution_count": null,
      "metadata": {
        "id": "dl4UO1PIzz3d"
      },
      "outputs": [],
      "source": [
        "def clean_text(text):\n",
        "  text = text.lower()\n",
        "\n",
        "  text = text.translate(str.maketrans('', '', string.punctuation))\n",
        "\n",
        "  tokens = word_tokenize(text)\n",
        "\n",
        "  stop_words = set(stopwords.words('english'))\n",
        "  tokens = [word for word in tokens if word not in stop_words]\n",
        "\n",
        "  lemmatizer = WordNetLemmatizer()\n",
        "  tokens = [lemmatizer.lemmatize(word) for word in tokens]\n",
        "\n",
        "  cleaned_text = ' '.join(tokens)\n",
        "\n",
        "  return cleaned_text"
      ]
    },
    {
      "cell_type": "code",
      "execution_count": null,
      "metadata": {
        "colab": {
          "base_uri": "https://localhost:8080/"
        },
        "id": "D_XSe9tyzasj",
        "outputId": "5fde8ce6-3e32-4dd9-d5d8-04f9dba6c4ec"
      },
      "outputs": [
        {
          "output_type": "stream",
          "name": "stdout",
          "text": [
            "                                              desc_1  \\\n",
            "0  Evaluated as espresso. Sweet-toned, deeply ric...   \n",
            "1  Evaluated as espresso. Sweetly tart, floral-to...   \n",
            "2  Crisply sweet, cocoa-toned. Lemon blossom, roa...   \n",
            "3  Delicate, sweetly spice-toned. Pink peppercorn...   \n",
            "4  Deeply sweet, subtly pungent. Honey, pear, tan...   \n",
            "\n",
            "                                      cleaned_desc_1  \n",
            "0  evaluated espresso sweettoned deeply rich choc...  \n",
            "1  evaluated espresso sweetly tart floraltoned ho...  \n",
            "2  crisply sweet cocoatoned lemon blossom roasted...  \n",
            "3  delicate sweetly spicetoned pink peppercorn da...  \n",
            "4  deeply sweet subtly pungent honey pear tangeri...  \n"
          ]
        }
      ],
      "source": [
        "coffee_df2['cleaned_desc_1'] = coffee_df2['desc_1'].apply(clean_text)\n",
        "\n",
        "print(coffee_df2[['desc_1', 'cleaned_desc_1']].head())"
      ]
    },
    {
      "cell_type": "code",
      "execution_count": null,
      "metadata": {
        "colab": {
          "base_uri": "https://localhost:8080/",
          "height": 74
        },
        "id": "BKMbj5a70lTu",
        "outputId": "15d0ec49-6841-4487-c4e2-86b19f921b84"
      },
      "outputs": [
        {
          "output_type": "execute_result",
          "data": {
            "text/plain": [
              "LatentDirichletAllocation(n_components=5, random_state=42)"
            ],
            "text/html": [
              "<style>#sk-container-id-1 {color: black;}#sk-container-id-1 pre{padding: 0;}#sk-container-id-1 div.sk-toggleable {background-color: white;}#sk-container-id-1 label.sk-toggleable__label {cursor: pointer;display: block;width: 100%;margin-bottom: 0;padding: 0.3em;box-sizing: border-box;text-align: center;}#sk-container-id-1 label.sk-toggleable__label-arrow:before {content: \"▸\";float: left;margin-right: 0.25em;color: #696969;}#sk-container-id-1 label.sk-toggleable__label-arrow:hover:before {color: black;}#sk-container-id-1 div.sk-estimator:hover label.sk-toggleable__label-arrow:before {color: black;}#sk-container-id-1 div.sk-toggleable__content {max-height: 0;max-width: 0;overflow: hidden;text-align: left;background-color: #f0f8ff;}#sk-container-id-1 div.sk-toggleable__content pre {margin: 0.2em;color: black;border-radius: 0.25em;background-color: #f0f8ff;}#sk-container-id-1 input.sk-toggleable__control:checked~div.sk-toggleable__content {max-height: 200px;max-width: 100%;overflow: auto;}#sk-container-id-1 input.sk-toggleable__control:checked~label.sk-toggleable__label-arrow:before {content: \"▾\";}#sk-container-id-1 div.sk-estimator input.sk-toggleable__control:checked~label.sk-toggleable__label {background-color: #d4ebff;}#sk-container-id-1 div.sk-label input.sk-toggleable__control:checked~label.sk-toggleable__label {background-color: #d4ebff;}#sk-container-id-1 input.sk-hidden--visually {border: 0;clip: rect(1px 1px 1px 1px);clip: rect(1px, 1px, 1px, 1px);height: 1px;margin: -1px;overflow: hidden;padding: 0;position: absolute;width: 1px;}#sk-container-id-1 div.sk-estimator {font-family: monospace;background-color: #f0f8ff;border: 1px dotted black;border-radius: 0.25em;box-sizing: border-box;margin-bottom: 0.5em;}#sk-container-id-1 div.sk-estimator:hover {background-color: #d4ebff;}#sk-container-id-1 div.sk-parallel-item::after {content: \"\";width: 100%;border-bottom: 1px solid gray;flex-grow: 1;}#sk-container-id-1 div.sk-label:hover label.sk-toggleable__label {background-color: #d4ebff;}#sk-container-id-1 div.sk-serial::before {content: \"\";position: absolute;border-left: 1px solid gray;box-sizing: border-box;top: 0;bottom: 0;left: 50%;z-index: 0;}#sk-container-id-1 div.sk-serial {display: flex;flex-direction: column;align-items: center;background-color: white;padding-right: 0.2em;padding-left: 0.2em;position: relative;}#sk-container-id-1 div.sk-item {position: relative;z-index: 1;}#sk-container-id-1 div.sk-parallel {display: flex;align-items: stretch;justify-content: center;background-color: white;position: relative;}#sk-container-id-1 div.sk-item::before, #sk-container-id-1 div.sk-parallel-item::before {content: \"\";position: absolute;border-left: 1px solid gray;box-sizing: border-box;top: 0;bottom: 0;left: 50%;z-index: -1;}#sk-container-id-1 div.sk-parallel-item {display: flex;flex-direction: column;z-index: 1;position: relative;background-color: white;}#sk-container-id-1 div.sk-parallel-item:first-child::after {align-self: flex-end;width: 50%;}#sk-container-id-1 div.sk-parallel-item:last-child::after {align-self: flex-start;width: 50%;}#sk-container-id-1 div.sk-parallel-item:only-child::after {width: 0;}#sk-container-id-1 div.sk-dashed-wrapped {border: 1px dashed gray;margin: 0 0.4em 0.5em 0.4em;box-sizing: border-box;padding-bottom: 0.4em;background-color: white;}#sk-container-id-1 div.sk-label label {font-family: monospace;font-weight: bold;display: inline-block;line-height: 1.2em;}#sk-container-id-1 div.sk-label-container {text-align: center;}#sk-container-id-1 div.sk-container {/* jupyter's `normalize.less` sets `[hidden] { display: none; }` but bootstrap.min.css set `[hidden] { display: none !important; }` so we also need the `!important` here to be able to override the default hidden behavior on the sphinx rendered scikit-learn.org. See: https://github.com/scikit-learn/scikit-learn/issues/21755 */display: inline-block !important;position: relative;}#sk-container-id-1 div.sk-text-repr-fallback {display: none;}</style><div id=\"sk-container-id-1\" class=\"sk-top-container\"><div class=\"sk-text-repr-fallback\"><pre>LatentDirichletAllocation(n_components=5, random_state=42)</pre><b>In a Jupyter environment, please rerun this cell to show the HTML representation or trust the notebook. <br />On GitHub, the HTML representation is unable to render, please try loading this page with nbviewer.org.</b></div><div class=\"sk-container\" hidden><div class=\"sk-item\"><div class=\"sk-estimator sk-toggleable\"><input class=\"sk-toggleable__control sk-hidden--visually\" id=\"sk-estimator-id-1\" type=\"checkbox\" checked><label for=\"sk-estimator-id-1\" class=\"sk-toggleable__label sk-toggleable__label-arrow\">LatentDirichletAllocation</label><div class=\"sk-toggleable__content\"><pre>LatentDirichletAllocation(n_components=5, random_state=42)</pre></div></div></div></div></div>"
            ]
          },
          "metadata": {},
          "execution_count": 26
        }
      ],
      "source": [
        "vectorizer = CountVectorizer(max_df = 95, min_df = 2, stop_words = 'english')\n",
        "doc_term_matrix = vectorizer.fit_transform(coffee_df2['cleaned_desc_1'])\n",
        "\n",
        "lda = LatentDirichletAllocation(n_components = 5, random_state = 42)\n",
        "lda.fit(doc_term_matrix)"
      ]
    },
    {
      "cell_type": "code",
      "execution_count": null,
      "metadata": {
        "colab": {
          "base_uri": "https://localhost:8080/"
        },
        "id": "S-fz6D6o0lY0",
        "outputId": "723bcb89-3282-4da4-c286-e919ed8a4f7f"
      },
      "outputs": [
        {
          "output_type": "stream",
          "name": "stdout",
          "text": [
            "Topic #1:\n",
            "peppercorn pomegranate wisteria lime pistachio peach brittle mulberry citrus frankincense\n",
            "Topic #2:\n",
            "marjoram lychee bergamot blueberry grape blossom amber barrel thyme brightly\n",
            "Topic #3:\n",
            "lavender mango pear brown musk pungent layered hop fine quietly\n",
            "Topic #4:\n",
            "powder strawberry tamarind nougat freesia velvetysmooth tea wild rose blackberry\n",
            "Topic #5:\n",
            "tobacco lily scorched pipe raisin fudge cinnamon apple spice fresh\n"
          ]
        }
      ],
      "source": [
        "def display_topics(model, feature_names, num_top_words):\n",
        "  for topic_idx, topic in enumerate(model.components_):\n",
        "    print(f\"Topic #{topic_idx + 1}:\")\n",
        "    print(\" \".join([feature_names[i] for i in topic.argsort()[:-num_top_words - 1:-1]]))\n",
        "\n",
        "num_top_words = 10\n",
        "display_topics(lda, vectorizer.get_feature_names_out(), num_top_words)"
      ]
    },
    {
      "cell_type": "code",
      "source": [],
      "metadata": {
        "id": "Ajv6-Lg1opwF"
      },
      "execution_count": null,
      "outputs": []
    },
    {
      "cell_type": "markdown",
      "metadata": {
        "id": "K81CTc69B2qb"
      },
      "source": [
        "## **VADER**"
      ]
    },
    {
      "cell_type": "code",
      "execution_count": null,
      "metadata": {
        "colab": {
          "base_uri": "https://localhost:8080/",
          "height": 178
        },
        "id": "BYS5VQB30lbw",
        "outputId": "ce78af43-79c3-454b-96e0-6f2eadea594d"
      },
      "outputs": [
        {
          "output_type": "execute_result",
          "data": {
            "text/plain": [
              "label\n",
              "1    2053\n",
              "0      42\n",
              "Name: count, dtype: int64"
            ],
            "text/html": [
              "<div>\n",
              "<style scoped>\n",
              "    .dataframe tbody tr th:only-of-type {\n",
              "        vertical-align: middle;\n",
              "    }\n",
              "\n",
              "    .dataframe tbody tr th {\n",
              "        vertical-align: top;\n",
              "    }\n",
              "\n",
              "    .dataframe thead th {\n",
              "        text-align: right;\n",
              "    }\n",
              "</style>\n",
              "<table border=\"1\" class=\"dataframe\">\n",
              "  <thead>\n",
              "    <tr style=\"text-align: right;\">\n",
              "      <th></th>\n",
              "      <th>count</th>\n",
              "    </tr>\n",
              "    <tr>\n",
              "      <th>label</th>\n",
              "      <th></th>\n",
              "    </tr>\n",
              "  </thead>\n",
              "  <tbody>\n",
              "    <tr>\n",
              "      <th>1</th>\n",
              "      <td>2053</td>\n",
              "    </tr>\n",
              "    <tr>\n",
              "      <th>0</th>\n",
              "      <td>42</td>\n",
              "    </tr>\n",
              "  </tbody>\n",
              "</table>\n",
              "</div><br><label><b>dtype:</b> int64</label>"
            ]
          },
          "metadata": {},
          "execution_count": 28
        }
      ],
      "source": [
        "# Slightly restructure the approach to applying VADER to make RoBERTa implementation easier below.\n",
        "\n",
        "vader = SentimentIntensityAnalyzer()\n",
        "\n",
        "coffee_df2['sentiment_score'] = coffee_df2['cleaned_desc_1'].apply(lambda x: vader.polarity_scores(x)['compound'])\n",
        "\n",
        "coffee_df2['label'] = coffee_df2['sentiment_score'].apply(lambda x: 1 if x > 0 else 0)\n",
        "\n",
        "coffee_df2['label'].value_counts()"
      ]
    },
    {
      "cell_type": "markdown",
      "metadata": {
        "id": "haVkHTWRBxar"
      },
      "source": [
        "## **BERT**"
      ]
    },
    {
      "cell_type": "code",
      "execution_count": null,
      "metadata": {
        "colab": {
          "base_uri": "https://localhost:8080/",
          "height": 80
        },
        "collapsed": true,
        "id": "0N5h-0h5JmlB",
        "outputId": "d0d58bc3-9111-487d-8eff-3716c4a20abe"
      },
      "outputs": [
        {
          "output_type": "execute_result",
          "data": {
            "text/plain": [
              "                      name roaster         roast loc_country origin_1  \\\n",
              "0  “Sweety” Espresso Blend  A.R.C.  Medium_Light   Hong Kong   Panama   \n",
              "\n",
              "   origin_2  100g_USD  rating review_date  \\\n",
              "0  Ethiopia     14.32      95  2017-11-01   \n",
              "\n",
              "                                              desc_1  \\\n",
              "0  Evaluated as espresso. Sweet-toned, deeply ric...   \n",
              "\n",
              "                                      cleaned_desc_1  sentiment_score  label  \n",
              "0  evaluated espresso sweettoned deeply rich choc...            0.831      1  "
            ],
            "text/html": [
              "\n",
              "  <div id=\"df-a6c748a5-e965-40ce-93cf-2f2ac764b728\" class=\"colab-df-container\">\n",
              "    <div>\n",
              "<style scoped>\n",
              "    .dataframe tbody tr th:only-of-type {\n",
              "        vertical-align: middle;\n",
              "    }\n",
              "\n",
              "    .dataframe tbody tr th {\n",
              "        vertical-align: top;\n",
              "    }\n",
              "\n",
              "    .dataframe thead th {\n",
              "        text-align: right;\n",
              "    }\n",
              "</style>\n",
              "<table border=\"1\" class=\"dataframe\">\n",
              "  <thead>\n",
              "    <tr style=\"text-align: right;\">\n",
              "      <th></th>\n",
              "      <th>name</th>\n",
              "      <th>roaster</th>\n",
              "      <th>roast</th>\n",
              "      <th>loc_country</th>\n",
              "      <th>origin_1</th>\n",
              "      <th>origin_2</th>\n",
              "      <th>100g_USD</th>\n",
              "      <th>rating</th>\n",
              "      <th>review_date</th>\n",
              "      <th>desc_1</th>\n",
              "      <th>cleaned_desc_1</th>\n",
              "      <th>sentiment_score</th>\n",
              "      <th>label</th>\n",
              "    </tr>\n",
              "  </thead>\n",
              "  <tbody>\n",
              "    <tr>\n",
              "      <th>0</th>\n",
              "      <td>“Sweety” Espresso Blend</td>\n",
              "      <td>A.R.C.</td>\n",
              "      <td>Medium_Light</td>\n",
              "      <td>Hong Kong</td>\n",
              "      <td>Panama</td>\n",
              "      <td>Ethiopia</td>\n",
              "      <td>14.32</td>\n",
              "      <td>95</td>\n",
              "      <td>2017-11-01</td>\n",
              "      <td>Evaluated as espresso. Sweet-toned, deeply ric...</td>\n",
              "      <td>evaluated espresso sweettoned deeply rich choc...</td>\n",
              "      <td>0.831</td>\n",
              "      <td>1</td>\n",
              "    </tr>\n",
              "  </tbody>\n",
              "</table>\n",
              "</div>\n",
              "    <div class=\"colab-df-buttons\">\n",
              "\n",
              "  <div class=\"colab-df-container\">\n",
              "    <button class=\"colab-df-convert\" onclick=\"convertToInteractive('df-a6c748a5-e965-40ce-93cf-2f2ac764b728')\"\n",
              "            title=\"Convert this dataframe to an interactive table.\"\n",
              "            style=\"display:none;\">\n",
              "\n",
              "  <svg xmlns=\"http://www.w3.org/2000/svg\" height=\"24px\" viewBox=\"0 -960 960 960\">\n",
              "    <path d=\"M120-120v-720h720v720H120Zm60-500h600v-160H180v160Zm220 220h160v-160H400v160Zm0 220h160v-160H400v160ZM180-400h160v-160H180v160Zm440 0h160v-160H620v160ZM180-180h160v-160H180v160Zm440 0h160v-160H620v160Z\"/>\n",
              "  </svg>\n",
              "    </button>\n",
              "\n",
              "  <style>\n",
              "    .colab-df-container {\n",
              "      display:flex;\n",
              "      gap: 12px;\n",
              "    }\n",
              "\n",
              "    .colab-df-convert {\n",
              "      background-color: #E8F0FE;\n",
              "      border: none;\n",
              "      border-radius: 50%;\n",
              "      cursor: pointer;\n",
              "      display: none;\n",
              "      fill: #1967D2;\n",
              "      height: 32px;\n",
              "      padding: 0 0 0 0;\n",
              "      width: 32px;\n",
              "    }\n",
              "\n",
              "    .colab-df-convert:hover {\n",
              "      background-color: #E2EBFA;\n",
              "      box-shadow: 0px 1px 2px rgba(60, 64, 67, 0.3), 0px 1px 3px 1px rgba(60, 64, 67, 0.15);\n",
              "      fill: #174EA6;\n",
              "    }\n",
              "\n",
              "    .colab-df-buttons div {\n",
              "      margin-bottom: 4px;\n",
              "    }\n",
              "\n",
              "    [theme=dark] .colab-df-convert {\n",
              "      background-color: #3B4455;\n",
              "      fill: #D2E3FC;\n",
              "    }\n",
              "\n",
              "    [theme=dark] .colab-df-convert:hover {\n",
              "      background-color: #434B5C;\n",
              "      box-shadow: 0px 1px 3px 1px rgba(0, 0, 0, 0.15);\n",
              "      filter: drop-shadow(0px 1px 2px rgba(0, 0, 0, 0.3));\n",
              "      fill: #FFFFFF;\n",
              "    }\n",
              "  </style>\n",
              "\n",
              "    <script>\n",
              "      const buttonEl =\n",
              "        document.querySelector('#df-a6c748a5-e965-40ce-93cf-2f2ac764b728 button.colab-df-convert');\n",
              "      buttonEl.style.display =\n",
              "        google.colab.kernel.accessAllowed ? 'block' : 'none';\n",
              "\n",
              "      async function convertToInteractive(key) {\n",
              "        const element = document.querySelector('#df-a6c748a5-e965-40ce-93cf-2f2ac764b728');\n",
              "        const dataTable =\n",
              "          await google.colab.kernel.invokeFunction('convertToInteractive',\n",
              "                                                    [key], {});\n",
              "        if (!dataTable) return;\n",
              "\n",
              "        const docLinkHtml = 'Like what you see? Visit the ' +\n",
              "          '<a target=\"_blank\" href=https://colab.research.google.com/notebooks/data_table.ipynb>data table notebook</a>'\n",
              "          + ' to learn more about interactive tables.';\n",
              "        element.innerHTML = '';\n",
              "        dataTable['output_type'] = 'display_data';\n",
              "        await google.colab.output.renderOutput(dataTable, element);\n",
              "        const docLink = document.createElement('div');\n",
              "        docLink.innerHTML = docLinkHtml;\n",
              "        element.appendChild(docLink);\n",
              "      }\n",
              "    </script>\n",
              "  </div>\n",
              "\n",
              "\n",
              "    </div>\n",
              "  </div>\n"
            ],
            "application/vnd.google.colaboratory.intrinsic+json": {
              "type": "dataframe",
              "variable_name": "coffee_df3",
              "summary": "{\n  \"name\": \"coffee_df3\",\n  \"rows\": 2095,\n  \"fields\": [\n    {\n      \"column\": \"name\",\n      \"properties\": {\n        \"dtype\": \"string\",\n        \"num_unique_values\": 1909,\n        \"samples\": [\n          \"Guatemala El Injerto Natural Legendary Gesha 7\",\n          \"Sumatra Tano Batak\",\n          \"Costa Rica La Toboba Red Honey\"\n        ],\n        \"semantic_type\": \"\",\n        \"description\": \"\"\n      }\n    },\n    {\n      \"column\": \"roaster\",\n      \"properties\": {\n        \"dtype\": \"category\",\n        \"num_unique_values\": 424,\n        \"samples\": [\n          \"Nine Point Coffee\",\n          \"Normandy Coffee Thai Cuisine\",\n          \"Stereo Coffee Roasters\"\n        ],\n        \"semantic_type\": \"\",\n        \"description\": \"\"\n      }\n    },\n    {\n      \"column\": \"roast\",\n      \"properties\": {\n        \"dtype\": \"category\",\n        \"num_unique_values\": 5,\n        \"samples\": [\n          \"Medium\",\n          \"Dark\",\n          \"Light\"\n        ],\n        \"semantic_type\": \"\",\n        \"description\": \"\"\n      }\n    },\n    {\n      \"column\": \"loc_country\",\n      \"properties\": {\n        \"dtype\": \"category\",\n        \"num_unique_values\": 19,\n        \"samples\": [\n          \"Hong Kong\",\n          \"Australia\",\n          \"Guatemala\"\n        ],\n        \"semantic_type\": \"\",\n        \"description\": \"\"\n      }\n    },\n    {\n      \"column\": \"origin_1\",\n      \"properties\": {\n        \"dtype\": \"category\",\n        \"num_unique_values\": 614,\n        \"samples\": [\n          \"Veracruz\",\n          \"Yautepec/Miahuatlan\",\n          \"Ja\\u00e9n Province\"\n        ],\n        \"semantic_type\": \"\",\n        \"description\": \"\"\n      }\n    },\n    {\n      \"column\": \"origin_2\",\n      \"properties\": {\n        \"dtype\": \"category\",\n        \"num_unique_values\": 357,\n        \"samples\": [\n          \"\\u201cBig Island\\u201d Of Hawai\\u2019I\",\n          \"Peru\",\n          \"Western Guji\"\n        ],\n        \"semantic_type\": \"\",\n        \"description\": \"\"\n      }\n    },\n    {\n      \"column\": \"100g_USD\",\n      \"properties\": {\n        \"dtype\": \"number\",\n        \"std\": 11.430659123983121,\n        \"min\": 0.12,\n        \"max\": 132.28,\n        \"num_unique_values\": 473,\n        \"samples\": [\n          8.02,\n          6.15,\n          32.63\n        ],\n        \"semantic_type\": \"\",\n        \"description\": \"\"\n      }\n    },\n    {\n      \"column\": \"rating\",\n      \"properties\": {\n        \"dtype\": \"number\",\n        \"std\": 1,\n        \"min\": 84,\n        \"max\": 98,\n        \"num_unique_values\": 15,\n        \"samples\": [\n          96,\n          86,\n          95\n        ],\n        \"semantic_type\": \"\",\n        \"description\": \"\"\n      }\n    },\n    {\n      \"column\": \"review_date\",\n      \"properties\": {\n        \"dtype\": \"object\",\n        \"num_unique_values\": 61,\n        \"samples\": [\n          \"2017-11-01\",\n          \"2018-04-01\",\n          \"2021-09-01\"\n        ],\n        \"semantic_type\": \"\",\n        \"description\": \"\"\n      }\n    },\n    {\n      \"column\": \"desc_1\",\n      \"properties\": {\n        \"dtype\": \"string\",\n        \"num_unique_values\": 2092,\n        \"samples\": [\n          \"Delicately sweet-tart. Apricot, cocoa nib, hazelnut, Meyer lemon zest, hyacinth in aroma and cup. Sweetly tart structure with vibrant, citrusy acidity; smooth, satiny mouthfeel. Cocoa-toned finish supported by notes of stone fruit and sweet citrus zest.\",\n          \"Deeply and pungently sweet-tart. Lavender, grapefruit zest, sandalwood, blackberry, a hint of baker\\u2019s chocolate in aroma and cup. Simultaneously brightly tart and deeply savory in structure. Lightly syrupy, plush mouthfeel. Grapefruit zest and blackberry carry into a crisply resonant finish.\",\n          \"Evaluated as espresso. Crisply sweet, spice-toned. Roasted cashew, gardenia, apricot, cardamom, baker\\u2019s chocolate in aroma and small cup. Satiny mouthfeel; richly layered finish with notes of chocolate and faintly smoky aromatic wood. Crisply and persuasively chocolaty in three parts milk.\"\n        ],\n        \"semantic_type\": \"\",\n        \"description\": \"\"\n      }\n    },\n    {\n      \"column\": \"cleaned_desc_1\",\n      \"properties\": {\n        \"dtype\": \"string\",\n        \"num_unique_values\": 2092,\n        \"samples\": [\n          \"delicately sweettart apricot cocoa nib hazelnut meyer lemon zest hyacinth aroma cup sweetly tart structure vibrant citrusy acidity smooth satiny mouthfeel cocoatoned finish supported note stone fruit sweet citrus zest\",\n          \"deeply pungently sweettart lavender grapefruit zest sandalwood blackberry hint baker \\u2019 chocolate aroma cup simultaneously brightly tart deeply savory structure lightly syrupy plush mouthfeel grapefruit zest blackberry carry crisply resonant finish\",\n          \"evaluated espresso crisply sweet spicetoned roasted cashew gardenia apricot cardamom baker \\u2019 chocolate aroma small cup satiny mouthfeel richly layered finish note chocolate faintly smoky aromatic wood crisply persuasively chocolaty three part milk\"\n        ],\n        \"semantic_type\": \"\",\n        \"description\": \"\"\n      }\n    },\n    {\n      \"column\": \"sentiment_score\",\n      \"properties\": {\n        \"dtype\": \"number\",\n        \"std\": 0.19590204460624253,\n        \"min\": -0.2023,\n        \"max\": 0.975,\n        \"num_unique_values\": 326,\n        \"samples\": [\n          0.8268,\n          0.5095,\n          0.9129\n        ],\n        \"semantic_type\": \"\",\n        \"description\": \"\"\n      }\n    },\n    {\n      \"column\": \"label\",\n      \"properties\": {\n        \"dtype\": \"number\",\n        \"std\": 0,\n        \"min\": 0,\n        \"max\": 1,\n        \"num_unique_values\": 2,\n        \"samples\": [\n          0,\n          1\n        ],\n        \"semantic_type\": \"\",\n        \"description\": \"\"\n      }\n    }\n  ]\n}"
            }
          },
          "metadata": {},
          "execution_count": 29
        }
      ],
      "source": [
        "# Create a third DF to apply RoBERTA sentiment analysis to.\n",
        "\n",
        "coffee_df3 = coffee_df2.copy()\n",
        "coffee_df3.head(1)"
      ]
    },
    {
      "cell_type": "code",
      "execution_count": null,
      "metadata": {
        "colab": {
          "base_uri": "https://localhost:8080/",
          "height": 180,
          "referenced_widgets": [
            "7344bff3fa5f4a23926a50f189ea2fff",
            "e7ca9479a922495bb35bf305b7c25eed",
            "d7d59cbc8fd94b5a8eecbdaf4d138012",
            "9bfa72c965fb4974882a83e39f3a2c85",
            "628fbc7bbdcb476898bde03ddf1a6fd2",
            "245421d0f0a34979bd0754d3b44517d3",
            "efd72db1a60d4d35b78b57d8012ced1c",
            "78e96ed7143f463bb584992a17e79a3c",
            "13fc02cbb2a64c1c9156de94581c91b1",
            "cd565e98eba14c52a5eaa504591efbf6",
            "c3cc2ed2f9364d128b114244dada0fb1",
            "e01ae43fb6734bebb2ad322d6f799932",
            "4cc0fae27ad44cd3a1ae52980eefbf32",
            "48e094823fac4abea7e38b8ca016afd3",
            "d32064cdac474a1dbc51b5795e408bbd",
            "03a0f06b06964525a340f3af95895683",
            "5da624bfdb704d9db80ffad452b728ed",
            "e135f1ae1b204b5a98571b01eb2a86b4",
            "ccd986dc9d5b463b85c710dc560d2114",
            "77e0ec081b2b438d978dc89e537276d5",
            "6331235874df4dc18108cbe7e5b7e95a",
            "cf7088d5d4534f6ab811e2ba0342932c",
            "f92b917884614c9fb60215e3a159ba95",
            "85c0bf56491b47b3a6de9cd8a64e533b",
            "6989a85de63c4cd280b244d4e20b2cb2",
            "cb4cc9c045b742ed8fe2c61e34a416a1",
            "ecfb4e1bb6b740259b6bafd369a292b9",
            "ac0a4f2900f847b1b00c6f68db20220d",
            "0bc72492eab34ad79fc6b5d005db456d",
            "0d47fecc58a047fda90a574923211705",
            "c2ed606448044deb836f6da340e93c36",
            "5b38024d2914448ca68a34353cbd2762",
            "5d44dfe817954a35b1ae521b548d29d8",
            "46fb5e800cd24c248655feb882d8778e",
            "7b082325e26e4c4591e6c0ff7b33f634",
            "2a9b6d9fb3144a68b3605c054899169e",
            "657930f389604f8ab8e286707dc758ca",
            "665aaed019e74cf1aaceba278121b3de",
            "6c9422edebb543ec9fd43fbe8aef1d7d",
            "99927fb2faf945cb873792b45f5b3217",
            "b00d108bd479485c9ca103889de50250",
            "882ad6ec69b7409b9bb3892358344769",
            "589b25ba1659418596d89656195287b8",
            "6a7a76c655ba4e47b3e379c7f0ddd70d"
          ]
        },
        "id": "dpxZhJhZcXre",
        "outputId": "2e6701a1-6b3d-4fd5-ecbe-255d5aa69ab2"
      },
      "outputs": [
        {
          "output_type": "display_data",
          "data": {
            "text/plain": [
              "Downloading vocab.json:   0%|          | 0.00/878k [00:00<?, ?B/s]"
            ],
            "application/vnd.jupyter.widget-view+json": {
              "version_major": 2,
              "version_minor": 0,
              "model_id": "7344bff3fa5f4a23926a50f189ea2fff"
            }
          },
          "metadata": {}
        },
        {
          "output_type": "display_data",
          "data": {
            "text/plain": [
              "Downloading merges.txt:   0%|          | 0.00/446k [00:00<?, ?B/s]"
            ],
            "application/vnd.jupyter.widget-view+json": {
              "version_major": 2,
              "version_minor": 0,
              "model_id": "e01ae43fb6734bebb2ad322d6f799932"
            }
          },
          "metadata": {}
        },
        {
          "output_type": "display_data",
          "data": {
            "text/plain": [
              "Downloading tokenizer_config.json:   0%|          | 0.00/25.0 [00:00<?, ?B/s]"
            ],
            "application/vnd.jupyter.widget-view+json": {
              "version_major": 2,
              "version_minor": 0,
              "model_id": "f92b917884614c9fb60215e3a159ba95"
            }
          },
          "metadata": {}
        },
        {
          "output_type": "display_data",
          "data": {
            "text/plain": [
              "Downloading config.json:   0%|          | 0.00/481 [00:00<?, ?B/s]"
            ],
            "application/vnd.jupyter.widget-view+json": {
              "version_major": 2,
              "version_minor": 0,
              "model_id": "46fb5e800cd24c248655feb882d8778e"
            }
          },
          "metadata": {}
        },
        {
          "output_type": "stream",
          "name": "stdout",
          "text": [
            "dict_keys(['input_ids', 'attention_mask'])\n"
          ]
        },
        {
          "output_type": "execute_result",
          "data": {
            "text/plain": [
              "TensorShape([2095, 90])"
            ]
          },
          "metadata": {},
          "execution_count": 30
        }
      ],
      "source": [
        "# Initialize a RoBERTa tokenizer for running RoBERTa on the dataset.\n",
        "tokenizer = RobertaTokenizer.from_pretrained('roberta-base')\n",
        "\n",
        "# Convert the desc_1 text column to a list for conducting sentiment analysis on it.\n",
        "texts = coffee_df3['cleaned_desc_1'].tolist()\n",
        "\n",
        "# Set a maximum length for the input that's going to be tokenized below.\n",
        "MAX_SEQUENCE_LENGTH = 128\n",
        "'''\n",
        "# Use the RoBERTa tokenizer to encode the text into Token IDs, with a few customizations:\n",
        "    --> truncation = True: this truncates sequences that are longer than the maximum sequence length.\n",
        "    --> padding = True: this pads sequences that are shorter then the maximum sequence length.\n",
        "    --> max_length = MAX_SEQUENCE_LENGTH: this sets the maximum length for every sequence.\n",
        "    --> return_tensors = 'tf': this returns the encodings as TensorFlow tensors.\n",
        "'''\n",
        "encodings = tokenizer(\n",
        "    texts,\n",
        "    truncation = True,\n",
        "    padding = True,\n",
        "    max_length = MAX_SEQUENCE_LENGTH,\n",
        "    return_tensors = 'tf'\n",
        ")\n",
        "\n",
        "'''\n",
        "Get the input IDs & attention masks from the encodings.\n",
        "    --> Input IDs: these are Token IDs that corresponds to each word in the text.\n",
        "    --> Attention Mask: these indicate which tokens are actual words, and which ones are paddings.\n",
        "'''\n",
        "\n",
        "inputs = {\n",
        "    'input_ids': encodings['input_ids'],\n",
        "    'attention_mask': encodings['attention_mask']\n",
        "}\n",
        "\n",
        "# Print the keys that are in the encoding dictionary.\n",
        "print(encodings.keys())\n",
        "\n",
        "# Show the shape of the Input IDs tensor.\n",
        "encodings['input_ids'].shape"
      ]
    },
    {
      "cell_type": "code",
      "execution_count": null,
      "metadata": {
        "colab": {
          "base_uri": "https://localhost:8080/",
          "height": 379,
          "referenced_widgets": [
            "c4b8043220644255ba510fa44ddc97f0",
            "ceb14bdcd3ba451a9d932965c5a4b3bf",
            "13e27eb92e464258a26c20d6c72d8b66",
            "3352eba2fd7f49e58610a5bc302adb02",
            "bf4f9c55209c409f91b0d50fbab9b14a",
            "a8ea0704c91e48c8846116acc0f49f0b",
            "856ed9d61ce440f29c16b0e427226c0f",
            "cbaf1b33046b49a28d97c6b769b9b660",
            "27d0b684bb74456d870e02731f038ded",
            "cb811283f9fc4eea84f2ee1733409218",
            "29b86266909843139f8a90c0c28d98b3"
          ]
        },
        "id": "Oe15Q7aLcsNw",
        "outputId": "27186fce-7fe6-48cc-b3a6-115345f4363f"
      },
      "outputs": [
        {
          "output_type": "display_data",
          "data": {
            "text/plain": [
              "Downloading tf_model.h5:   0%|          | 0.00/627M [00:00<?, ?B/s]"
            ],
            "application/vnd.jupyter.widget-view+json": {
              "version_major": 2,
              "version_minor": 0,
              "model_id": "c4b8043220644255ba510fa44ddc97f0"
            }
          },
          "metadata": {}
        },
        {
          "output_type": "stream",
          "name": "stderr",
          "text": [
            "All model checkpoint layers were used when initializing TFRobertaForSequenceClassification.\n",
            "\n",
            "Some layers of TFRobertaForSequenceClassification were not initialized from the model checkpoint at roberta-base and are newly initialized: ['classifier']\n",
            "You should probably TRAIN this model on a down-stream task to be able to use it for predictions and inference.\n"
          ]
        },
        {
          "output_type": "stream",
          "name": "stdout",
          "text": [
            "Model: \"tf_roberta_for_sequence_classification\"\n",
            "_________________________________________________________________\n",
            " Layer (type)                Output Shape              Param #   \n",
            "=================================================================\n",
            " roberta (TFRobertaMainLayer  multiple                 124055040 \n",
            " )                                                               \n",
            "                                                                 \n",
            " classifier (TFRobertaClassi  multiple                 592130    \n",
            " ficationHead)                                                   \n",
            "                                                                 \n",
            "=================================================================\n",
            "Total params: 124,647,170\n",
            "Trainable params: 124,647,170\n",
            "Non-trainable params: 0\n",
            "_________________________________________________________________\n"
          ]
        }
      ],
      "source": [
        "# Load the model and take a quick look at its summary.\n",
        "\n",
        "from transformers import TFRobertaForSequenceClassification\n",
        "\n",
        "roberta_model = TFTobertaForSequenceClassification.from_pretrained('roberta-base')\n",
        "\n",
        "roberta_model.summary()"
      ]
    },
    {
      "cell_type": "code",
      "execution_count": null,
      "metadata": {
        "colab": {
          "base_uri": "https://localhost:8080/"
        },
        "id": "9jNwF9Loct3y",
        "outputId": "e7f53f45-ca13-4e12-c264-bcd5dc34bfed"
      },
      "outputs": [
        {
          "output_type": "stream",
          "name": "stderr",
          "text": [
            "All model checkpoint layers were used when initializing TFRobertaForSequenceClassification.\n",
            "\n",
            "Some layers of TFRobertaForSequenceClassification were not initialized from the model checkpoint at roberta-base and are newly initialized: ['classifier']\n",
            "You should probably TRAIN this model on a down-stream task to be able to use it for predictions and inference.\n"
          ]
        }
      ],
      "source": [
        "# Load a pretrained BERT model: RoBERTa-- a modification of the standard BERT LLM that's better designed to capture nuance & context in data.\n",
        "roberta_model = TFRobertaForSequenceClassification.from_pretrained('roberta-base')"
      ]
    },
    {
      "cell_type": "code",
      "execution_count": null,
      "metadata": {
        "collapsed": true,
        "id": "-NyQLaRhmmOG",
        "colab": {
          "base_uri": "https://localhost:8080/"
        },
        "outputId": "0fad8c67-0423-421b-ec18-39a6b6797791"
      },
      "outputs": [
        {
          "output_type": "stream",
          "name": "stdout",
          "text": [
            "TensorFlow version: 2.9.1\n",
            "Transformers version: 4.21.0\n"
          ]
        }
      ],
      "source": [
        "# Check the versions of TensorFlow & Transformers before compiling the model.\n",
        "\n",
        "print('TensorFlow version:', tf.__version__)\n",
        "print('Transformers version:', transformers.__version__)"
      ]
    },
    {
      "cell_type": "code",
      "source": [],
      "metadata": {
        "id": "z_oVj8HvP7iR"
      },
      "execution_count": null,
      "outputs": []
    },
    {
      "cell_type": "code",
      "execution_count": null,
      "metadata": {
        "id": "xhDsBf7KEJWS",
        "colab": {
          "base_uri": "https://localhost:8080/"
        },
        "outputId": "d19602f7-0be7-4001-8e00-e08f161949c2",
        "collapsed": true
      },
      "outputs": [
        {
          "output_type": "stream",
          "name": "stderr",
          "text": [
            "All model checkpoint layers were used when initializing TFRobertaForSequenceClassification.\n",
            "\n",
            "Some layers of TFRobertaForSequenceClassification were not initialized from the model checkpoint at roberta-base and are newly initialized: ['classifier']\n",
            "You should probably TRAIN this model on a down-stream task to be able to use it for predictions and inference.\n"
          ]
        }
      ],
      "source": [
        "# Reload RoBERTa before compiling the model.\n",
        "roberta_model = TFRobertaForSequenceClassification.from_pretrained('roberta-base')\n",
        "\n",
        "# Compile the RoBERTa model.\n",
        "\n",
        "roberta_model.compile(\n",
        "    optimizer = tf.keras.optimizers.Adam(learning_rate = 5e-5),\n",
        "    loss = tf.leras.losses.SparseCategoricalCrossentropy(from_logits = True),\n",
        "    metrics = [tf.keras.metrics.SparseCategoricalAccuracy()]\n",
        ")"
      ]
    },
    {
      "cell_type": "code",
      "execution_count": null,
      "metadata": {
        "colab": {
          "base_uri": "https://localhost:8080/"
        },
        "id": "cZF_lLkcct7J",
        "outputId": "4fbb5ab0-431f-4ca5-8348-6cdfbafb8f23"
      },
      "outputs": [
        {
          "output_type": "stream",
          "name": "stdout",
          "text": [
            "Epoch 1/3\n",
            "118/118 [==============================] - 1325s 11s/step - loss: 0.1178 - sparse_categorical_accuracy: 0.9714 - val_loss: 0.1216 - val_sparse_categorical_accuracy: 0.9762\n",
            "Epoch 2/3\n",
            "118/118 [==============================] - 1300s 11s/step - loss: 0.1025 - sparse_categorical_accuracy: 0.9804 - val_loss: 0.1128 - val_sparse_categorical_accuracy: 0.9762\n",
            "Epoch 3/3\n",
            "118/118 [==============================] - 1309s 11s/step - loss: 0.1026 - sparse_categorical_accuracy: 0.9804 - val_loss: 0.1154 - val_sparse_categorical_accuracy: 0.9762\n"
          ]
        }
      ],
      "source": [
        "# Fit the RoBERTa model to the dataset with 3 epochs.\n",
        "\n",
        "history = roberta_model.fit(\n",
        "    [inputs['input_ids'], inputs['attention_mask']],\n",
        "    coffee_df3['label'],\n",
        "    batch_size = 16,\n",
        "    epochs = 3,\n",
        "    validation_split = 0.1\n",
        ")"
      ]
    },
    {
      "cell_type": "code",
      "execution_count": null,
      "metadata": {
        "id": "M8GUhiDrct_L"
      },
      "outputs": [],
      "source": [
        "# Save the model weights.\n",
        "roberta_model.save_weights('roberta_finetuned_weights.h5')"
      ]
    },
    {
      "cell_type": "code",
      "execution_count": null,
      "metadata": {
        "colab": {
          "base_uri": "https://localhost:8080/"
        },
        "id": "0WxOpWTJ3A3w",
        "outputId": "4fb7abef-f1e8-4c09-c5f9-4e695b28c147"
      },
      "outputs": [
        {
          "output_type": "stream",
          "name": "stdout",
          "text": [
            "66/66 [==============================] - 383s 6s/step\n"
          ]
        }
      ],
      "source": [
        "# Make predictions on the dataset to confirm the model scores.\n",
        "predictions = roberta_model.predict([inputs['input_ids'], inputs['attention_mask']])\n",
        "\n",
        "# Convert the logits to probabilities using the Softmax function\n",
        "probs = softmax(torch.tensor(predictions.logits), dim = -1).numpy()\n",
        "\n",
        "# Calculate the sentiment score with RoBERTa.\n",
        "roberta_sentiment_scores = probs[:, 1] - probs[:, 0]\n",
        "\n",
        "# Add the calculated sentiment scores to coffee_df3.\n",
        "coffee_df3['roberta_sentiment_score'] = roberta_sentiment_scores\n",
        "\n",
        "# Also get the predicted labels, if we end up needing them eventually.\n",
        "predicted_labels = tf.argmax(predictions.logits, axis = -1).numpy()\n",
        "coffee_df3['predicted_labels'] = predicted_labels\n",
        "\n",
        "# Save the dataframe now that it has predictions & sentiment scores.\n",
        "coffee_df3.to_csv('coffee_RoBERTa_sentiment_analysis_results.csv', index = False)\n",
        "\n",
        "# Also save the model weights.\n",
        "roberta_model.save_weights('roberta_finetuned_weights.h5')\n",
        "\n",
        "# Convert the training accuracy history to a CSV file to then save it.\n",
        "history_df = pd.DataFrame(history.history)\n",
        "\n",
        "# Then save the training accuracy history to a CSV file.\n",
        "history_df.to_csv('bert1_traiing_history.csv', index = False)"
      ]
    }
  ],
  "metadata": {
    "colab": {
      "provenance": []
    },
    "kernelspec": {
      "display_name": "Python 3",
      "name": "python3"
    },
    "language_info": {
      "name": "python"
    },
    "widgets": {
      "application/vnd.jupyter.widget-state+json": {
        "7344bff3fa5f4a23926a50f189ea2fff": {
          "model_module": "@jupyter-widgets/controls",
          "model_name": "HBoxModel",
          "model_module_version": "1.5.0",
          "state": {
            "_dom_classes": [],
            "_model_module": "@jupyter-widgets/controls",
            "_model_module_version": "1.5.0",
            "_model_name": "HBoxModel",
            "_view_count": null,
            "_view_module": "@jupyter-widgets/controls",
            "_view_module_version": "1.5.0",
            "_view_name": "HBoxView",
            "box_style": "",
            "children": [
              "IPY_MODEL_e7ca9479a922495bb35bf305b7c25eed",
              "IPY_MODEL_d7d59cbc8fd94b5a8eecbdaf4d138012",
              "IPY_MODEL_9bfa72c965fb4974882a83e39f3a2c85"
            ],
            "layout": "IPY_MODEL_628fbc7bbdcb476898bde03ddf1a6fd2"
          }
        },
        "e7ca9479a922495bb35bf305b7c25eed": {
          "model_module": "@jupyter-widgets/controls",
          "model_name": "HTMLModel",
          "model_module_version": "1.5.0",
          "state": {
            "_dom_classes": [],
            "_model_module": "@jupyter-widgets/controls",
            "_model_module_version": "1.5.0",
            "_model_name": "HTMLModel",
            "_view_count": null,
            "_view_module": "@jupyter-widgets/controls",
            "_view_module_version": "1.5.0",
            "_view_name": "HTMLView",
            "description": "",
            "description_tooltip": null,
            "layout": "IPY_MODEL_245421d0f0a34979bd0754d3b44517d3",
            "placeholder": "​",
            "style": "IPY_MODEL_efd72db1a60d4d35b78b57d8012ced1c",
            "value": "Downloading vocab.json: 100%"
          }
        },
        "d7d59cbc8fd94b5a8eecbdaf4d138012": {
          "model_module": "@jupyter-widgets/controls",
          "model_name": "FloatProgressModel",
          "model_module_version": "1.5.0",
          "state": {
            "_dom_classes": [],
            "_model_module": "@jupyter-widgets/controls",
            "_model_module_version": "1.5.0",
            "_model_name": "FloatProgressModel",
            "_view_count": null,
            "_view_module": "@jupyter-widgets/controls",
            "_view_module_version": "1.5.0",
            "_view_name": "ProgressView",
            "bar_style": "success",
            "description": "",
            "description_tooltip": null,
            "layout": "IPY_MODEL_78e96ed7143f463bb584992a17e79a3c",
            "max": 898823,
            "min": 0,
            "orientation": "horizontal",
            "style": "IPY_MODEL_13fc02cbb2a64c1c9156de94581c91b1",
            "value": 898823
          }
        },
        "9bfa72c965fb4974882a83e39f3a2c85": {
          "model_module": "@jupyter-widgets/controls",
          "model_name": "HTMLModel",
          "model_module_version": "1.5.0",
          "state": {
            "_dom_classes": [],
            "_model_module": "@jupyter-widgets/controls",
            "_model_module_version": "1.5.0",
            "_model_name": "HTMLModel",
            "_view_count": null,
            "_view_module": "@jupyter-widgets/controls",
            "_view_module_version": "1.5.0",
            "_view_name": "HTMLView",
            "description": "",
            "description_tooltip": null,
            "layout": "IPY_MODEL_cd565e98eba14c52a5eaa504591efbf6",
            "placeholder": "​",
            "style": "IPY_MODEL_c3cc2ed2f9364d128b114244dada0fb1",
            "value": " 878k/878k [00:00&lt;00:00, 1.94MB/s]"
          }
        },
        "628fbc7bbdcb476898bde03ddf1a6fd2": {
          "model_module": "@jupyter-widgets/base",
          "model_name": "LayoutModel",
          "model_module_version": "1.2.0",
          "state": {
            "_model_module": "@jupyter-widgets/base",
            "_model_module_version": "1.2.0",
            "_model_name": "LayoutModel",
            "_view_count": null,
            "_view_module": "@jupyter-widgets/base",
            "_view_module_version": "1.2.0",
            "_view_name": "LayoutView",
            "align_content": null,
            "align_items": null,
            "align_self": null,
            "border": null,
            "bottom": null,
            "display": null,
            "flex": null,
            "flex_flow": null,
            "grid_area": null,
            "grid_auto_columns": null,
            "grid_auto_flow": null,
            "grid_auto_rows": null,
            "grid_column": null,
            "grid_gap": null,
            "grid_row": null,
            "grid_template_areas": null,
            "grid_template_columns": null,
            "grid_template_rows": null,
            "height": null,
            "justify_content": null,
            "justify_items": null,
            "left": null,
            "margin": null,
            "max_height": null,
            "max_width": null,
            "min_height": null,
            "min_width": null,
            "object_fit": null,
            "object_position": null,
            "order": null,
            "overflow": null,
            "overflow_x": null,
            "overflow_y": null,
            "padding": null,
            "right": null,
            "top": null,
            "visibility": null,
            "width": null
          }
        },
        "245421d0f0a34979bd0754d3b44517d3": {
          "model_module": "@jupyter-widgets/base",
          "model_name": "LayoutModel",
          "model_module_version": "1.2.0",
          "state": {
            "_model_module": "@jupyter-widgets/base",
            "_model_module_version": "1.2.0",
            "_model_name": "LayoutModel",
            "_view_count": null,
            "_view_module": "@jupyter-widgets/base",
            "_view_module_version": "1.2.0",
            "_view_name": "LayoutView",
            "align_content": null,
            "align_items": null,
            "align_self": null,
            "border": null,
            "bottom": null,
            "display": null,
            "flex": null,
            "flex_flow": null,
            "grid_area": null,
            "grid_auto_columns": null,
            "grid_auto_flow": null,
            "grid_auto_rows": null,
            "grid_column": null,
            "grid_gap": null,
            "grid_row": null,
            "grid_template_areas": null,
            "grid_template_columns": null,
            "grid_template_rows": null,
            "height": null,
            "justify_content": null,
            "justify_items": null,
            "left": null,
            "margin": null,
            "max_height": null,
            "max_width": null,
            "min_height": null,
            "min_width": null,
            "object_fit": null,
            "object_position": null,
            "order": null,
            "overflow": null,
            "overflow_x": null,
            "overflow_y": null,
            "padding": null,
            "right": null,
            "top": null,
            "visibility": null,
            "width": null
          }
        },
        "efd72db1a60d4d35b78b57d8012ced1c": {
          "model_module": "@jupyter-widgets/controls",
          "model_name": "DescriptionStyleModel",
          "model_module_version": "1.5.0",
          "state": {
            "_model_module": "@jupyter-widgets/controls",
            "_model_module_version": "1.5.0",
            "_model_name": "DescriptionStyleModel",
            "_view_count": null,
            "_view_module": "@jupyter-widgets/base",
            "_view_module_version": "1.2.0",
            "_view_name": "StyleView",
            "description_width": ""
          }
        },
        "78e96ed7143f463bb584992a17e79a3c": {
          "model_module": "@jupyter-widgets/base",
          "model_name": "LayoutModel",
          "model_module_version": "1.2.0",
          "state": {
            "_model_module": "@jupyter-widgets/base",
            "_model_module_version": "1.2.0",
            "_model_name": "LayoutModel",
            "_view_count": null,
            "_view_module": "@jupyter-widgets/base",
            "_view_module_version": "1.2.0",
            "_view_name": "LayoutView",
            "align_content": null,
            "align_items": null,
            "align_self": null,
            "border": null,
            "bottom": null,
            "display": null,
            "flex": null,
            "flex_flow": null,
            "grid_area": null,
            "grid_auto_columns": null,
            "grid_auto_flow": null,
            "grid_auto_rows": null,
            "grid_column": null,
            "grid_gap": null,
            "grid_row": null,
            "grid_template_areas": null,
            "grid_template_columns": null,
            "grid_template_rows": null,
            "height": null,
            "justify_content": null,
            "justify_items": null,
            "left": null,
            "margin": null,
            "max_height": null,
            "max_width": null,
            "min_height": null,
            "min_width": null,
            "object_fit": null,
            "object_position": null,
            "order": null,
            "overflow": null,
            "overflow_x": null,
            "overflow_y": null,
            "padding": null,
            "right": null,
            "top": null,
            "visibility": null,
            "width": null
          }
        },
        "13fc02cbb2a64c1c9156de94581c91b1": {
          "model_module": "@jupyter-widgets/controls",
          "model_name": "ProgressStyleModel",
          "model_module_version": "1.5.0",
          "state": {
            "_model_module": "@jupyter-widgets/controls",
            "_model_module_version": "1.5.0",
            "_model_name": "ProgressStyleModel",
            "_view_count": null,
            "_view_module": "@jupyter-widgets/base",
            "_view_module_version": "1.2.0",
            "_view_name": "StyleView",
            "bar_color": null,
            "description_width": ""
          }
        },
        "cd565e98eba14c52a5eaa504591efbf6": {
          "model_module": "@jupyter-widgets/base",
          "model_name": "LayoutModel",
          "model_module_version": "1.2.0",
          "state": {
            "_model_module": "@jupyter-widgets/base",
            "_model_module_version": "1.2.0",
            "_model_name": "LayoutModel",
            "_view_count": null,
            "_view_module": "@jupyter-widgets/base",
            "_view_module_version": "1.2.0",
            "_view_name": "LayoutView",
            "align_content": null,
            "align_items": null,
            "align_self": null,
            "border": null,
            "bottom": null,
            "display": null,
            "flex": null,
            "flex_flow": null,
            "grid_area": null,
            "grid_auto_columns": null,
            "grid_auto_flow": null,
            "grid_auto_rows": null,
            "grid_column": null,
            "grid_gap": null,
            "grid_row": null,
            "grid_template_areas": null,
            "grid_template_columns": null,
            "grid_template_rows": null,
            "height": null,
            "justify_content": null,
            "justify_items": null,
            "left": null,
            "margin": null,
            "max_height": null,
            "max_width": null,
            "min_height": null,
            "min_width": null,
            "object_fit": null,
            "object_position": null,
            "order": null,
            "overflow": null,
            "overflow_x": null,
            "overflow_y": null,
            "padding": null,
            "right": null,
            "top": null,
            "visibility": null,
            "width": null
          }
        },
        "c3cc2ed2f9364d128b114244dada0fb1": {
          "model_module": "@jupyter-widgets/controls",
          "model_name": "DescriptionStyleModel",
          "model_module_version": "1.5.0",
          "state": {
            "_model_module": "@jupyter-widgets/controls",
            "_model_module_version": "1.5.0",
            "_model_name": "DescriptionStyleModel",
            "_view_count": null,
            "_view_module": "@jupyter-widgets/base",
            "_view_module_version": "1.2.0",
            "_view_name": "StyleView",
            "description_width": ""
          }
        },
        "e01ae43fb6734bebb2ad322d6f799932": {
          "model_module": "@jupyter-widgets/controls",
          "model_name": "HBoxModel",
          "model_module_version": "1.5.0",
          "state": {
            "_dom_classes": [],
            "_model_module": "@jupyter-widgets/controls",
            "_model_module_version": "1.5.0",
            "_model_name": "HBoxModel",
            "_view_count": null,
            "_view_module": "@jupyter-widgets/controls",
            "_view_module_version": "1.5.0",
            "_view_name": "HBoxView",
            "box_style": "",
            "children": [
              "IPY_MODEL_4cc0fae27ad44cd3a1ae52980eefbf32",
              "IPY_MODEL_48e094823fac4abea7e38b8ca016afd3",
              "IPY_MODEL_d32064cdac474a1dbc51b5795e408bbd"
            ],
            "layout": "IPY_MODEL_03a0f06b06964525a340f3af95895683"
          }
        },
        "4cc0fae27ad44cd3a1ae52980eefbf32": {
          "model_module": "@jupyter-widgets/controls",
          "model_name": "HTMLModel",
          "model_module_version": "1.5.0",
          "state": {
            "_dom_classes": [],
            "_model_module": "@jupyter-widgets/controls",
            "_model_module_version": "1.5.0",
            "_model_name": "HTMLModel",
            "_view_count": null,
            "_view_module": "@jupyter-widgets/controls",
            "_view_module_version": "1.5.0",
            "_view_name": "HTMLView",
            "description": "",
            "description_tooltip": null,
            "layout": "IPY_MODEL_5da624bfdb704d9db80ffad452b728ed",
            "placeholder": "​",
            "style": "IPY_MODEL_e135f1ae1b204b5a98571b01eb2a86b4",
            "value": "Downloading merges.txt: 100%"
          }
        },
        "48e094823fac4abea7e38b8ca016afd3": {
          "model_module": "@jupyter-widgets/controls",
          "model_name": "FloatProgressModel",
          "model_module_version": "1.5.0",
          "state": {
            "_dom_classes": [],
            "_model_module": "@jupyter-widgets/controls",
            "_model_module_version": "1.5.0",
            "_model_name": "FloatProgressModel",
            "_view_count": null,
            "_view_module": "@jupyter-widgets/controls",
            "_view_module_version": "1.5.0",
            "_view_name": "ProgressView",
            "bar_style": "success",
            "description": "",
            "description_tooltip": null,
            "layout": "IPY_MODEL_ccd986dc9d5b463b85c710dc560d2114",
            "max": 456318,
            "min": 0,
            "orientation": "horizontal",
            "style": "IPY_MODEL_77e0ec081b2b438d978dc89e537276d5",
            "value": 456318
          }
        },
        "d32064cdac474a1dbc51b5795e408bbd": {
          "model_module": "@jupyter-widgets/controls",
          "model_name": "HTMLModel",
          "model_module_version": "1.5.0",
          "state": {
            "_dom_classes": [],
            "_model_module": "@jupyter-widgets/controls",
            "_model_module_version": "1.5.0",
            "_model_name": "HTMLModel",
            "_view_count": null,
            "_view_module": "@jupyter-widgets/controls",
            "_view_module_version": "1.5.0",
            "_view_name": "HTMLView",
            "description": "",
            "description_tooltip": null,
            "layout": "IPY_MODEL_6331235874df4dc18108cbe7e5b7e95a",
            "placeholder": "​",
            "style": "IPY_MODEL_cf7088d5d4534f6ab811e2ba0342932c",
            "value": " 446k/446k [00:00&lt;00:00, 785kB/s]"
          }
        },
        "03a0f06b06964525a340f3af95895683": {
          "model_module": "@jupyter-widgets/base",
          "model_name": "LayoutModel",
          "model_module_version": "1.2.0",
          "state": {
            "_model_module": "@jupyter-widgets/base",
            "_model_module_version": "1.2.0",
            "_model_name": "LayoutModel",
            "_view_count": null,
            "_view_module": "@jupyter-widgets/base",
            "_view_module_version": "1.2.0",
            "_view_name": "LayoutView",
            "align_content": null,
            "align_items": null,
            "align_self": null,
            "border": null,
            "bottom": null,
            "display": null,
            "flex": null,
            "flex_flow": null,
            "grid_area": null,
            "grid_auto_columns": null,
            "grid_auto_flow": null,
            "grid_auto_rows": null,
            "grid_column": null,
            "grid_gap": null,
            "grid_row": null,
            "grid_template_areas": null,
            "grid_template_columns": null,
            "grid_template_rows": null,
            "height": null,
            "justify_content": null,
            "justify_items": null,
            "left": null,
            "margin": null,
            "max_height": null,
            "max_width": null,
            "min_height": null,
            "min_width": null,
            "object_fit": null,
            "object_position": null,
            "order": null,
            "overflow": null,
            "overflow_x": null,
            "overflow_y": null,
            "padding": null,
            "right": null,
            "top": null,
            "visibility": null,
            "width": null
          }
        },
        "5da624bfdb704d9db80ffad452b728ed": {
          "model_module": "@jupyter-widgets/base",
          "model_name": "LayoutModel",
          "model_module_version": "1.2.0",
          "state": {
            "_model_module": "@jupyter-widgets/base",
            "_model_module_version": "1.2.0",
            "_model_name": "LayoutModel",
            "_view_count": null,
            "_view_module": "@jupyter-widgets/base",
            "_view_module_version": "1.2.0",
            "_view_name": "LayoutView",
            "align_content": null,
            "align_items": null,
            "align_self": null,
            "border": null,
            "bottom": null,
            "display": null,
            "flex": null,
            "flex_flow": null,
            "grid_area": null,
            "grid_auto_columns": null,
            "grid_auto_flow": null,
            "grid_auto_rows": null,
            "grid_column": null,
            "grid_gap": null,
            "grid_row": null,
            "grid_template_areas": null,
            "grid_template_columns": null,
            "grid_template_rows": null,
            "height": null,
            "justify_content": null,
            "justify_items": null,
            "left": null,
            "margin": null,
            "max_height": null,
            "max_width": null,
            "min_height": null,
            "min_width": null,
            "object_fit": null,
            "object_position": null,
            "order": null,
            "overflow": null,
            "overflow_x": null,
            "overflow_y": null,
            "padding": null,
            "right": null,
            "top": null,
            "visibility": null,
            "width": null
          }
        },
        "e135f1ae1b204b5a98571b01eb2a86b4": {
          "model_module": "@jupyter-widgets/controls",
          "model_name": "DescriptionStyleModel",
          "model_module_version": "1.5.0",
          "state": {
            "_model_module": "@jupyter-widgets/controls",
            "_model_module_version": "1.5.0",
            "_model_name": "DescriptionStyleModel",
            "_view_count": null,
            "_view_module": "@jupyter-widgets/base",
            "_view_module_version": "1.2.0",
            "_view_name": "StyleView",
            "description_width": ""
          }
        },
        "ccd986dc9d5b463b85c710dc560d2114": {
          "model_module": "@jupyter-widgets/base",
          "model_name": "LayoutModel",
          "model_module_version": "1.2.0",
          "state": {
            "_model_module": "@jupyter-widgets/base",
            "_model_module_version": "1.2.0",
            "_model_name": "LayoutModel",
            "_view_count": null,
            "_view_module": "@jupyter-widgets/base",
            "_view_module_version": "1.2.0",
            "_view_name": "LayoutView",
            "align_content": null,
            "align_items": null,
            "align_self": null,
            "border": null,
            "bottom": null,
            "display": null,
            "flex": null,
            "flex_flow": null,
            "grid_area": null,
            "grid_auto_columns": null,
            "grid_auto_flow": null,
            "grid_auto_rows": null,
            "grid_column": null,
            "grid_gap": null,
            "grid_row": null,
            "grid_template_areas": null,
            "grid_template_columns": null,
            "grid_template_rows": null,
            "height": null,
            "justify_content": null,
            "justify_items": null,
            "left": null,
            "margin": null,
            "max_height": null,
            "max_width": null,
            "min_height": null,
            "min_width": null,
            "object_fit": null,
            "object_position": null,
            "order": null,
            "overflow": null,
            "overflow_x": null,
            "overflow_y": null,
            "padding": null,
            "right": null,
            "top": null,
            "visibility": null,
            "width": null
          }
        },
        "77e0ec081b2b438d978dc89e537276d5": {
          "model_module": "@jupyter-widgets/controls",
          "model_name": "ProgressStyleModel",
          "model_module_version": "1.5.0",
          "state": {
            "_model_module": "@jupyter-widgets/controls",
            "_model_module_version": "1.5.0",
            "_model_name": "ProgressStyleModel",
            "_view_count": null,
            "_view_module": "@jupyter-widgets/base",
            "_view_module_version": "1.2.0",
            "_view_name": "StyleView",
            "bar_color": null,
            "description_width": ""
          }
        },
        "6331235874df4dc18108cbe7e5b7e95a": {
          "model_module": "@jupyter-widgets/base",
          "model_name": "LayoutModel",
          "model_module_version": "1.2.0",
          "state": {
            "_model_module": "@jupyter-widgets/base",
            "_model_module_version": "1.2.0",
            "_model_name": "LayoutModel",
            "_view_count": null,
            "_view_module": "@jupyter-widgets/base",
            "_view_module_version": "1.2.0",
            "_view_name": "LayoutView",
            "align_content": null,
            "align_items": null,
            "align_self": null,
            "border": null,
            "bottom": null,
            "display": null,
            "flex": null,
            "flex_flow": null,
            "grid_area": null,
            "grid_auto_columns": null,
            "grid_auto_flow": null,
            "grid_auto_rows": null,
            "grid_column": null,
            "grid_gap": null,
            "grid_row": null,
            "grid_template_areas": null,
            "grid_template_columns": null,
            "grid_template_rows": null,
            "height": null,
            "justify_content": null,
            "justify_items": null,
            "left": null,
            "margin": null,
            "max_height": null,
            "max_width": null,
            "min_height": null,
            "min_width": null,
            "object_fit": null,
            "object_position": null,
            "order": null,
            "overflow": null,
            "overflow_x": null,
            "overflow_y": null,
            "padding": null,
            "right": null,
            "top": null,
            "visibility": null,
            "width": null
          }
        },
        "cf7088d5d4534f6ab811e2ba0342932c": {
          "model_module": "@jupyter-widgets/controls",
          "model_name": "DescriptionStyleModel",
          "model_module_version": "1.5.0",
          "state": {
            "_model_module": "@jupyter-widgets/controls",
            "_model_module_version": "1.5.0",
            "_model_name": "DescriptionStyleModel",
            "_view_count": null,
            "_view_module": "@jupyter-widgets/base",
            "_view_module_version": "1.2.0",
            "_view_name": "StyleView",
            "description_width": ""
          }
        },
        "f92b917884614c9fb60215e3a159ba95": {
          "model_module": "@jupyter-widgets/controls",
          "model_name": "HBoxModel",
          "model_module_version": "1.5.0",
          "state": {
            "_dom_classes": [],
            "_model_module": "@jupyter-widgets/controls",
            "_model_module_version": "1.5.0",
            "_model_name": "HBoxModel",
            "_view_count": null,
            "_view_module": "@jupyter-widgets/controls",
            "_view_module_version": "1.5.0",
            "_view_name": "HBoxView",
            "box_style": "",
            "children": [
              "IPY_MODEL_85c0bf56491b47b3a6de9cd8a64e533b",
              "IPY_MODEL_6989a85de63c4cd280b244d4e20b2cb2",
              "IPY_MODEL_cb4cc9c045b742ed8fe2c61e34a416a1"
            ],
            "layout": "IPY_MODEL_ecfb4e1bb6b740259b6bafd369a292b9"
          }
        },
        "85c0bf56491b47b3a6de9cd8a64e533b": {
          "model_module": "@jupyter-widgets/controls",
          "model_name": "HTMLModel",
          "model_module_version": "1.5.0",
          "state": {
            "_dom_classes": [],
            "_model_module": "@jupyter-widgets/controls",
            "_model_module_version": "1.5.0",
            "_model_name": "HTMLModel",
            "_view_count": null,
            "_view_module": "@jupyter-widgets/controls",
            "_view_module_version": "1.5.0",
            "_view_name": "HTMLView",
            "description": "",
            "description_tooltip": null,
            "layout": "IPY_MODEL_ac0a4f2900f847b1b00c6f68db20220d",
            "placeholder": "​",
            "style": "IPY_MODEL_0bc72492eab34ad79fc6b5d005db456d",
            "value": "Downloading tokenizer_config.json: 100%"
          }
        },
        "6989a85de63c4cd280b244d4e20b2cb2": {
          "model_module": "@jupyter-widgets/controls",
          "model_name": "FloatProgressModel",
          "model_module_version": "1.5.0",
          "state": {
            "_dom_classes": [],
            "_model_module": "@jupyter-widgets/controls",
            "_model_module_version": "1.5.0",
            "_model_name": "FloatProgressModel",
            "_view_count": null,
            "_view_module": "@jupyter-widgets/controls",
            "_view_module_version": "1.5.0",
            "_view_name": "ProgressView",
            "bar_style": "success",
            "description": "",
            "description_tooltip": null,
            "layout": "IPY_MODEL_0d47fecc58a047fda90a574923211705",
            "max": 25,
            "min": 0,
            "orientation": "horizontal",
            "style": "IPY_MODEL_c2ed606448044deb836f6da340e93c36",
            "value": 25
          }
        },
        "cb4cc9c045b742ed8fe2c61e34a416a1": {
          "model_module": "@jupyter-widgets/controls",
          "model_name": "HTMLModel",
          "model_module_version": "1.5.0",
          "state": {
            "_dom_classes": [],
            "_model_module": "@jupyter-widgets/controls",
            "_model_module_version": "1.5.0",
            "_model_name": "HTMLModel",
            "_view_count": null,
            "_view_module": "@jupyter-widgets/controls",
            "_view_module_version": "1.5.0",
            "_view_name": "HTMLView",
            "description": "",
            "description_tooltip": null,
            "layout": "IPY_MODEL_5b38024d2914448ca68a34353cbd2762",
            "placeholder": "​",
            "style": "IPY_MODEL_5d44dfe817954a35b1ae521b548d29d8",
            "value": " 25.0/25.0 [00:00&lt;00:00, 316B/s]"
          }
        },
        "ecfb4e1bb6b740259b6bafd369a292b9": {
          "model_module": "@jupyter-widgets/base",
          "model_name": "LayoutModel",
          "model_module_version": "1.2.0",
          "state": {
            "_model_module": "@jupyter-widgets/base",
            "_model_module_version": "1.2.0",
            "_model_name": "LayoutModel",
            "_view_count": null,
            "_view_module": "@jupyter-widgets/base",
            "_view_module_version": "1.2.0",
            "_view_name": "LayoutView",
            "align_content": null,
            "align_items": null,
            "align_self": null,
            "border": null,
            "bottom": null,
            "display": null,
            "flex": null,
            "flex_flow": null,
            "grid_area": null,
            "grid_auto_columns": null,
            "grid_auto_flow": null,
            "grid_auto_rows": null,
            "grid_column": null,
            "grid_gap": null,
            "grid_row": null,
            "grid_template_areas": null,
            "grid_template_columns": null,
            "grid_template_rows": null,
            "height": null,
            "justify_content": null,
            "justify_items": null,
            "left": null,
            "margin": null,
            "max_height": null,
            "max_width": null,
            "min_height": null,
            "min_width": null,
            "object_fit": null,
            "object_position": null,
            "order": null,
            "overflow": null,
            "overflow_x": null,
            "overflow_y": null,
            "padding": null,
            "right": null,
            "top": null,
            "visibility": null,
            "width": null
          }
        },
        "ac0a4f2900f847b1b00c6f68db20220d": {
          "model_module": "@jupyter-widgets/base",
          "model_name": "LayoutModel",
          "model_module_version": "1.2.0",
          "state": {
            "_model_module": "@jupyter-widgets/base",
            "_model_module_version": "1.2.0",
            "_model_name": "LayoutModel",
            "_view_count": null,
            "_view_module": "@jupyter-widgets/base",
            "_view_module_version": "1.2.0",
            "_view_name": "LayoutView",
            "align_content": null,
            "align_items": null,
            "align_self": null,
            "border": null,
            "bottom": null,
            "display": null,
            "flex": null,
            "flex_flow": null,
            "grid_area": null,
            "grid_auto_columns": null,
            "grid_auto_flow": null,
            "grid_auto_rows": null,
            "grid_column": null,
            "grid_gap": null,
            "grid_row": null,
            "grid_template_areas": null,
            "grid_template_columns": null,
            "grid_template_rows": null,
            "height": null,
            "justify_content": null,
            "justify_items": null,
            "left": null,
            "margin": null,
            "max_height": null,
            "max_width": null,
            "min_height": null,
            "min_width": null,
            "object_fit": null,
            "object_position": null,
            "order": null,
            "overflow": null,
            "overflow_x": null,
            "overflow_y": null,
            "padding": null,
            "right": null,
            "top": null,
            "visibility": null,
            "width": null
          }
        },
        "0bc72492eab34ad79fc6b5d005db456d": {
          "model_module": "@jupyter-widgets/controls",
          "model_name": "DescriptionStyleModel",
          "model_module_version": "1.5.0",
          "state": {
            "_model_module": "@jupyter-widgets/controls",
            "_model_module_version": "1.5.0",
            "_model_name": "DescriptionStyleModel",
            "_view_count": null,
            "_view_module": "@jupyter-widgets/base",
            "_view_module_version": "1.2.0",
            "_view_name": "StyleView",
            "description_width": ""
          }
        },
        "0d47fecc58a047fda90a574923211705": {
          "model_module": "@jupyter-widgets/base",
          "model_name": "LayoutModel",
          "model_module_version": "1.2.0",
          "state": {
            "_model_module": "@jupyter-widgets/base",
            "_model_module_version": "1.2.0",
            "_model_name": "LayoutModel",
            "_view_count": null,
            "_view_module": "@jupyter-widgets/base",
            "_view_module_version": "1.2.0",
            "_view_name": "LayoutView",
            "align_content": null,
            "align_items": null,
            "align_self": null,
            "border": null,
            "bottom": null,
            "display": null,
            "flex": null,
            "flex_flow": null,
            "grid_area": null,
            "grid_auto_columns": null,
            "grid_auto_flow": null,
            "grid_auto_rows": null,
            "grid_column": null,
            "grid_gap": null,
            "grid_row": null,
            "grid_template_areas": null,
            "grid_template_columns": null,
            "grid_template_rows": null,
            "height": null,
            "justify_content": null,
            "justify_items": null,
            "left": null,
            "margin": null,
            "max_height": null,
            "max_width": null,
            "min_height": null,
            "min_width": null,
            "object_fit": null,
            "object_position": null,
            "order": null,
            "overflow": null,
            "overflow_x": null,
            "overflow_y": null,
            "padding": null,
            "right": null,
            "top": null,
            "visibility": null,
            "width": null
          }
        },
        "c2ed606448044deb836f6da340e93c36": {
          "model_module": "@jupyter-widgets/controls",
          "model_name": "ProgressStyleModel",
          "model_module_version": "1.5.0",
          "state": {
            "_model_module": "@jupyter-widgets/controls",
            "_model_module_version": "1.5.0",
            "_model_name": "ProgressStyleModel",
            "_view_count": null,
            "_view_module": "@jupyter-widgets/base",
            "_view_module_version": "1.2.0",
            "_view_name": "StyleView",
            "bar_color": null,
            "description_width": ""
          }
        },
        "5b38024d2914448ca68a34353cbd2762": {
          "model_module": "@jupyter-widgets/base",
          "model_name": "LayoutModel",
          "model_module_version": "1.2.0",
          "state": {
            "_model_module": "@jupyter-widgets/base",
            "_model_module_version": "1.2.0",
            "_model_name": "LayoutModel",
            "_view_count": null,
            "_view_module": "@jupyter-widgets/base",
            "_view_module_version": "1.2.0",
            "_view_name": "LayoutView",
            "align_content": null,
            "align_items": null,
            "align_self": null,
            "border": null,
            "bottom": null,
            "display": null,
            "flex": null,
            "flex_flow": null,
            "grid_area": null,
            "grid_auto_columns": null,
            "grid_auto_flow": null,
            "grid_auto_rows": null,
            "grid_column": null,
            "grid_gap": null,
            "grid_row": null,
            "grid_template_areas": null,
            "grid_template_columns": null,
            "grid_template_rows": null,
            "height": null,
            "justify_content": null,
            "justify_items": null,
            "left": null,
            "margin": null,
            "max_height": null,
            "max_width": null,
            "min_height": null,
            "min_width": null,
            "object_fit": null,
            "object_position": null,
            "order": null,
            "overflow": null,
            "overflow_x": null,
            "overflow_y": null,
            "padding": null,
            "right": null,
            "top": null,
            "visibility": null,
            "width": null
          }
        },
        "5d44dfe817954a35b1ae521b548d29d8": {
          "model_module": "@jupyter-widgets/controls",
          "model_name": "DescriptionStyleModel",
          "model_module_version": "1.5.0",
          "state": {
            "_model_module": "@jupyter-widgets/controls",
            "_model_module_version": "1.5.0",
            "_model_name": "DescriptionStyleModel",
            "_view_count": null,
            "_view_module": "@jupyter-widgets/base",
            "_view_module_version": "1.2.0",
            "_view_name": "StyleView",
            "description_width": ""
          }
        },
        "46fb5e800cd24c248655feb882d8778e": {
          "model_module": "@jupyter-widgets/controls",
          "model_name": "HBoxModel",
          "model_module_version": "1.5.0",
          "state": {
            "_dom_classes": [],
            "_model_module": "@jupyter-widgets/controls",
            "_model_module_version": "1.5.0",
            "_model_name": "HBoxModel",
            "_view_count": null,
            "_view_module": "@jupyter-widgets/controls",
            "_view_module_version": "1.5.0",
            "_view_name": "HBoxView",
            "box_style": "",
            "children": [
              "IPY_MODEL_7b082325e26e4c4591e6c0ff7b33f634",
              "IPY_MODEL_2a9b6d9fb3144a68b3605c054899169e",
              "IPY_MODEL_657930f389604f8ab8e286707dc758ca"
            ],
            "layout": "IPY_MODEL_665aaed019e74cf1aaceba278121b3de"
          }
        },
        "7b082325e26e4c4591e6c0ff7b33f634": {
          "model_module": "@jupyter-widgets/controls",
          "model_name": "HTMLModel",
          "model_module_version": "1.5.0",
          "state": {
            "_dom_classes": [],
            "_model_module": "@jupyter-widgets/controls",
            "_model_module_version": "1.5.0",
            "_model_name": "HTMLModel",
            "_view_count": null,
            "_view_module": "@jupyter-widgets/controls",
            "_view_module_version": "1.5.0",
            "_view_name": "HTMLView",
            "description": "",
            "description_tooltip": null,
            "layout": "IPY_MODEL_6c9422edebb543ec9fd43fbe8aef1d7d",
            "placeholder": "​",
            "style": "IPY_MODEL_99927fb2faf945cb873792b45f5b3217",
            "value": "Downloading config.json: 100%"
          }
        },
        "2a9b6d9fb3144a68b3605c054899169e": {
          "model_module": "@jupyter-widgets/controls",
          "model_name": "FloatProgressModel",
          "model_module_version": "1.5.0",
          "state": {
            "_dom_classes": [],
            "_model_module": "@jupyter-widgets/controls",
            "_model_module_version": "1.5.0",
            "_model_name": "FloatProgressModel",
            "_view_count": null,
            "_view_module": "@jupyter-widgets/controls",
            "_view_module_version": "1.5.0",
            "_view_name": "ProgressView",
            "bar_style": "success",
            "description": "",
            "description_tooltip": null,
            "layout": "IPY_MODEL_b00d108bd479485c9ca103889de50250",
            "max": 481,
            "min": 0,
            "orientation": "horizontal",
            "style": "IPY_MODEL_882ad6ec69b7409b9bb3892358344769",
            "value": 481
          }
        },
        "657930f389604f8ab8e286707dc758ca": {
          "model_module": "@jupyter-widgets/controls",
          "model_name": "HTMLModel",
          "model_module_version": "1.5.0",
          "state": {
            "_dom_classes": [],
            "_model_module": "@jupyter-widgets/controls",
            "_model_module_version": "1.5.0",
            "_model_name": "HTMLModel",
            "_view_count": null,
            "_view_module": "@jupyter-widgets/controls",
            "_view_module_version": "1.5.0",
            "_view_name": "HTMLView",
            "description": "",
            "description_tooltip": null,
            "layout": "IPY_MODEL_589b25ba1659418596d89656195287b8",
            "placeholder": "​",
            "style": "IPY_MODEL_6a7a76c655ba4e47b3e379c7f0ddd70d",
            "value": " 481/481 [00:00&lt;00:00, 7.40kB/s]"
          }
        },
        "665aaed019e74cf1aaceba278121b3de": {
          "model_module": "@jupyter-widgets/base",
          "model_name": "LayoutModel",
          "model_module_version": "1.2.0",
          "state": {
            "_model_module": "@jupyter-widgets/base",
            "_model_module_version": "1.2.0",
            "_model_name": "LayoutModel",
            "_view_count": null,
            "_view_module": "@jupyter-widgets/base",
            "_view_module_version": "1.2.0",
            "_view_name": "LayoutView",
            "align_content": null,
            "align_items": null,
            "align_self": null,
            "border": null,
            "bottom": null,
            "display": null,
            "flex": null,
            "flex_flow": null,
            "grid_area": null,
            "grid_auto_columns": null,
            "grid_auto_flow": null,
            "grid_auto_rows": null,
            "grid_column": null,
            "grid_gap": null,
            "grid_row": null,
            "grid_template_areas": null,
            "grid_template_columns": null,
            "grid_template_rows": null,
            "height": null,
            "justify_content": null,
            "justify_items": null,
            "left": null,
            "margin": null,
            "max_height": null,
            "max_width": null,
            "min_height": null,
            "min_width": null,
            "object_fit": null,
            "object_position": null,
            "order": null,
            "overflow": null,
            "overflow_x": null,
            "overflow_y": null,
            "padding": null,
            "right": null,
            "top": null,
            "visibility": null,
            "width": null
          }
        },
        "6c9422edebb543ec9fd43fbe8aef1d7d": {
          "model_module": "@jupyter-widgets/base",
          "model_name": "LayoutModel",
          "model_module_version": "1.2.0",
          "state": {
            "_model_module": "@jupyter-widgets/base",
            "_model_module_version": "1.2.0",
            "_model_name": "LayoutModel",
            "_view_count": null,
            "_view_module": "@jupyter-widgets/base",
            "_view_module_version": "1.2.0",
            "_view_name": "LayoutView",
            "align_content": null,
            "align_items": null,
            "align_self": null,
            "border": null,
            "bottom": null,
            "display": null,
            "flex": null,
            "flex_flow": null,
            "grid_area": null,
            "grid_auto_columns": null,
            "grid_auto_flow": null,
            "grid_auto_rows": null,
            "grid_column": null,
            "grid_gap": null,
            "grid_row": null,
            "grid_template_areas": null,
            "grid_template_columns": null,
            "grid_template_rows": null,
            "height": null,
            "justify_content": null,
            "justify_items": null,
            "left": null,
            "margin": null,
            "max_height": null,
            "max_width": null,
            "min_height": null,
            "min_width": null,
            "object_fit": null,
            "object_position": null,
            "order": null,
            "overflow": null,
            "overflow_x": null,
            "overflow_y": null,
            "padding": null,
            "right": null,
            "top": null,
            "visibility": null,
            "width": null
          }
        },
        "99927fb2faf945cb873792b45f5b3217": {
          "model_module": "@jupyter-widgets/controls",
          "model_name": "DescriptionStyleModel",
          "model_module_version": "1.5.0",
          "state": {
            "_model_module": "@jupyter-widgets/controls",
            "_model_module_version": "1.5.0",
            "_model_name": "DescriptionStyleModel",
            "_view_count": null,
            "_view_module": "@jupyter-widgets/base",
            "_view_module_version": "1.2.0",
            "_view_name": "StyleView",
            "description_width": ""
          }
        },
        "b00d108bd479485c9ca103889de50250": {
          "model_module": "@jupyter-widgets/base",
          "model_name": "LayoutModel",
          "model_module_version": "1.2.0",
          "state": {
            "_model_module": "@jupyter-widgets/base",
            "_model_module_version": "1.2.0",
            "_model_name": "LayoutModel",
            "_view_count": null,
            "_view_module": "@jupyter-widgets/base",
            "_view_module_version": "1.2.0",
            "_view_name": "LayoutView",
            "align_content": null,
            "align_items": null,
            "align_self": null,
            "border": null,
            "bottom": null,
            "display": null,
            "flex": null,
            "flex_flow": null,
            "grid_area": null,
            "grid_auto_columns": null,
            "grid_auto_flow": null,
            "grid_auto_rows": null,
            "grid_column": null,
            "grid_gap": null,
            "grid_row": null,
            "grid_template_areas": null,
            "grid_template_columns": null,
            "grid_template_rows": null,
            "height": null,
            "justify_content": null,
            "justify_items": null,
            "left": null,
            "margin": null,
            "max_height": null,
            "max_width": null,
            "min_height": null,
            "min_width": null,
            "object_fit": null,
            "object_position": null,
            "order": null,
            "overflow": null,
            "overflow_x": null,
            "overflow_y": null,
            "padding": null,
            "right": null,
            "top": null,
            "visibility": null,
            "width": null
          }
        },
        "882ad6ec69b7409b9bb3892358344769": {
          "model_module": "@jupyter-widgets/controls",
          "model_name": "ProgressStyleModel",
          "model_module_version": "1.5.0",
          "state": {
            "_model_module": "@jupyter-widgets/controls",
            "_model_module_version": "1.5.0",
            "_model_name": "ProgressStyleModel",
            "_view_count": null,
            "_view_module": "@jupyter-widgets/base",
            "_view_module_version": "1.2.0",
            "_view_name": "StyleView",
            "bar_color": null,
            "description_width": ""
          }
        },
        "589b25ba1659418596d89656195287b8": {
          "model_module": "@jupyter-widgets/base",
          "model_name": "LayoutModel",
          "model_module_version": "1.2.0",
          "state": {
            "_model_module": "@jupyter-widgets/base",
            "_model_module_version": "1.2.0",
            "_model_name": "LayoutModel",
            "_view_count": null,
            "_view_module": "@jupyter-widgets/base",
            "_view_module_version": "1.2.0",
            "_view_name": "LayoutView",
            "align_content": null,
            "align_items": null,
            "align_self": null,
            "border": null,
            "bottom": null,
            "display": null,
            "flex": null,
            "flex_flow": null,
            "grid_area": null,
            "grid_auto_columns": null,
            "grid_auto_flow": null,
            "grid_auto_rows": null,
            "grid_column": null,
            "grid_gap": null,
            "grid_row": null,
            "grid_template_areas": null,
            "grid_template_columns": null,
            "grid_template_rows": null,
            "height": null,
            "justify_content": null,
            "justify_items": null,
            "left": null,
            "margin": null,
            "max_height": null,
            "max_width": null,
            "min_height": null,
            "min_width": null,
            "object_fit": null,
            "object_position": null,
            "order": null,
            "overflow": null,
            "overflow_x": null,
            "overflow_y": null,
            "padding": null,
            "right": null,
            "top": null,
            "visibility": null,
            "width": null
          }
        },
        "6a7a76c655ba4e47b3e379c7f0ddd70d": {
          "model_module": "@jupyter-widgets/controls",
          "model_name": "DescriptionStyleModel",
          "model_module_version": "1.5.0",
          "state": {
            "_model_module": "@jupyter-widgets/controls",
            "_model_module_version": "1.5.0",
            "_model_name": "DescriptionStyleModel",
            "_view_count": null,
            "_view_module": "@jupyter-widgets/base",
            "_view_module_version": "1.2.0",
            "_view_name": "StyleView",
            "description_width": ""
          }
        },
        "c4b8043220644255ba510fa44ddc97f0": {
          "model_module": "@jupyter-widgets/controls",
          "model_name": "HBoxModel",
          "model_module_version": "1.5.0",
          "state": {
            "_dom_classes": [],
            "_model_module": "@jupyter-widgets/controls",
            "_model_module_version": "1.5.0",
            "_model_name": "HBoxModel",
            "_view_count": null,
            "_view_module": "@jupyter-widgets/controls",
            "_view_module_version": "1.5.0",
            "_view_name": "HBoxView",
            "box_style": "",
            "children": [
              "IPY_MODEL_ceb14bdcd3ba451a9d932965c5a4b3bf",
              "IPY_MODEL_13e27eb92e464258a26c20d6c72d8b66",
              "IPY_MODEL_3352eba2fd7f49e58610a5bc302adb02"
            ],
            "layout": "IPY_MODEL_bf4f9c55209c409f91b0d50fbab9b14a"
          }
        },
        "ceb14bdcd3ba451a9d932965c5a4b3bf": {
          "model_module": "@jupyter-widgets/controls",
          "model_name": "HTMLModel",
          "model_module_version": "1.5.0",
          "state": {
            "_dom_classes": [],
            "_model_module": "@jupyter-widgets/controls",
            "_model_module_version": "1.5.0",
            "_model_name": "HTMLModel",
            "_view_count": null,
            "_view_module": "@jupyter-widgets/controls",
            "_view_module_version": "1.5.0",
            "_view_name": "HTMLView",
            "description": "",
            "description_tooltip": null,
            "layout": "IPY_MODEL_a8ea0704c91e48c8846116acc0f49f0b",
            "placeholder": "​",
            "style": "IPY_MODEL_856ed9d61ce440f29c16b0e427226c0f",
            "value": "Downloading tf_model.h5: 100%"
          }
        },
        "13e27eb92e464258a26c20d6c72d8b66": {
          "model_module": "@jupyter-widgets/controls",
          "model_name": "FloatProgressModel",
          "model_module_version": "1.5.0",
          "state": {
            "_dom_classes": [],
            "_model_module": "@jupyter-widgets/controls",
            "_model_module_version": "1.5.0",
            "_model_name": "FloatProgressModel",
            "_view_count": null,
            "_view_module": "@jupyter-widgets/controls",
            "_view_module_version": "1.5.0",
            "_view_name": "ProgressView",
            "bar_style": "success",
            "description": "",
            "description_tooltip": null,
            "layout": "IPY_MODEL_cbaf1b33046b49a28d97c6b769b9b660",
            "max": 657434796,
            "min": 0,
            "orientation": "horizontal",
            "style": "IPY_MODEL_27d0b684bb74456d870e02731f038ded",
            "value": 657434796
          }
        },
        "3352eba2fd7f49e58610a5bc302adb02": {
          "model_module": "@jupyter-widgets/controls",
          "model_name": "HTMLModel",
          "model_module_version": "1.5.0",
          "state": {
            "_dom_classes": [],
            "_model_module": "@jupyter-widgets/controls",
            "_model_module_version": "1.5.0",
            "_model_name": "HTMLModel",
            "_view_count": null,
            "_view_module": "@jupyter-widgets/controls",
            "_view_module_version": "1.5.0",
            "_view_name": "HTMLView",
            "description": "",
            "description_tooltip": null,
            "layout": "IPY_MODEL_cb811283f9fc4eea84f2ee1733409218",
            "placeholder": "​",
            "style": "IPY_MODEL_29b86266909843139f8a90c0c28d98b3",
            "value": " 627M/627M [00:11&lt;00:00, 69.3MB/s]"
          }
        },
        "bf4f9c55209c409f91b0d50fbab9b14a": {
          "model_module": "@jupyter-widgets/base",
          "model_name": "LayoutModel",
          "model_module_version": "1.2.0",
          "state": {
            "_model_module": "@jupyter-widgets/base",
            "_model_module_version": "1.2.0",
            "_model_name": "LayoutModel",
            "_view_count": null,
            "_view_module": "@jupyter-widgets/base",
            "_view_module_version": "1.2.0",
            "_view_name": "LayoutView",
            "align_content": null,
            "align_items": null,
            "align_self": null,
            "border": null,
            "bottom": null,
            "display": null,
            "flex": null,
            "flex_flow": null,
            "grid_area": null,
            "grid_auto_columns": null,
            "grid_auto_flow": null,
            "grid_auto_rows": null,
            "grid_column": null,
            "grid_gap": null,
            "grid_row": null,
            "grid_template_areas": null,
            "grid_template_columns": null,
            "grid_template_rows": null,
            "height": null,
            "justify_content": null,
            "justify_items": null,
            "left": null,
            "margin": null,
            "max_height": null,
            "max_width": null,
            "min_height": null,
            "min_width": null,
            "object_fit": null,
            "object_position": null,
            "order": null,
            "overflow": null,
            "overflow_x": null,
            "overflow_y": null,
            "padding": null,
            "right": null,
            "top": null,
            "visibility": null,
            "width": null
          }
        },
        "a8ea0704c91e48c8846116acc0f49f0b": {
          "model_module": "@jupyter-widgets/base",
          "model_name": "LayoutModel",
          "model_module_version": "1.2.0",
          "state": {
            "_model_module": "@jupyter-widgets/base",
            "_model_module_version": "1.2.0",
            "_model_name": "LayoutModel",
            "_view_count": null,
            "_view_module": "@jupyter-widgets/base",
            "_view_module_version": "1.2.0",
            "_view_name": "LayoutView",
            "align_content": null,
            "align_items": null,
            "align_self": null,
            "border": null,
            "bottom": null,
            "display": null,
            "flex": null,
            "flex_flow": null,
            "grid_area": null,
            "grid_auto_columns": null,
            "grid_auto_flow": null,
            "grid_auto_rows": null,
            "grid_column": null,
            "grid_gap": null,
            "grid_row": null,
            "grid_template_areas": null,
            "grid_template_columns": null,
            "grid_template_rows": null,
            "height": null,
            "justify_content": null,
            "justify_items": null,
            "left": null,
            "margin": null,
            "max_height": null,
            "max_width": null,
            "min_height": null,
            "min_width": null,
            "object_fit": null,
            "object_position": null,
            "order": null,
            "overflow": null,
            "overflow_x": null,
            "overflow_y": null,
            "padding": null,
            "right": null,
            "top": null,
            "visibility": null,
            "width": null
          }
        },
        "856ed9d61ce440f29c16b0e427226c0f": {
          "model_module": "@jupyter-widgets/controls",
          "model_name": "DescriptionStyleModel",
          "model_module_version": "1.5.0",
          "state": {
            "_model_module": "@jupyter-widgets/controls",
            "_model_module_version": "1.5.0",
            "_model_name": "DescriptionStyleModel",
            "_view_count": null,
            "_view_module": "@jupyter-widgets/base",
            "_view_module_version": "1.2.0",
            "_view_name": "StyleView",
            "description_width": ""
          }
        },
        "cbaf1b33046b49a28d97c6b769b9b660": {
          "model_module": "@jupyter-widgets/base",
          "model_name": "LayoutModel",
          "model_module_version": "1.2.0",
          "state": {
            "_model_module": "@jupyter-widgets/base",
            "_model_module_version": "1.2.0",
            "_model_name": "LayoutModel",
            "_view_count": null,
            "_view_module": "@jupyter-widgets/base",
            "_view_module_version": "1.2.0",
            "_view_name": "LayoutView",
            "align_content": null,
            "align_items": null,
            "align_self": null,
            "border": null,
            "bottom": null,
            "display": null,
            "flex": null,
            "flex_flow": null,
            "grid_area": null,
            "grid_auto_columns": null,
            "grid_auto_flow": null,
            "grid_auto_rows": null,
            "grid_column": null,
            "grid_gap": null,
            "grid_row": null,
            "grid_template_areas": null,
            "grid_template_columns": null,
            "grid_template_rows": null,
            "height": null,
            "justify_content": null,
            "justify_items": null,
            "left": null,
            "margin": null,
            "max_height": null,
            "max_width": null,
            "min_height": null,
            "min_width": null,
            "object_fit": null,
            "object_position": null,
            "order": null,
            "overflow": null,
            "overflow_x": null,
            "overflow_y": null,
            "padding": null,
            "right": null,
            "top": null,
            "visibility": null,
            "width": null
          }
        },
        "27d0b684bb74456d870e02731f038ded": {
          "model_module": "@jupyter-widgets/controls",
          "model_name": "ProgressStyleModel",
          "model_module_version": "1.5.0",
          "state": {
            "_model_module": "@jupyter-widgets/controls",
            "_model_module_version": "1.5.0",
            "_model_name": "ProgressStyleModel",
            "_view_count": null,
            "_view_module": "@jupyter-widgets/base",
            "_view_module_version": "1.2.0",
            "_view_name": "StyleView",
            "bar_color": null,
            "description_width": ""
          }
        },
        "cb811283f9fc4eea84f2ee1733409218": {
          "model_module": "@jupyter-widgets/base",
          "model_name": "LayoutModel",
          "model_module_version": "1.2.0",
          "state": {
            "_model_module": "@jupyter-widgets/base",
            "_model_module_version": "1.2.0",
            "_model_name": "LayoutModel",
            "_view_count": null,
            "_view_module": "@jupyter-widgets/base",
            "_view_module_version": "1.2.0",
            "_view_name": "LayoutView",
            "align_content": null,
            "align_items": null,
            "align_self": null,
            "border": null,
            "bottom": null,
            "display": null,
            "flex": null,
            "flex_flow": null,
            "grid_area": null,
            "grid_auto_columns": null,
            "grid_auto_flow": null,
            "grid_auto_rows": null,
            "grid_column": null,
            "grid_gap": null,
            "grid_row": null,
            "grid_template_areas": null,
            "grid_template_columns": null,
            "grid_template_rows": null,
            "height": null,
            "justify_content": null,
            "justify_items": null,
            "left": null,
            "margin": null,
            "max_height": null,
            "max_width": null,
            "min_height": null,
            "min_width": null,
            "object_fit": null,
            "object_position": null,
            "order": null,
            "overflow": null,
            "overflow_x": null,
            "overflow_y": null,
            "padding": null,
            "right": null,
            "top": null,
            "visibility": null,
            "width": null
          }
        },
        "29b86266909843139f8a90c0c28d98b3": {
          "model_module": "@jupyter-widgets/controls",
          "model_name": "DescriptionStyleModel",
          "model_module_version": "1.5.0",
          "state": {
            "_model_module": "@jupyter-widgets/controls",
            "_model_module_version": "1.5.0",
            "_model_name": "DescriptionStyleModel",
            "_view_count": null,
            "_view_module": "@jupyter-widgets/base",
            "_view_module_version": "1.2.0",
            "_view_name": "StyleView",
            "description_width": ""
          }
        }
      }
    }
  },
  "nbformat": 4,
  "nbformat_minor": 0
}